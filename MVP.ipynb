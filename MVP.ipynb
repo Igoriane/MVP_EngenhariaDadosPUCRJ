{
 "cells": [
  {
   "cell_type": "markdown",
   "metadata": {
    "application/vnd.databricks.v1+cell": {
     "cellMetadata": {},
     "inputWidgets": {},
     "nuid": "010b376b-5222-464f-8965-bcbb772c086a",
     "showTitle": false,
     "tableResultSettingsMap": {},
     "title": ""
    }
   },
   "source": [
    "## MVP da sprint de Engenharia de Dados\n",
    "### Perguntas a serem respondidas:\n",
    "- Como a empresa está desempenhando ao longo do tempo? Existe sazonalidade nas vendas? Existe evolução ou involução ao longo dos anos?\n",
    "- Qual a região mais lucrativa para a empresa? Ela deve investir em lojas em qual região?\n",
    "- Qual o tipo de produto ao qual é mais vendido pela empresa? Existe um desempenho semelhante? Pode-se dizer que a região com mais vendas impacta no produto mais vendido?"
   ]
  },
  {
   "cell_type": "code",
   "execution_count": 0,
   "metadata": {
    "application/vnd.databricks.v1+cell": {
     "cellMetadata": {
      "byteLimit": 2048000,
      "rowLimit": 10000
     },
     "inputWidgets": {},
     "nuid": "cd8538f9-cc00-41ea-b8a3-621cb5d36612",
     "showTitle": false,
     "tableResultSettingsMap": {},
     "title": ""
    }
   },
   "outputs": [
    {
     "output_type": "display_data",
     "data": {
      "text/html": [
       "<style scoped>\n",
       "  .table-result-container {\n",
       "    max-height: 300px;\n",
       "    overflow: auto;\n",
       "  }\n",
       "  table, th, td {\n",
       "    border: 1px solid black;\n",
       "    border-collapse: collapse;\n",
       "  }\n",
       "  th, td {\n",
       "    padding: 5px;\n",
       "  }\n",
       "  th {\n",
       "    text-align: left;\n",
       "  }\n",
       "</style><div class='table-result-container'><table class='table-result'><thead style='background-color: white'><tr><th>path</th><th>name</th><th>size</th><th>modificationTime</th></tr></thead><tbody><tr><td>dbfs:/FileStore/tables/categories-1.csv</td><td>categories-1.csv</td><td>2465</td><td>1744339816000</td></tr><tr><td>dbfs:/FileStore/tables/categories.csv</td><td>categories.csv</td><td>2465</td><td>1744339764000</td></tr><tr><td>dbfs:/FileStore/tables/customers-1.csv</td><td>customers-1.csv</td><td>11842</td><td>1744339816000</td></tr><tr><td>dbfs:/FileStore/tables/customers.csv</td><td>customers.csv</td><td>11842</td><td>1744339764000</td></tr><tr><td>dbfs:/FileStore/tables/employee_territories-1.csv</td><td>employee_territories-1.csv</td><td>415</td><td>1744339816000</td></tr><tr><td>dbfs:/FileStore/tables/employee_territories.csv</td><td>employee_territories.csv</td><td>415</td><td>1744339762000</td></tr><tr><td>dbfs:/FileStore/tables/employees-1.csv</td><td>employees-1.csv</td><td>6161</td><td>1744339816000</td></tr><tr><td>dbfs:/FileStore/tables/employees.csv</td><td>employees.csv</td><td>6161</td><td>1744339762000</td></tr><tr><td>dbfs:/FileStore/tables/order_details-1.csv</td><td>order_details-1.csv</td><td>44378</td><td>1744339816000</td></tr><tr><td>dbfs:/FileStore/tables/order_details.csv</td><td>order_details.csv</td><td>44378</td><td>1744339763000</td></tr><tr><td>dbfs:/FileStore/tables/orders-1.csv</td><td>orders-1.csv</td><td>132533</td><td>1744339817000</td></tr><tr><td>dbfs:/FileStore/tables/orders.csv</td><td>orders.csv</td><td>132533</td><td>1744339763000</td></tr><tr><td>dbfs:/FileStore/tables/products-1.csv</td><td>products-1.csv</td><td>4475</td><td>1744339815000</td></tr><tr><td>dbfs:/FileStore/tables/products.csv</td><td>products.csv</td><td>4475</td><td>1744339763000</td></tr><tr><td>dbfs:/FileStore/tables/regions-1.csv</td><td>regions-1.csv</td><td>69</td><td>1744339815000</td></tr><tr><td>dbfs:/FileStore/tables/regions.csv</td><td>regions.csv</td><td>69</td><td>1744339764000</td></tr><tr><td>dbfs:/FileStore/tables/shippers-1.csv</td><td>shippers-1.csv</td><td>126</td><td>1744339815000</td></tr><tr><td>dbfs:/FileStore/tables/shippers.csv</td><td>shippers.csv</td><td>126</td><td>1744339764000</td></tr><tr><td>dbfs:/FileStore/tables/suppliers-1.csv</td><td>suppliers-1.csv</td><td>4229</td><td>1744339815000</td></tr><tr><td>dbfs:/FileStore/tables/suppliers.csv</td><td>suppliers.csv</td><td>4229</td><td>1744339764000</td></tr><tr><td>dbfs:/FileStore/tables/territories-1.csv</td><td>territories-1.csv</td><td>965</td><td>1744339816000</td></tr><tr><td>dbfs:/FileStore/tables/territories.csv</td><td>territories.csv</td><td>965</td><td>1744339764000</td></tr></tbody></table></div>"
      ]
     },
     "metadata": {
      "application/vnd.databricks.v1+output": {
       "addedWidgets": {},
       "aggData": [],
       "aggError": "",
       "aggOverflow": false,
       "aggSchema": [],
       "aggSeriesLimitReached": false,
       "aggType": "",
       "arguments": {},
       "columnCustomDisplayInfos": {},
       "data": [
        [
         "dbfs:/FileStore/tables/categories-1.csv",
         "categories-1.csv",
         2465,
         1744339816000
        ],
        [
         "dbfs:/FileStore/tables/categories.csv",
         "categories.csv",
         2465,
         1744339764000
        ],
        [
         "dbfs:/FileStore/tables/customers-1.csv",
         "customers-1.csv",
         11842,
         1744339816000
        ],
        [
         "dbfs:/FileStore/tables/customers.csv",
         "customers.csv",
         11842,
         1744339764000
        ],
        [
         "dbfs:/FileStore/tables/employee_territories-1.csv",
         "employee_territories-1.csv",
         415,
         1744339816000
        ],
        [
         "dbfs:/FileStore/tables/employee_territories.csv",
         "employee_territories.csv",
         415,
         1744339762000
        ],
        [
         "dbfs:/FileStore/tables/employees-1.csv",
         "employees-1.csv",
         6161,
         1744339816000
        ],
        [
         "dbfs:/FileStore/tables/employees.csv",
         "employees.csv",
         6161,
         1744339762000
        ],
        [
         "dbfs:/FileStore/tables/order_details-1.csv",
         "order_details-1.csv",
         44378,
         1744339816000
        ],
        [
         "dbfs:/FileStore/tables/order_details.csv",
         "order_details.csv",
         44378,
         1744339763000
        ],
        [
         "dbfs:/FileStore/tables/orders-1.csv",
         "orders-1.csv",
         132533,
         1744339817000
        ],
        [
         "dbfs:/FileStore/tables/orders.csv",
         "orders.csv",
         132533,
         1744339763000
        ],
        [
         "dbfs:/FileStore/tables/products-1.csv",
         "products-1.csv",
         4475,
         1744339815000
        ],
        [
         "dbfs:/FileStore/tables/products.csv",
         "products.csv",
         4475,
         1744339763000
        ],
        [
         "dbfs:/FileStore/tables/regions-1.csv",
         "regions-1.csv",
         69,
         1744339815000
        ],
        [
         "dbfs:/FileStore/tables/regions.csv",
         "regions.csv",
         69,
         1744339764000
        ],
        [
         "dbfs:/FileStore/tables/shippers-1.csv",
         "shippers-1.csv",
         126,
         1744339815000
        ],
        [
         "dbfs:/FileStore/tables/shippers.csv",
         "shippers.csv",
         126,
         1744339764000
        ],
        [
         "dbfs:/FileStore/tables/suppliers-1.csv",
         "suppliers-1.csv",
         4229,
         1744339815000
        ],
        [
         "dbfs:/FileStore/tables/suppliers.csv",
         "suppliers.csv",
         4229,
         1744339764000
        ],
        [
         "dbfs:/FileStore/tables/territories-1.csv",
         "territories-1.csv",
         965,
         1744339816000
        ],
        [
         "dbfs:/FileStore/tables/territories.csv",
         "territories.csv",
         965,
         1744339764000
        ]
       ],
       "datasetInfos": [],
       "dbfsResultPath": null,
       "isJsonSchema": true,
       "metadata": {},
       "overflow": false,
       "plotOptions": {
        "customPlotOptions": {},
        "displayType": "table",
        "pivotAggregation": null,
        "pivotColumns": null,
        "xColumns": null,
        "yColumns": null
       },
       "removedWidgets": [],
       "schema": [
        {
         "metadata": "{}",
         "name": "path",
         "type": "\"string\""
        },
        {
         "metadata": "{}",
         "name": "name",
         "type": "\"string\""
        },
        {
         "metadata": "{}",
         "name": "size",
         "type": "\"long\""
        },
        {
         "metadata": "{}",
         "name": "modificationTime",
         "type": "\"long\""
        }
       ],
       "type": "table"
      }
     },
     "output_type": "display_data"
    }
   ],
   "source": [
    "display(dbutils.fs.ls(\"dbfs:/FileStore/tables/\"))"
   ]
  },
  {
   "cell_type": "code",
   "execution_count": 0,
   "metadata": {
    "application/vnd.databricks.v1+cell": {
     "cellMetadata": {
      "byteLimit": 2048000,
      "rowLimit": 10000
     },
     "inputWidgets": {},
     "nuid": "78b816e1-2b3b-4882-bf43-461dd257a5cd",
     "showTitle": false,
     "tableResultSettingsMap": {},
     "title": ""
    }
   },
   "outputs": [],
   "source": [
    "# Caminhos das camadas\n",
    "caminho_bronze = \"/FileStore/bronze/\"\n",
    "caminho_prata = \"/FileStore/silver/\"\n",
    "caminho_ouro = \"/FileStore/gold/\""
   ]
  },
  {
   "cell_type": "code",
   "execution_count": 0,
   "metadata": {
    "application/vnd.databricks.v1+cell": {
     "cellMetadata": {
      "byteLimit": 2048000,
      "rowLimit": 10000
     },
     "inputWidgets": {},
     "nuid": "6482be4c-f067-47c9-b0ac-35c938b94601",
     "showTitle": false,
     "tableResultSettingsMap": {},
     "title": ""
    }
   },
   "outputs": [
    {
     "output_type": "stream",
     "name": "stdout",
     "output_type": "stream",
     "text": [
      "Tabela categories salva na camada Bronze com sucesso.\nTabela customers salva na camada Bronze com sucesso.\nTabela employees salva na camada Bronze com sucesso.\nTabela employee_territories salva na camada Bronze com sucesso.\nTabela order_details salva na camada Bronze com sucesso.\nTabela orders salva na camada Bronze com sucesso.\nTabela products salva na camada Bronze com sucesso.\nTabela regions salva na camada Bronze com sucesso.\nTabela shippers salva na camada Bronze com sucesso.\nTabela suppliers salva na camada Bronze com sucesso.\nTabela territories salva na camada Bronze com sucesso.\n"
     ]
    }
   ],
   "source": [
    "from pyspark.sql.functions import current_timestamp\n",
    "\n",
    "# Lista das tabelas (arquivos CSV) que você informou\n",
    "tabelas = [\n",
    "    \"categories\",\n",
    "    \"customers\",\n",
    "    \"employees\",\n",
    "    \"employee_territories\",\n",
    "    \"order_details\",\n",
    "    \"orders\",\n",
    "    \"products\",\n",
    "    \"regions\",\n",
    "    \"shippers\",\n",
    "    \"suppliers\",\n",
    "    \"territories\"\n",
    "]\n",
    "\n",
    "# Caminho base onde os arquivos CSV estão\n",
    "caminho_base = \"/FileStore/tables/\"\n",
    "\n",
    "# Loop para ler, adicionar timestamp e salvar como Delta\n",
    "for tabela in tabelas:\n",
    "    caminho_csv = f\"{caminho_base}{tabela}.csv\"\n",
    "    df = (\n",
    "        spark.read.format(\"csv\")\n",
    "        .option(\"header\", True)\n",
    "        .option(\"inferSchema\", True)\n",
    "        .load(caminho_csv)\n",
    "        .withColumn(\"data_ingestao\", current_timestamp())\n",
    "    )\n",
    "    df.write.format(\"delta\").mode(\"overwrite\").save(f\"{caminho_bronze}{tabela}\")\n",
    "    print(f\"Tabela {tabela} salva na camada Bronze com sucesso.\")"
   ]
  },
  {
   "cell_type": "markdown",
   "metadata": {
    "application/vnd.databricks.v1+cell": {
     "cellMetadata": {
      "byteLimit": 2048000,
      "rowLimit": 10000
     },
     "inputWidgets": {},
     "nuid": "e1279b9c-6173-48d6-ac8d-e159a54b02f2",
     "showTitle": false,
     "tableResultSettingsMap": {},
     "title": ""
    }
   },
   "source": [
    "### Tabela Categories"
   ]
  },
  {
   "cell_type": "code",
   "execution_count": 0,
   "metadata": {
    "application/vnd.databricks.v1+cell": {
     "cellMetadata": {
      "byteLimit": 2048000,
      "rowLimit": 10000
     },
     "inputWidgets": {},
     "nuid": "bd82bb99-1479-4d5c-be10-8c36df0f1d44",
     "showTitle": false,
     "tableResultSettingsMap": {},
     "title": ""
    }
   },
   "outputs": [
    {
     "output_type": "stream",
     "name": "stdout",
     "output_type": "stream",
     "text": [
      "Schema de categories:\nroot\n |-- category_id: integer (nullable = true)\n |-- category_name: string (nullable = true)\n |-- description: string (nullable = true)\n |-- picture: string (nullable = true)\n |-- data_ingestao: timestamp (nullable = true)\n\n"
     ]
    },
    {
     "output_type": "display_data",
     "data": {
      "text/html": [
       "<style scoped>\n",
       "  .table-result-container {\n",
       "    max-height: 300px;\n",
       "    overflow: auto;\n",
       "  }\n",
       "  table, th, td {\n",
       "    border: 1px solid black;\n",
       "    border-collapse: collapse;\n",
       "  }\n",
       "  th, td {\n",
       "    padding: 5px;\n",
       "  }\n",
       "  th {\n",
       "    text-align: left;\n",
       "  }\n",
       "</style><div class='table-result-container'><table class='table-result'><thead style='background-color: white'><tr><th>category_id</th><th>category_name</th><th>description</th><th>picture</th><th>data_ingestao</th></tr></thead><tbody><tr><td>1</td><td>Beverages</td><td>Soft drinks, coffees, teas, beers, and ales</td><td>0x151C2F00020000000D000E0014002100FFFFFFFF4269746D617020496D616765005061696E742E5069637475726500010500000200000007000000504272757368000000000000000000A0290000424D98290000000000005600000028000000AC00000078000000010004000000000000000000880B0000880B0000080000</td><td>2025-04-12T00:43:16.698+0000</td></tr><tr><td>2</td><td>Condiments</td><td>Sweet and savory sauces, relishes, spreads, and seasonings</td><td>0x151C2F00020000000D000E0014002100FFFFFFFF4269746D617020496D616765005061696E742E5069637475726500010500000200000007000000504272757368000000000000000000A0290000424D98290000000000005600000028000000AC00000078000000010004000000000000000000880B0000880B0000080000</td><td>2025-04-12T00:43:16.698+0000</td></tr><tr><td>3</td><td>Confections</td><td>Desserts, candies, and sweet breads</td><td>0x151C2F00020000000D000E0014002100FFFFFFFF4269746D617020496D616765005061696E742E5069637475726500010500000200000007000000504272757368000000000000000000A0290000424D98290000000000005600000028000000AC00000078000000010004000000000000000000880B0000880B0000080000</td><td>2025-04-12T00:43:16.698+0000</td></tr><tr><td>4</td><td>Dairy Products</td><td>Cheeses</td><td>0x151C2F00020000000D000E0014002100FFFFFFFF4269746D617020496D616765005061696E742E5069637475726500010500000200000007000000504272757368000000000000000000A0290000424D98290000000000005600000028000000AC00000078000000010004000000000000000000880B0000880B0000080000</td><td>2025-04-12T00:43:16.698+0000</td></tr><tr><td>5</td><td>Grains/Cereals</td><td>Breads, crackers, pasta, and cereal</td><td>0x151C2F00020000000D000E0014002100FFFFFFFF4269746D617020496D616765005061696E742E5069637475726500010500000200000007000000504272757368000000000000000000A0290000424D98290000000000005600000028000000AC00000078000000010004000000000000000000880B0000880B0000080000</td><td>2025-04-12T00:43:16.698+0000</td></tr><tr><td>6</td><td>Meat/Poultry</td><td>Prepared meats</td><td>0x151C2F00020000000D000E0014002100FFFFFFFF4269746D617020496D616765005061696E742E5069637475726500010500000200000007000000504272757368000000000000000000A0290000424D98290000000000005600000028000000AC00000078000000010004000000000000000000880B0000880B0000080000</td><td>2025-04-12T00:43:16.698+0000</td></tr><tr><td>7</td><td>Produce</td><td>Dried fruit and bean curd</td><td>0x151C2F00020000000D000E0014002100FFFFFFFF4269746D617020496D616765005061696E742E5069637475726500010500000200000007000000504272757368000000000000000000A0290000424D98290000000000005600000028000000AC00000078000000010004000000000000000000880B0000880B0000080000</td><td>2025-04-12T00:43:16.698+0000</td></tr><tr><td>8</td><td>Seafood</td><td>Seaweed and fish</td><td>0x151C2F00020000000D000E0014002100FFFFFFFF4269746D617020496D616765005061696E742E5069637475726500010500000200000007000000504272757368000000000000000000A0290000424D98290000000000005600000028000000AC00000078000000010004000000000000000000880B0000880B0000080000</td><td>2025-04-12T00:43:16.698+0000</td></tr></tbody></table></div>"
      ]
     },
     "metadata": {
      "application/vnd.databricks.v1+output": {
       "addedWidgets": {},
       "aggData": [],
       "aggError": "",
       "aggOverflow": false,
       "aggSchema": [],
       "aggSeriesLimitReached": false,
       "aggType": "",
       "arguments": {},
       "columnCustomDisplayInfos": {},
       "data": [
        [
         1,
         "Beverages",
         "Soft drinks, coffees, teas, beers, and ales",
         "0x151C2F00020000000D000E0014002100FFFFFFFF4269746D617020496D616765005061696E742E5069637475726500010500000200000007000000504272757368000000000000000000A0290000424D98290000000000005600000028000000AC00000078000000010004000000000000000000880B0000880B0000080000",
         "2025-04-12T00:43:16.698+0000"
        ],
        [
         2,
         "Condiments",
         "Sweet and savory sauces, relishes, spreads, and seasonings",
         "0x151C2F00020000000D000E0014002100FFFFFFFF4269746D617020496D616765005061696E742E5069637475726500010500000200000007000000504272757368000000000000000000A0290000424D98290000000000005600000028000000AC00000078000000010004000000000000000000880B0000880B0000080000",
         "2025-04-12T00:43:16.698+0000"
        ],
        [
         3,
         "Confections",
         "Desserts, candies, and sweet breads",
         "0x151C2F00020000000D000E0014002100FFFFFFFF4269746D617020496D616765005061696E742E5069637475726500010500000200000007000000504272757368000000000000000000A0290000424D98290000000000005600000028000000AC00000078000000010004000000000000000000880B0000880B0000080000",
         "2025-04-12T00:43:16.698+0000"
        ],
        [
         4,
         "Dairy Products",
         "Cheeses",
         "0x151C2F00020000000D000E0014002100FFFFFFFF4269746D617020496D616765005061696E742E5069637475726500010500000200000007000000504272757368000000000000000000A0290000424D98290000000000005600000028000000AC00000078000000010004000000000000000000880B0000880B0000080000",
         "2025-04-12T00:43:16.698+0000"
        ],
        [
         5,
         "Grains/Cereals",
         "Breads, crackers, pasta, and cereal",
         "0x151C2F00020000000D000E0014002100FFFFFFFF4269746D617020496D616765005061696E742E5069637475726500010500000200000007000000504272757368000000000000000000A0290000424D98290000000000005600000028000000AC00000078000000010004000000000000000000880B0000880B0000080000",
         "2025-04-12T00:43:16.698+0000"
        ],
        [
         6,
         "Meat/Poultry",
         "Prepared meats",
         "0x151C2F00020000000D000E0014002100FFFFFFFF4269746D617020496D616765005061696E742E5069637475726500010500000200000007000000504272757368000000000000000000A0290000424D98290000000000005600000028000000AC00000078000000010004000000000000000000880B0000880B0000080000",
         "2025-04-12T00:43:16.698+0000"
        ],
        [
         7,
         "Produce",
         "Dried fruit and bean curd",
         "0x151C2F00020000000D000E0014002100FFFFFFFF4269746D617020496D616765005061696E742E5069637475726500010500000200000007000000504272757368000000000000000000A0290000424D98290000000000005600000028000000AC00000078000000010004000000000000000000880B0000880B0000080000",
         "2025-04-12T00:43:16.698+0000"
        ],
        [
         8,
         "Seafood",
         "Seaweed and fish",
         "0x151C2F00020000000D000E0014002100FFFFFFFF4269746D617020496D616765005061696E742E5069637475726500010500000200000007000000504272757368000000000000000000A0290000424D98290000000000005600000028000000AC00000078000000010004000000000000000000880B0000880B0000080000",
         "2025-04-12T00:43:16.698+0000"
        ]
       ],
       "datasetInfos": [],
       "dbfsResultPath": null,
       "isJsonSchema": true,
       "metadata": {},
       "overflow": false,
       "plotOptions": {
        "customPlotOptions": {},
        "displayType": "table",
        "pivotAggregation": null,
        "pivotColumns": null,
        "xColumns": null,
        "yColumns": null
       },
       "removedWidgets": [],
       "schema": [
        {
         "metadata": "{}",
         "name": "category_id",
         "type": "\"integer\""
        },
        {
         "metadata": "{}",
         "name": "category_name",
         "type": "\"string\""
        },
        {
         "metadata": "{}",
         "name": "description",
         "type": "\"string\""
        },
        {
         "metadata": "{}",
         "name": "picture",
         "type": "\"string\""
        },
        {
         "metadata": "{}",
         "name": "data_ingestao",
         "type": "\"timestamp\""
        }
       ],
       "type": "table"
      }
     },
     "output_type": "display_data"
    }
   ],
   "source": [
    "# Tabela: categories\n",
    "df_categories_bronze = spark.read.format(\"delta\").load(f\"{caminho_bronze}categories\")\n",
    "\n",
    "df_categories_prata = (\n",
    "    df_categories_bronze\n",
    "    .withColumnRenamed(\"CategoryID\", \"category_id\")\n",
    "    .withColumnRenamed(\"CategoryName\", \"category_name\")\n",
    "    .withColumnRenamed(\"Description\", \"description\")\n",
    "    # Se existirem colunas adicionais, trate conforme necessário\n",
    ")\n",
    "\n",
    "print(\"Schema de categories:\")\n",
    "df_categories_prata.printSchema()\n",
    "display(df_categories_prata.limit(10))\n",
    "\n",
    "# Salvar na camada Prata\n",
    "df_categories_prata.write.format(\"delta\").mode(\"overwrite\").save(f\"{caminho_prata}categories\")\n"
   ]
  },
  {
   "cell_type": "markdown",
   "metadata": {
    "application/vnd.databricks.v1+cell": {
     "cellMetadata": {
      "byteLimit": 2048000,
      "rowLimit": 10000
     },
     "inputWidgets": {},
     "nuid": "dafc5030-8e8c-4062-a298-e89d0403f101",
     "showTitle": false,
     "tableResultSettingsMap": {},
     "title": ""
    }
   },
   "source": [
    "### Tabela Customers"
   ]
  },
  {
   "cell_type": "code",
   "execution_count": 0,
   "metadata": {
    "application/vnd.databricks.v1+cell": {
     "cellMetadata": {
      "byteLimit": 2048000,
      "rowLimit": 10000
     },
     "inputWidgets": {},
     "nuid": "b5f66379-6f7f-42ec-8e82-d0e0926a1721",
     "showTitle": false,
     "tableResultSettingsMap": {},
     "title": ""
    }
   },
   "outputs": [
    {
     "output_type": "stream",
     "name": "stdout",
     "output_type": "stream",
     "text": [
      "Schema de customers:\nroot\n |-- customer_id: string (nullable = true)\n |-- company_name: string (nullable = true)\n |-- contact_name: string (nullable = true)\n |-- contact_title: string (nullable = true)\n |-- address: string (nullable = true)\n |-- city: string (nullable = true)\n |-- region: string (nullable = true)\n |-- postal_code: string (nullable = true)\n |-- country: string (nullable = true)\n |-- phone: string (nullable = true)\n |-- fax: string (nullable = true)\n |-- data_ingestao: timestamp (nullable = true)\n\n"
     ]
    },
    {
     "output_type": "display_data",
     "data": {
      "text/html": [
       "<style scoped>\n",
       "  .table-result-container {\n",
       "    max-height: 300px;\n",
       "    overflow: auto;\n",
       "  }\n",
       "  table, th, td {\n",
       "    border: 1px solid black;\n",
       "    border-collapse: collapse;\n",
       "  }\n",
       "  th, td {\n",
       "    padding: 5px;\n",
       "  }\n",
       "  th {\n",
       "    text-align: left;\n",
       "  }\n",
       "</style><div class='table-result-container'><table class='table-result'><thead style='background-color: white'><tr><th>customer_id</th><th>company_name</th><th>contact_name</th><th>contact_title</th><th>address</th><th>city</th><th>region</th><th>postal_code</th><th>country</th><th>phone</th><th>fax</th><th>data_ingestao</th></tr></thead><tbody><tr><td>ALFKI</td><td>Alfreds Futterkiste</td><td>Maria Anders</td><td>Sales Representative</td><td>Obere Str. 57</td><td>Berlin</td><td>NULL</td><td>12209</td><td>Germany</td><td>030-0074321</td><td>030-0076545</td><td>2025-04-12T00:43:38.005+0000</td></tr><tr><td>ANATR</td><td>Ana Trujillo Emparedados y helados</td><td>Ana Trujillo</td><td>Owner</td><td>Avda. de la Constitución 2222</td><td>México D.F.</td><td>NULL</td><td>05021</td><td>Mexico</td><td>(5) 555-4729</td><td>(5) 555-3745</td><td>2025-04-12T00:43:38.005+0000</td></tr><tr><td>ANTON</td><td>Antonio Moreno Taquería</td><td>Antonio Moreno</td><td>Owner</td><td>Mataderos  2312</td><td>México D.F.</td><td>NULL</td><td>05023</td><td>Mexico</td><td>(5) 555-3932</td><td>NULL</td><td>2025-04-12T00:43:38.005+0000</td></tr><tr><td>AROUT</td><td>Around the Horn</td><td>Thomas Hardy</td><td>Sales Representative</td><td>120 Hanover Sq.</td><td>London</td><td>NULL</td><td>WA1 1DP</td><td>UK</td><td>(171) 555-7788</td><td>(171) 555-6750</td><td>2025-04-12T00:43:38.005+0000</td></tr><tr><td>BERGS</td><td>Berglunds snabbköp</td><td>Christina Berglund</td><td>Order Administrator</td><td>Berguvsvägen  8</td><td>Luleå</td><td>NULL</td><td>S-958 22</td><td>Sweden</td><td>0921-12 34 65</td><td>0921-12 34 67</td><td>2025-04-12T00:43:38.005+0000</td></tr><tr><td>BLAUS</td><td>Blauer See Delikatessen</td><td>Hanna Moos</td><td>Sales Representative</td><td>Forsterstr. 57</td><td>Mannheim</td><td>NULL</td><td>68306</td><td>Germany</td><td>0621-08460</td><td>0621-08924</td><td>2025-04-12T00:43:38.005+0000</td></tr><tr><td>BLONP</td><td>Blondesddsl père et fils</td><td>Frédérique Citeaux</td><td>Marketing Manager</td><td>24</td><td> place Kléber</td><td>Strasbourg</td><td>NULL</td><td>67000</td><td>France</td><td>88.60.15.31</td><td>2025-04-12T00:43:38.005+0000</td></tr><tr><td>BOLID</td><td>Bólido Comidas preparadas</td><td>Martín Sommer</td><td>Owner</td><td>C/ Araquil</td><td> 67</td><td>Madrid</td><td>NULL</td><td>28023</td><td>Spain</td><td>(91) 555 22 82</td><td>2025-04-12T00:43:38.005+0000</td></tr><tr><td>BONAP</td><td>Bon app'</td><td>Laurence Lebihan</td><td>Owner</td><td>12</td><td> rue des Bouchers</td><td>Marseille</td><td>NULL</td><td>13008</td><td>France</td><td>91.24.45.40</td><td>2025-04-12T00:43:38.005+0000</td></tr><tr><td>BOTTM</td><td>Bottom-Dollar Markets</td><td>Elizabeth Lincoln</td><td>Accounting Manager</td><td>23 Tsawassen Blvd.</td><td>Tsawassen</td><td>BC</td><td>T2F 8M4</td><td>Canada</td><td>(604) 555-4729</td><td>(604) 555-3745</td><td>2025-04-12T00:43:38.005+0000</td></tr></tbody></table></div>"
      ]
     },
     "metadata": {
      "application/vnd.databricks.v1+output": {
       "addedWidgets": {},
       "aggData": [],
       "aggError": "",
       "aggOverflow": false,
       "aggSchema": [],
       "aggSeriesLimitReached": false,
       "aggType": "",
       "arguments": {},
       "columnCustomDisplayInfos": {},
       "data": [
        [
         "ALFKI",
         "Alfreds Futterkiste",
         "Maria Anders",
         "Sales Representative",
         "Obere Str. 57",
         "Berlin",
         "NULL",
         "12209",
         "Germany",
         "030-0074321",
         "030-0076545",
         "2025-04-12T00:43:38.005+0000"
        ],
        [
         "ANATR",
         "Ana Trujillo Emparedados y helados",
         "Ana Trujillo",
         "Owner",
         "Avda. de la Constitución 2222",
         "México D.F.",
         "NULL",
         "05021",
         "Mexico",
         "(5) 555-4729",
         "(5) 555-3745",
         "2025-04-12T00:43:38.005+0000"
        ],
        [
         "ANTON",
         "Antonio Moreno Taquería",
         "Antonio Moreno",
         "Owner",
         "Mataderos  2312",
         "México D.F.",
         "NULL",
         "05023",
         "Mexico",
         "(5) 555-3932",
         "NULL",
         "2025-04-12T00:43:38.005+0000"
        ],
        [
         "AROUT",
         "Around the Horn",
         "Thomas Hardy",
         "Sales Representative",
         "120 Hanover Sq.",
         "London",
         "NULL",
         "WA1 1DP",
         "UK",
         "(171) 555-7788",
         "(171) 555-6750",
         "2025-04-12T00:43:38.005+0000"
        ],
        [
         "BERGS",
         "Berglunds snabbköp",
         "Christina Berglund",
         "Order Administrator",
         "Berguvsvägen  8",
         "Luleå",
         "NULL",
         "S-958 22",
         "Sweden",
         "0921-12 34 65",
         "0921-12 34 67",
         "2025-04-12T00:43:38.005+0000"
        ],
        [
         "BLAUS",
         "Blauer See Delikatessen",
         "Hanna Moos",
         "Sales Representative",
         "Forsterstr. 57",
         "Mannheim",
         "NULL",
         "68306",
         "Germany",
         "0621-08460",
         "0621-08924",
         "2025-04-12T00:43:38.005+0000"
        ],
        [
         "BLONP",
         "Blondesddsl père et fils",
         "Frédérique Citeaux",
         "Marketing Manager",
         "24",
         " place Kléber",
         "Strasbourg",
         "NULL",
         "67000",
         "France",
         "88.60.15.31",
         "2025-04-12T00:43:38.005+0000"
        ],
        [
         "BOLID",
         "Bólido Comidas preparadas",
         "Martín Sommer",
         "Owner",
         "C/ Araquil",
         " 67",
         "Madrid",
         "NULL",
         "28023",
         "Spain",
         "(91) 555 22 82",
         "2025-04-12T00:43:38.005+0000"
        ],
        [
         "BONAP",
         "Bon app'",
         "Laurence Lebihan",
         "Owner",
         "12",
         " rue des Bouchers",
         "Marseille",
         "NULL",
         "13008",
         "France",
         "91.24.45.40",
         "2025-04-12T00:43:38.005+0000"
        ],
        [
         "BOTTM",
         "Bottom-Dollar Markets",
         "Elizabeth Lincoln",
         "Accounting Manager",
         "23 Tsawassen Blvd.",
         "Tsawassen",
         "BC",
         "T2F 8M4",
         "Canada",
         "(604) 555-4729",
         "(604) 555-3745",
         "2025-04-12T00:43:38.005+0000"
        ]
       ],
       "datasetInfos": [],
       "dbfsResultPath": null,
       "isJsonSchema": true,
       "metadata": {},
       "overflow": false,
       "plotOptions": {
        "customPlotOptions": {},
        "displayType": "table",
        "pivotAggregation": null,
        "pivotColumns": null,
        "xColumns": null,
        "yColumns": null
       },
       "removedWidgets": [],
       "schema": [
        {
         "metadata": "{}",
         "name": "customer_id",
         "type": "\"string\""
        },
        {
         "metadata": "{}",
         "name": "company_name",
         "type": "\"string\""
        },
        {
         "metadata": "{}",
         "name": "contact_name",
         "type": "\"string\""
        },
        {
         "metadata": "{}",
         "name": "contact_title",
         "type": "\"string\""
        },
        {
         "metadata": "{}",
         "name": "address",
         "type": "\"string\""
        },
        {
         "metadata": "{}",
         "name": "city",
         "type": "\"string\""
        },
        {
         "metadata": "{}",
         "name": "region",
         "type": "\"string\""
        },
        {
         "metadata": "{}",
         "name": "postal_code",
         "type": "\"string\""
        },
        {
         "metadata": "{}",
         "name": "country",
         "type": "\"string\""
        },
        {
         "metadata": "{}",
         "name": "phone",
         "type": "\"string\""
        },
        {
         "metadata": "{}",
         "name": "fax",
         "type": "\"string\""
        },
        {
         "metadata": "{}",
         "name": "data_ingestao",
         "type": "\"timestamp\""
        }
       ],
       "type": "table"
      }
     },
     "output_type": "display_data"
    }
   ],
   "source": [
    "# Tabela: customers\n",
    "df_customers_bronze = spark.read.format(\"delta\").load(f\"{caminho_bronze}customers\")\n",
    "\n",
    "df_customers_prata = (\n",
    "    df_customers_bronze\n",
    "    .withColumnRenamed(\"CustomerID\", \"customer_id\")\n",
    "    .withColumnRenamed(\"CompanyName\", \"company_name\")\n",
    "    .withColumnRenamed(\"ContactName\", \"contact_name\")\n",
    "    .withColumnRenamed(\"ContactTitle\", \"contact_title\")\n",
    "    .withColumnRenamed(\"Address\", \"address\")\n",
    "    .withColumnRenamed(\"City\", \"city\")\n",
    "    .withColumnRenamed(\"Region\", \"region\")\n",
    "    .withColumnRenamed(\"PostalCode\", \"postal_code\")\n",
    "    .withColumnRenamed(\"Country\", \"country\")\n",
    "    # Exemplo: filtro para garantir que não hajam nulos em customer_id\n",
    "    .filter(\"customer_id is not null\")\n",
    ")\n",
    "\n",
    "print(\"Schema de customers:\")\n",
    "df_customers_prata.printSchema()\n",
    "display(df_customers_prata.limit(10))\n",
    "\n",
    "df_customers_prata.write.format(\"delta\").mode(\"overwrite\").save(f\"{caminho_prata}customers\")\n"
   ]
  },
  {
   "cell_type": "markdown",
   "metadata": {
    "application/vnd.databricks.v1+cell": {
     "cellMetadata": {
      "byteLimit": 2048000,
      "rowLimit": 10000
     },
     "inputWidgets": {},
     "nuid": "6d20d542-e574-488b-93b4-70cc97cd41b7",
     "showTitle": false,
     "tableResultSettingsMap": {},
     "title": ""
    }
   },
   "source": [
    "### Employees"
   ]
  },
  {
   "cell_type": "code",
   "execution_count": 0,
   "metadata": {
    "application/vnd.databricks.v1+cell": {
     "cellMetadata": {
      "byteLimit": 2048000,
      "rowLimit": 10000
     },
     "inputWidgets": {},
     "nuid": "db9631f6-bb4a-42ca-8a3c-0d48af932331",
     "showTitle": false,
     "tableResultSettingsMap": {},
     "title": ""
    }
   },
   "outputs": [
    {
     "output_type": "stream",
     "name": "stdout",
     "output_type": "stream",
     "text": [
      "Schema final da tabela employees:\nroot\n |-- employee_id: integer (nullable = true)\n |-- last_name: string (nullable = true)\n |-- first_name: string (nullable = true)\n |-- title: string (nullable = true)\n |-- birth_date: date (nullable = true)\n |-- hire_date: date (nullable = true)\n |-- address: string (nullable = true)\n |-- city: string (nullable = true)\n |-- region: string (nullable = true)\n |-- postal_code: string (nullable = true)\n |-- country: string (nullable = true)\n |-- home_phone: string (nullable = true)\n |-- extension: integer (nullable = true)\n |-- data_ingestao: timestamp (nullable = true)\n\n"
     ]
    },
    {
     "output_type": "display_data",
     "data": {
      "text/html": [
       "<style scoped>\n",
       "  .table-result-container {\n",
       "    max-height: 300px;\n",
       "    overflow: auto;\n",
       "  }\n",
       "  table, th, td {\n",
       "    border: 1px solid black;\n",
       "    border-collapse: collapse;\n",
       "  }\n",
       "  th, td {\n",
       "    padding: 5px;\n",
       "  }\n",
       "  th {\n",
       "    text-align: left;\n",
       "  }\n",
       "</style><div class='table-result-container'><table class='table-result'><thead style='background-color: white'><tr><th>employee_id</th><th>last_name</th><th>first_name</th><th>title</th><th>birth_date</th><th>hire_date</th><th>address</th><th>city</th><th>region</th><th>postal_code</th><th>country</th><th>home_phone</th><th>extension</th><th>data_ingestao</th></tr></thead><tbody><tr><td>1</td><td>Davolio</td><td>Nancy</td><td>Sales Representative</td><td>1948-12-08</td><td>1992-05-01</td><td>507 - 20th Ave. E. Apt. 2A</td><td>Seattle</td><td>WA</td><td>98122</td><td>USA</td><td>(206) 555-9857</td><td>5467</td><td>2025-04-12T00:43:50.318+0000</td></tr><tr><td>2</td><td>Fuller</td><td>Andrew</td><td>Vice President, Sales</td><td>1952-02-19</td><td>1992-08-14</td><td>908 W. Capital Way</td><td>Tacoma</td><td>WA</td><td>98401</td><td>USA</td><td>(206) 555-9482</td><td>3457</td><td>2025-04-12T00:43:50.318+0000</td></tr><tr><td>3</td><td>Leverling</td><td>Janet</td><td>Sales Representative</td><td>1963-08-30</td><td>1992-04-01</td><td>722 Moss Bay Blvd.</td><td>Kirkland</td><td>WA</td><td>98033</td><td>USA</td><td>(206) 555-3412</td><td>3355</td><td>2025-04-12T00:43:50.318+0000</td></tr><tr><td>4</td><td>Peacock</td><td>Margaret</td><td>Sales Representative</td><td>1937-09-19</td><td>1993-05-03</td><td>4110 Old Redmond Rd.</td><td>Redmond</td><td>WA</td><td>98052</td><td>USA</td><td>(206) 555-8122</td><td>5176</td><td>2025-04-12T00:43:50.318+0000</td></tr><tr><td>5</td><td>Buchanan</td><td>Steven</td><td>Sales Manager</td><td>1955-03-04</td><td>1993-10-17</td><td>14 Garrett Hill</td><td>London</td><td>NULL</td><td>SW1 8JR</td><td>UK</td><td>(71) 555-4848</td><td>3453</td><td>2025-04-12T00:43:50.318+0000</td></tr><tr><td>6</td><td>Suyama</td><td>Michael</td><td>Sales Representative</td><td>1963-07-02</td><td>1993-10-17</td><td>Coventry House Miner Rd.</td><td>London</td><td>NULL</td><td>EC2 7JR</td><td>UK</td><td>(71) 555-7773</td><td>428</td><td>2025-04-12T00:43:50.318+0000</td></tr><tr><td>7</td><td>King</td><td>Robert</td><td>Sales Representative</td><td>1960-05-29</td><td>1994-01-02</td><td>Edgeham Hollow Winchester Way</td><td>London</td><td>NULL</td><td>RG1 9SP</td><td>UK</td><td>(71) 555-5598</td><td>465</td><td>2025-04-12T00:43:50.318+0000</td></tr><tr><td>8</td><td>Callahan</td><td>Laura</td><td>Inside Sales Coordinator</td><td>1958-01-09</td><td>1994-03-05</td><td>4726 - 11th Ave. N.E.</td><td>Seattle</td><td>WA</td><td>98105</td><td>USA</td><td>(206) 555-1189</td><td>2344</td><td>2025-04-12T00:43:50.318+0000</td></tr><tr><td>9</td><td>Dodsworth</td><td>Anne</td><td>Sales Representative</td><td>1966-01-27</td><td>1994-11-15</td><td>7 Houndstooth Rd.</td><td>London</td><td>NULL</td><td>WG2 7LT</td><td>UK</td><td>(71) 555-4444</td><td>452</td><td>2025-04-12T00:43:50.318+0000</td></tr></tbody></table></div>"
      ]
     },
     "metadata": {
      "application/vnd.databricks.v1+output": {
       "addedWidgets": {},
       "aggData": [],
       "aggError": "",
       "aggOverflow": false,
       "aggSchema": [],
       "aggSeriesLimitReached": false,
       "aggType": "",
       "arguments": {},
       "columnCustomDisplayInfos": {},
       "data": [
        [
         1,
         "Davolio",
         "Nancy",
         "Sales Representative",
         "1948-12-08",
         "1992-05-01",
         "507 - 20th Ave. E. Apt. 2A",
         "Seattle",
         "WA",
         "98122",
         "USA",
         "(206) 555-9857",
         5467,
         "2025-04-12T00:43:50.318+0000"
        ],
        [
         2,
         "Fuller",
         "Andrew",
         "Vice President, Sales",
         "1952-02-19",
         "1992-08-14",
         "908 W. Capital Way",
         "Tacoma",
         "WA",
         "98401",
         "USA",
         "(206) 555-9482",
         3457,
         "2025-04-12T00:43:50.318+0000"
        ],
        [
         3,
         "Leverling",
         "Janet",
         "Sales Representative",
         "1963-08-30",
         "1992-04-01",
         "722 Moss Bay Blvd.",
         "Kirkland",
         "WA",
         "98033",
         "USA",
         "(206) 555-3412",
         3355,
         "2025-04-12T00:43:50.318+0000"
        ],
        [
         4,
         "Peacock",
         "Margaret",
         "Sales Representative",
         "1937-09-19",
         "1993-05-03",
         "4110 Old Redmond Rd.",
         "Redmond",
         "WA",
         "98052",
         "USA",
         "(206) 555-8122",
         5176,
         "2025-04-12T00:43:50.318+0000"
        ],
        [
         5,
         "Buchanan",
         "Steven",
         "Sales Manager",
         "1955-03-04",
         "1993-10-17",
         "14 Garrett Hill",
         "London",
         "NULL",
         "SW1 8JR",
         "UK",
         "(71) 555-4848",
         3453,
         "2025-04-12T00:43:50.318+0000"
        ],
        [
         6,
         "Suyama",
         "Michael",
         "Sales Representative",
         "1963-07-02",
         "1993-10-17",
         "Coventry House Miner Rd.",
         "London",
         "NULL",
         "EC2 7JR",
         "UK",
         "(71) 555-7773",
         428,
         "2025-04-12T00:43:50.318+0000"
        ],
        [
         7,
         "King",
         "Robert",
         "Sales Representative",
         "1960-05-29",
         "1994-01-02",
         "Edgeham Hollow Winchester Way",
         "London",
         "NULL",
         "RG1 9SP",
         "UK",
         "(71) 555-5598",
         465,
         "2025-04-12T00:43:50.318+0000"
        ],
        [
         8,
         "Callahan",
         "Laura",
         "Inside Sales Coordinator",
         "1958-01-09",
         "1994-03-05",
         "4726 - 11th Ave. N.E.",
         "Seattle",
         "WA",
         "98105",
         "USA",
         "(206) 555-1189",
         2344,
         "2025-04-12T00:43:50.318+0000"
        ],
        [
         9,
         "Dodsworth",
         "Anne",
         "Sales Representative",
         "1966-01-27",
         "1994-11-15",
         "7 Houndstooth Rd.",
         "London",
         "NULL",
         "WG2 7LT",
         "UK",
         "(71) 555-4444",
         452,
         "2025-04-12T00:43:50.318+0000"
        ]
       ],
       "datasetInfos": [],
       "dbfsResultPath": null,
       "isJsonSchema": true,
       "metadata": {},
       "overflow": false,
       "plotOptions": {
        "customPlotOptions": {},
        "displayType": "table",
        "pivotAggregation": null,
        "pivotColumns": null,
        "xColumns": null,
        "yColumns": null
       },
       "removedWidgets": [],
       "schema": [
        {
         "metadata": "{}",
         "name": "employee_id",
         "type": "\"integer\""
        },
        {
         "metadata": "{}",
         "name": "last_name",
         "type": "\"string\""
        },
        {
         "metadata": "{}",
         "name": "first_name",
         "type": "\"string\""
        },
        {
         "metadata": "{}",
         "name": "title",
         "type": "\"string\""
        },
        {
         "metadata": "{}",
         "name": "birth_date",
         "type": "\"date\""
        },
        {
         "metadata": "{}",
         "name": "hire_date",
         "type": "\"date\""
        },
        {
         "metadata": "{}",
         "name": "address",
         "type": "\"string\""
        },
        {
         "metadata": "{}",
         "name": "city",
         "type": "\"string\""
        },
        {
         "metadata": "{}",
         "name": "region",
         "type": "\"string\""
        },
        {
         "metadata": "{}",
         "name": "postal_code",
         "type": "\"string\""
        },
        {
         "metadata": "{}",
         "name": "country",
         "type": "\"string\""
        },
        {
         "metadata": "{}",
         "name": "home_phone",
         "type": "\"string\""
        },
        {
         "metadata": "{}",
         "name": "extension",
         "type": "\"integer\""
        },
        {
         "metadata": "{}",
         "name": "data_ingestao",
         "type": "\"timestamp\""
        }
       ],
       "type": "table"
      }
     },
     "output_type": "display_data"
    },
    {
     "output_type": "display_data",
     "data": {
      "text/plain": [
       "\u001B[0;31m---------------------------------------------------------------------------\u001B[0m\n",
       "\u001B[0;31mAnalysisException\u001B[0m                         Traceback (most recent call last)\n",
       "File \u001B[0;32m<command-540095536058286>:49\u001B[0m\n",
       "\u001B[1;32m     46\u001B[0m display(df_employees_prata\u001B[38;5;241m.\u001B[39mlimit(\u001B[38;5;241m10\u001B[39m))\n",
       "\u001B[1;32m     48\u001B[0m \u001B[38;5;66;03m# Salvar na camada prata\u001B[39;00m\n",
       "\u001B[0;32m---> 49\u001B[0m df_employees_prata\u001B[38;5;241m.\u001B[39mwrite\u001B[38;5;241m.\u001B[39mformat(\u001B[38;5;124m\"\u001B[39m\u001B[38;5;124mdelta\u001B[39m\u001B[38;5;124m\"\u001B[39m)\u001B[38;5;241m.\u001B[39mmode(\u001B[38;5;124m\"\u001B[39m\u001B[38;5;124moverwrite\u001B[39m\u001B[38;5;124m\"\u001B[39m)\u001B[38;5;241m.\u001B[39msave(\u001B[38;5;124mf\u001B[39m\u001B[38;5;124m\"\u001B[39m\u001B[38;5;132;01m{\u001B[39;00mcaminho_prata\u001B[38;5;132;01m}\u001B[39;00m\u001B[38;5;124memployees\u001B[39m\u001B[38;5;124m\"\u001B[39m)\n",
       "\n",
       "File \u001B[0;32m/databricks/spark/python/pyspark/instrumentation_utils.py:48\u001B[0m, in \u001B[0;36m_wrap_function.<locals>.wrapper\u001B[0;34m(*args, **kwargs)\u001B[0m\n",
       "\u001B[1;32m     46\u001B[0m start \u001B[38;5;241m=\u001B[39m time\u001B[38;5;241m.\u001B[39mperf_counter()\n",
       "\u001B[1;32m     47\u001B[0m \u001B[38;5;28;01mtry\u001B[39;00m:\n",
       "\u001B[0;32m---> 48\u001B[0m     res \u001B[38;5;241m=\u001B[39m \u001B[43mfunc\u001B[49m\u001B[43m(\u001B[49m\u001B[38;5;241;43m*\u001B[39;49m\u001B[43margs\u001B[49m\u001B[43m,\u001B[49m\u001B[43m \u001B[49m\u001B[38;5;241;43m*\u001B[39;49m\u001B[38;5;241;43m*\u001B[39;49m\u001B[43mkwargs\u001B[49m\u001B[43m)\u001B[49m\n",
       "\u001B[1;32m     49\u001B[0m     logger\u001B[38;5;241m.\u001B[39mlog_success(\n",
       "\u001B[1;32m     50\u001B[0m         module_name, class_name, function_name, time\u001B[38;5;241m.\u001B[39mperf_counter() \u001B[38;5;241m-\u001B[39m start, signature\n",
       "\u001B[1;32m     51\u001B[0m     )\n",
       "\u001B[1;32m     52\u001B[0m     \u001B[38;5;28;01mreturn\u001B[39;00m res\n",
       "\n",
       "File \u001B[0;32m/databricks/spark/python/pyspark/sql/readwriter.py:1397\u001B[0m, in \u001B[0;36mDataFrameWriter.save\u001B[0;34m(self, path, format, mode, partitionBy, **options)\u001B[0m\n",
       "\u001B[1;32m   1395\u001B[0m     \u001B[38;5;28mself\u001B[39m\u001B[38;5;241m.\u001B[39m_jwrite\u001B[38;5;241m.\u001B[39msave()\n",
       "\u001B[1;32m   1396\u001B[0m \u001B[38;5;28;01melse\u001B[39;00m:\n",
       "\u001B[0;32m-> 1397\u001B[0m     \u001B[38;5;28;43mself\u001B[39;49m\u001B[38;5;241;43m.\u001B[39;49m\u001B[43m_jwrite\u001B[49m\u001B[38;5;241;43m.\u001B[39;49m\u001B[43msave\u001B[49m\u001B[43m(\u001B[49m\u001B[43mpath\u001B[49m\u001B[43m)\u001B[49m\n",
       "\n",
       "File \u001B[0;32m/databricks/spark/python/lib/py4j-0.10.9.5-src.zip/py4j/java_gateway.py:1321\u001B[0m, in \u001B[0;36mJavaMember.__call__\u001B[0;34m(self, *args)\u001B[0m\n",
       "\u001B[1;32m   1315\u001B[0m command \u001B[38;5;241m=\u001B[39m proto\u001B[38;5;241m.\u001B[39mCALL_COMMAND_NAME \u001B[38;5;241m+\u001B[39m\\\n",
       "\u001B[1;32m   1316\u001B[0m     \u001B[38;5;28mself\u001B[39m\u001B[38;5;241m.\u001B[39mcommand_header \u001B[38;5;241m+\u001B[39m\\\n",
       "\u001B[1;32m   1317\u001B[0m     args_command \u001B[38;5;241m+\u001B[39m\\\n",
       "\u001B[1;32m   1318\u001B[0m     proto\u001B[38;5;241m.\u001B[39mEND_COMMAND_PART\n",
       "\u001B[1;32m   1320\u001B[0m answer \u001B[38;5;241m=\u001B[39m \u001B[38;5;28mself\u001B[39m\u001B[38;5;241m.\u001B[39mgateway_client\u001B[38;5;241m.\u001B[39msend_command(command)\n",
       "\u001B[0;32m-> 1321\u001B[0m return_value \u001B[38;5;241m=\u001B[39m \u001B[43mget_return_value\u001B[49m\u001B[43m(\u001B[49m\n",
       "\u001B[1;32m   1322\u001B[0m \u001B[43m    \u001B[49m\u001B[43manswer\u001B[49m\u001B[43m,\u001B[49m\u001B[43m \u001B[49m\u001B[38;5;28;43mself\u001B[39;49m\u001B[38;5;241;43m.\u001B[39;49m\u001B[43mgateway_client\u001B[49m\u001B[43m,\u001B[49m\u001B[43m \u001B[49m\u001B[38;5;28;43mself\u001B[39;49m\u001B[38;5;241;43m.\u001B[39;49m\u001B[43mtarget_id\u001B[49m\u001B[43m,\u001B[49m\u001B[43m \u001B[49m\u001B[38;5;28;43mself\u001B[39;49m\u001B[38;5;241;43m.\u001B[39;49m\u001B[43mname\u001B[49m\u001B[43m)\u001B[49m\n",
       "\u001B[1;32m   1324\u001B[0m \u001B[38;5;28;01mfor\u001B[39;00m temp_arg \u001B[38;5;129;01min\u001B[39;00m temp_args:\n",
       "\u001B[1;32m   1325\u001B[0m     temp_arg\u001B[38;5;241m.\u001B[39m_detach()\n",
       "\n",
       "File \u001B[0;32m/databricks/spark/python/pyspark/errors/exceptions.py:234\u001B[0m, in \u001B[0;36mcapture_sql_exception.<locals>.deco\u001B[0;34m(*a, **kw)\u001B[0m\n",
       "\u001B[1;32m    230\u001B[0m converted \u001B[38;5;241m=\u001B[39m convert_exception(e\u001B[38;5;241m.\u001B[39mjava_exception)\n",
       "\u001B[1;32m    231\u001B[0m \u001B[38;5;28;01mif\u001B[39;00m \u001B[38;5;129;01mnot\u001B[39;00m \u001B[38;5;28misinstance\u001B[39m(converted, UnknownException):\n",
       "\u001B[1;32m    232\u001B[0m     \u001B[38;5;66;03m# Hide where the exception came from that shows a non-Pythonic\u001B[39;00m\n",
       "\u001B[1;32m    233\u001B[0m     \u001B[38;5;66;03m# JVM exception message.\u001B[39;00m\n",
       "\u001B[0;32m--> 234\u001B[0m     \u001B[38;5;28;01mraise\u001B[39;00m converted \u001B[38;5;28;01mfrom\u001B[39;00m \u001B[38;5;28mNone\u001B[39m\n",
       "\u001B[1;32m    235\u001B[0m \u001B[38;5;28;01melse\u001B[39;00m:\n",
       "\u001B[1;32m    236\u001B[0m     \u001B[38;5;28;01mraise\u001B[39;00m\n",
       "\n",
       "\u001B[0;31mAnalysisException\u001B[0m: Failed to merge fields 'birth_date' and 'birth_date'"
      ]
     },
     "metadata": {
      "application/vnd.databricks.v1+output": {
       "arguments": {},
       "data": "\u001B[0;31m---------------------------------------------------------------------------\u001B[0m\n\u001B[0;31mAnalysisException\u001B[0m                         Traceback (most recent call last)\nFile \u001B[0;32m<command-540095536058286>:49\u001B[0m\n\u001B[1;32m     46\u001B[0m display(df_employees_prata\u001B[38;5;241m.\u001B[39mlimit(\u001B[38;5;241m10\u001B[39m))\n\u001B[1;32m     48\u001B[0m \u001B[38;5;66;03m# Salvar na camada prata\u001B[39;00m\n\u001B[0;32m---> 49\u001B[0m df_employees_prata\u001B[38;5;241m.\u001B[39mwrite\u001B[38;5;241m.\u001B[39mformat(\u001B[38;5;124m\"\u001B[39m\u001B[38;5;124mdelta\u001B[39m\u001B[38;5;124m\"\u001B[39m)\u001B[38;5;241m.\u001B[39mmode(\u001B[38;5;124m\"\u001B[39m\u001B[38;5;124moverwrite\u001B[39m\u001B[38;5;124m\"\u001B[39m)\u001B[38;5;241m.\u001B[39msave(\u001B[38;5;124mf\u001B[39m\u001B[38;5;124m\"\u001B[39m\u001B[38;5;132;01m{\u001B[39;00mcaminho_prata\u001B[38;5;132;01m}\u001B[39;00m\u001B[38;5;124memployees\u001B[39m\u001B[38;5;124m\"\u001B[39m)\n\nFile \u001B[0;32m/databricks/spark/python/pyspark/instrumentation_utils.py:48\u001B[0m, in \u001B[0;36m_wrap_function.<locals>.wrapper\u001B[0;34m(*args, **kwargs)\u001B[0m\n\u001B[1;32m     46\u001B[0m start \u001B[38;5;241m=\u001B[39m time\u001B[38;5;241m.\u001B[39mperf_counter()\n\u001B[1;32m     47\u001B[0m \u001B[38;5;28;01mtry\u001B[39;00m:\n\u001B[0;32m---> 48\u001B[0m     res \u001B[38;5;241m=\u001B[39m \u001B[43mfunc\u001B[49m\u001B[43m(\u001B[49m\u001B[38;5;241;43m*\u001B[39;49m\u001B[43margs\u001B[49m\u001B[43m,\u001B[49m\u001B[43m \u001B[49m\u001B[38;5;241;43m*\u001B[39;49m\u001B[38;5;241;43m*\u001B[39;49m\u001B[43mkwargs\u001B[49m\u001B[43m)\u001B[49m\n\u001B[1;32m     49\u001B[0m     logger\u001B[38;5;241m.\u001B[39mlog_success(\n\u001B[1;32m     50\u001B[0m         module_name, class_name, function_name, time\u001B[38;5;241m.\u001B[39mperf_counter() \u001B[38;5;241m-\u001B[39m start, signature\n\u001B[1;32m     51\u001B[0m     )\n\u001B[1;32m     52\u001B[0m     \u001B[38;5;28;01mreturn\u001B[39;00m res\n\nFile \u001B[0;32m/databricks/spark/python/pyspark/sql/readwriter.py:1397\u001B[0m, in \u001B[0;36mDataFrameWriter.save\u001B[0;34m(self, path, format, mode, partitionBy, **options)\u001B[0m\n\u001B[1;32m   1395\u001B[0m     \u001B[38;5;28mself\u001B[39m\u001B[38;5;241m.\u001B[39m_jwrite\u001B[38;5;241m.\u001B[39msave()\n\u001B[1;32m   1396\u001B[0m \u001B[38;5;28;01melse\u001B[39;00m:\n\u001B[0;32m-> 1397\u001B[0m     \u001B[38;5;28;43mself\u001B[39;49m\u001B[38;5;241;43m.\u001B[39;49m\u001B[43m_jwrite\u001B[49m\u001B[38;5;241;43m.\u001B[39;49m\u001B[43msave\u001B[49m\u001B[43m(\u001B[49m\u001B[43mpath\u001B[49m\u001B[43m)\u001B[49m\n\nFile \u001B[0;32m/databricks/spark/python/lib/py4j-0.10.9.5-src.zip/py4j/java_gateway.py:1321\u001B[0m, in \u001B[0;36mJavaMember.__call__\u001B[0;34m(self, *args)\u001B[0m\n\u001B[1;32m   1315\u001B[0m command \u001B[38;5;241m=\u001B[39m proto\u001B[38;5;241m.\u001B[39mCALL_COMMAND_NAME \u001B[38;5;241m+\u001B[39m\\\n\u001B[1;32m   1316\u001B[0m     \u001B[38;5;28mself\u001B[39m\u001B[38;5;241m.\u001B[39mcommand_header \u001B[38;5;241m+\u001B[39m\\\n\u001B[1;32m   1317\u001B[0m     args_command \u001B[38;5;241m+\u001B[39m\\\n\u001B[1;32m   1318\u001B[0m     proto\u001B[38;5;241m.\u001B[39mEND_COMMAND_PART\n\u001B[1;32m   1320\u001B[0m answer \u001B[38;5;241m=\u001B[39m \u001B[38;5;28mself\u001B[39m\u001B[38;5;241m.\u001B[39mgateway_client\u001B[38;5;241m.\u001B[39msend_command(command)\n\u001B[0;32m-> 1321\u001B[0m return_value \u001B[38;5;241m=\u001B[39m \u001B[43mget_return_value\u001B[49m\u001B[43m(\u001B[49m\n\u001B[1;32m   1322\u001B[0m \u001B[43m    \u001B[49m\u001B[43manswer\u001B[49m\u001B[43m,\u001B[49m\u001B[43m \u001B[49m\u001B[38;5;28;43mself\u001B[39;49m\u001B[38;5;241;43m.\u001B[39;49m\u001B[43mgateway_client\u001B[49m\u001B[43m,\u001B[49m\u001B[43m \u001B[49m\u001B[38;5;28;43mself\u001B[39;49m\u001B[38;5;241;43m.\u001B[39;49m\u001B[43mtarget_id\u001B[49m\u001B[43m,\u001B[49m\u001B[43m \u001B[49m\u001B[38;5;28;43mself\u001B[39;49m\u001B[38;5;241;43m.\u001B[39;49m\u001B[43mname\u001B[49m\u001B[43m)\u001B[49m\n\u001B[1;32m   1324\u001B[0m \u001B[38;5;28;01mfor\u001B[39;00m temp_arg \u001B[38;5;129;01min\u001B[39;00m temp_args:\n\u001B[1;32m   1325\u001B[0m     temp_arg\u001B[38;5;241m.\u001B[39m_detach()\n\nFile \u001B[0;32m/databricks/spark/python/pyspark/errors/exceptions.py:234\u001B[0m, in \u001B[0;36mcapture_sql_exception.<locals>.deco\u001B[0;34m(*a, **kw)\u001B[0m\n\u001B[1;32m    230\u001B[0m converted \u001B[38;5;241m=\u001B[39m convert_exception(e\u001B[38;5;241m.\u001B[39mjava_exception)\n\u001B[1;32m    231\u001B[0m \u001B[38;5;28;01mif\u001B[39;00m \u001B[38;5;129;01mnot\u001B[39;00m \u001B[38;5;28misinstance\u001B[39m(converted, UnknownException):\n\u001B[1;32m    232\u001B[0m     \u001B[38;5;66;03m# Hide where the exception came from that shows a non-Pythonic\u001B[39;00m\n\u001B[1;32m    233\u001B[0m     \u001B[38;5;66;03m# JVM exception message.\u001B[39;00m\n\u001B[0;32m--> 234\u001B[0m     \u001B[38;5;28;01mraise\u001B[39;00m converted \u001B[38;5;28;01mfrom\u001B[39;00m \u001B[38;5;28mNone\u001B[39m\n\u001B[1;32m    235\u001B[0m \u001B[38;5;28;01melse\u001B[39;00m:\n\u001B[1;32m    236\u001B[0m     \u001B[38;5;28;01mraise\u001B[39;00m\n\n\u001B[0;31mAnalysisException\u001B[0m: Failed to merge fields 'birth_date' and 'birth_date'",
       "errorSummary": "<span class='ansi-red-fg'>AnalysisException</span>: Failed to merge fields 'birth_date' and 'birth_date'",
       "errorTraceType": "ansi",
       "metadata": {},
       "type": "ipynbError"
      }
     },
     "output_type": "display_data"
    }
   ],
   "source": [
    "from pyspark.sql.functions import col, to_date\n",
    "\n",
    "# Leitura da tabela employees na camada Bronze\n",
    "df_employees_bronze = spark.read.format(\"delta\").load(f\"{caminho_bronze}employees\")\n",
    "\n",
    "# Remover colunas desnecessárias\n",
    "df_temp = df_employees_bronze.drop(\"PhotoPath\", \"Notes\", \"TitleOfCourtesy\")\n",
    "\n",
    "# Criar colunas temporárias convertidas para o tipo date\n",
    "df_temp = df_temp.withColumn(\"birth_date_tmp\", to_date(col(\"BirthDate\"), \"yyyy-MM-dd\")) \\\n",
    "                 .withColumn(\"hire_date_tmp\", to_date(col(\"HireDate\"), \"yyyy-MM-dd\"))\n",
    "\n",
    "# Dropar as colunas antigas\n",
    "df_temp = df_temp.drop(\"BirthDate\", \"HireDate\")\n",
    "\n",
    "# Renomear as colunas temporárias\n",
    "df_temp = df_temp.withColumnRenamed(\"birth_date_tmp\", \"birth_date\") \\\n",
    "                 .withColumnRenamed(\"hire_date_tmp\", \"hire_date\")\n",
    "\n",
    "# Renomear outras colunas\n",
    "df_employees_prata = (\n",
    "    df_temp\n",
    "    .withColumnRenamed(\"EmployeeID\", \"employee_id\")\n",
    "    .withColumnRenamed(\"LastName\", \"last_name\")\n",
    "    .withColumnRenamed(\"FirstName\", \"first_name\")\n",
    "    .withColumnRenamed(\"Title\", \"title\")\n",
    "    .withColumnRenamed(\"Address\", \"address\")\n",
    "    .withColumnRenamed(\"City\", \"city\")\n",
    "    .withColumnRenamed(\"Region\", \"region\")\n",
    "    .withColumnRenamed(\"PostalCode\", \"postal_code\")\n",
    "    .withColumnRenamed(\"Country\", \"country\")\n",
    "    .withColumnRenamed(\"HomePhone\", \"home_phone\")\n",
    "    .withColumnRenamed(\"Extension\", \"extension\")\n",
    ")\n",
    "\n",
    "# Opcional: reorganizar as colunas para melhor leitura\n",
    "colunas_ordenadas = [\n",
    "    \"employee_id\", \"last_name\", \"first_name\", \"title\", \"birth_date\", \"hire_date\",\n",
    "    \"address\", \"city\", \"region\", \"postal_code\", \"country\", \"home_phone\", \"extension\", \"data_ingestao\"\n",
    "]\n",
    "df_employees_prata = df_employees_prata.select(*colunas_ordenadas)\n",
    "\n",
    "# Inspecionar resultado\n",
    "print(\"Schema final da tabela employees:\")\n",
    "df_employees_prata.printSchema()\n",
    "display(df_employees_prata.limit(10))\n",
    "\n",
    "# Salvar na camada prata\n",
    "df_employees_prata.write.format(\"delta\").mode(\"overwrite\").save(f\"{caminho_prata}employees\")\n"
   ]
  },
  {
   "cell_type": "markdown",
   "metadata": {
    "application/vnd.databricks.v1+cell": {
     "cellMetadata": {
      "byteLimit": 2048000,
      "rowLimit": 10000
     },
     "inputWidgets": {},
     "nuid": "c485bb0e-d689-4f0b-8ffc-27d557836f18",
     "showTitle": false,
     "tableResultSettingsMap": {},
     "title": ""
    }
   },
   "source": [
    "### Employees Territories"
   ]
  },
  {
   "cell_type": "code",
   "execution_count": 0,
   "metadata": {
    "application/vnd.databricks.v1+cell": {
     "cellMetadata": {
      "byteLimit": 2048000,
      "rowLimit": 10000
     },
     "inputWidgets": {},
     "nuid": "7faee515-db91-4412-a80a-da3acd495c09",
     "showTitle": false,
     "tableResultSettingsMap": {},
     "title": ""
    }
   },
   "outputs": [
    {
     "output_type": "stream",
     "name": "stdout",
     "output_type": "stream",
     "text": [
      "Schema de employee_territories:\nroot\n |-- employee_id: integer (nullable = true)\n |-- territory_id: integer (nullable = true)\n |-- data_ingestao: timestamp (nullable = true)\n\n"
     ]
    },
    {
     "output_type": "display_data",
     "data": {
      "text/html": [
       "<style scoped>\n",
       "  .table-result-container {\n",
       "    max-height: 300px;\n",
       "    overflow: auto;\n",
       "  }\n",
       "  table, th, td {\n",
       "    border: 1px solid black;\n",
       "    border-collapse: collapse;\n",
       "  }\n",
       "  th, td {\n",
       "    padding: 5px;\n",
       "  }\n",
       "  th {\n",
       "    text-align: left;\n",
       "  }\n",
       "</style><div class='table-result-container'><table class='table-result'><thead style='background-color: white'><tr><th>employee_id</th><th>territory_id</th><th>data_ingestao</th></tr></thead><tbody><tr><td>1</td><td>6897</td><td>2025-04-12T00:44:02.007+0000</td></tr><tr><td>1</td><td>19713</td><td>2025-04-12T00:44:02.007+0000</td></tr><tr><td>2</td><td>1581</td><td>2025-04-12T00:44:02.007+0000</td></tr><tr><td>2</td><td>1730</td><td>2025-04-12T00:44:02.007+0000</td></tr><tr><td>2</td><td>1833</td><td>2025-04-12T00:44:02.007+0000</td></tr><tr><td>2</td><td>2116</td><td>2025-04-12T00:44:02.007+0000</td></tr><tr><td>2</td><td>2139</td><td>2025-04-12T00:44:02.007+0000</td></tr><tr><td>2</td><td>2184</td><td>2025-04-12T00:44:02.007+0000</td></tr><tr><td>2</td><td>40222</td><td>2025-04-12T00:44:02.007+0000</td></tr><tr><td>3</td><td>30346</td><td>2025-04-12T00:44:02.007+0000</td></tr></tbody></table></div>"
      ]
     },
     "metadata": {
      "application/vnd.databricks.v1+output": {
       "addedWidgets": {},
       "aggData": [],
       "aggError": "",
       "aggOverflow": false,
       "aggSchema": [],
       "aggSeriesLimitReached": false,
       "aggType": "",
       "arguments": {},
       "columnCustomDisplayInfos": {},
       "data": [
        [
         1,
         6897,
         "2025-04-12T00:44:02.007+0000"
        ],
        [
         1,
         19713,
         "2025-04-12T00:44:02.007+0000"
        ],
        [
         2,
         1581,
         "2025-04-12T00:44:02.007+0000"
        ],
        [
         2,
         1730,
         "2025-04-12T00:44:02.007+0000"
        ],
        [
         2,
         1833,
         "2025-04-12T00:44:02.007+0000"
        ],
        [
         2,
         2116,
         "2025-04-12T00:44:02.007+0000"
        ],
        [
         2,
         2139,
         "2025-04-12T00:44:02.007+0000"
        ],
        [
         2,
         2184,
         "2025-04-12T00:44:02.007+0000"
        ],
        [
         2,
         40222,
         "2025-04-12T00:44:02.007+0000"
        ],
        [
         3,
         30346,
         "2025-04-12T00:44:02.007+0000"
        ]
       ],
       "datasetInfos": [],
       "dbfsResultPath": null,
       "isJsonSchema": true,
       "metadata": {},
       "overflow": false,
       "plotOptions": {
        "customPlotOptions": {},
        "displayType": "table",
        "pivotAggregation": null,
        "pivotColumns": null,
        "xColumns": null,
        "yColumns": null
       },
       "removedWidgets": [],
       "schema": [
        {
         "metadata": "{}",
         "name": "employee_id",
         "type": "\"integer\""
        },
        {
         "metadata": "{}",
         "name": "territory_id",
         "type": "\"integer\""
        },
        {
         "metadata": "{}",
         "name": "data_ingestao",
         "type": "\"timestamp\""
        }
       ],
       "type": "table"
      }
     },
     "output_type": "display_data"
    }
   ],
   "source": [
    "# Tabela: employee_territories\n",
    "df_emp_territories_bronze = spark.read.format(\"delta\").load(f\"{caminho_bronze}employee_territories\")\n",
    "\n",
    "df_emp_territories_prata = (\n",
    "    df_emp_territories_bronze\n",
    "    .withColumnRenamed(\"EmployeeID\", \"employee_id\")\n",
    "    .withColumnRenamed(\"TerritoryID\", \"territory_id\")\n",
    ")\n",
    "\n",
    "print(\"Schema de employee_territories:\")\n",
    "df_emp_territories_prata.printSchema()\n",
    "display(df_emp_territories_prata.limit(10))\n",
    "\n",
    "df_emp_territories_prata.write.format(\"delta\").mode(\"overwrite\").save(f\"{caminho_prata}employee_territories\")\n"
   ]
  },
  {
   "cell_type": "markdown",
   "metadata": {
    "application/vnd.databricks.v1+cell": {
     "cellMetadata": {
      "byteLimit": 2048000,
      "rowLimit": 10000
     },
     "inputWidgets": {},
     "nuid": "12c6cf8b-13bd-439a-9f86-a613beef51aa",
     "showTitle": false,
     "tableResultSettingsMap": {},
     "title": ""
    }
   },
   "source": [
    "### Order Details"
   ]
  },
  {
   "cell_type": "code",
   "execution_count": 0,
   "metadata": {
    "application/vnd.databricks.v1+cell": {
     "cellMetadata": {
      "byteLimit": 2048000,
      "rowLimit": 10000
     },
     "inputWidgets": {},
     "nuid": "2676d5af-32ed-40ed-a4bb-4f7d561520b9",
     "showTitle": false,
     "tableResultSettingsMap": {},
     "title": ""
    }
   },
   "outputs": [
    {
     "output_type": "stream",
     "name": "stdout",
     "output_type": "stream",
     "text": [
      "Schema final da tabela order_details:\nroot\n |-- order_id: integer (nullable = true)\n |-- product_id: integer (nullable = true)\n |-- unit_price: double (nullable = true)\n |-- quantity: integer (nullable = true)\n |-- discount: double (nullable = true)\n |-- data_ingestao: timestamp (nullable = true)\n\n"
     ]
    },
    {
     "output_type": "display_data",
     "data": {
      "text/html": [
       "<style scoped>\n",
       "  .table-result-container {\n",
       "    max-height: 300px;\n",
       "    overflow: auto;\n",
       "  }\n",
       "  table, th, td {\n",
       "    border: 1px solid black;\n",
       "    border-collapse: collapse;\n",
       "  }\n",
       "  th, td {\n",
       "    padding: 5px;\n",
       "  }\n",
       "  th {\n",
       "    text-align: left;\n",
       "  }\n",
       "</style><div class='table-result-container'><table class='table-result'><thead style='background-color: white'><tr><th>order_id</th><th>product_id</th><th>unit_price</th><th>quantity</th><th>discount</th><th>data_ingestao</th></tr></thead><tbody><tr><td>10248</td><td>11</td><td>14.0</td><td>12</td><td>0.0</td><td>2025-04-12T00:44:12.689+0000</td></tr><tr><td>10248</td><td>42</td><td>9.8</td><td>10</td><td>0.0</td><td>2025-04-12T00:44:12.689+0000</td></tr><tr><td>10248</td><td>72</td><td>34.8</td><td>5</td><td>0.0</td><td>2025-04-12T00:44:12.689+0000</td></tr><tr><td>10249</td><td>14</td><td>18.6</td><td>9</td><td>0.0</td><td>2025-04-12T00:44:12.689+0000</td></tr><tr><td>10249</td><td>51</td><td>42.4</td><td>40</td><td>0.0</td><td>2025-04-12T00:44:12.689+0000</td></tr><tr><td>10250</td><td>41</td><td>7.7</td><td>10</td><td>0.0</td><td>2025-04-12T00:44:12.689+0000</td></tr><tr><td>10250</td><td>51</td><td>42.4</td><td>35</td><td>0.15</td><td>2025-04-12T00:44:12.689+0000</td></tr><tr><td>10250</td><td>65</td><td>16.8</td><td>15</td><td>0.15</td><td>2025-04-12T00:44:12.689+0000</td></tr><tr><td>10251</td><td>22</td><td>16.8</td><td>6</td><td>0.05</td><td>2025-04-12T00:44:12.689+0000</td></tr><tr><td>10251</td><td>57</td><td>15.6</td><td>15</td><td>0.05</td><td>2025-04-12T00:44:12.689+0000</td></tr></tbody></table></div>"
      ]
     },
     "metadata": {
      "application/vnd.databricks.v1+output": {
       "addedWidgets": {},
       "aggData": [],
       "aggError": "",
       "aggOverflow": false,
       "aggSchema": [],
       "aggSeriesLimitReached": false,
       "aggType": "",
       "arguments": {},
       "columnCustomDisplayInfos": {},
       "data": [
        [
         10248,
         11,
         14.0,
         12,
         0.0,
         "2025-04-12T00:44:12.689+0000"
        ],
        [
         10248,
         42,
         9.8,
         10,
         0.0,
         "2025-04-12T00:44:12.689+0000"
        ],
        [
         10248,
         72,
         34.8,
         5,
         0.0,
         "2025-04-12T00:44:12.689+0000"
        ],
        [
         10249,
         14,
         18.6,
         9,
         0.0,
         "2025-04-12T00:44:12.689+0000"
        ],
        [
         10249,
         51,
         42.4,
         40,
         0.0,
         "2025-04-12T00:44:12.689+0000"
        ],
        [
         10250,
         41,
         7.7,
         10,
         0.0,
         "2025-04-12T00:44:12.689+0000"
        ],
        [
         10250,
         51,
         42.4,
         35,
         0.15,
         "2025-04-12T00:44:12.689+0000"
        ],
        [
         10250,
         65,
         16.8,
         15,
         0.15,
         "2025-04-12T00:44:12.689+0000"
        ],
        [
         10251,
         22,
         16.8,
         6,
         0.05,
         "2025-04-12T00:44:12.689+0000"
        ],
        [
         10251,
         57,
         15.6,
         15,
         0.05,
         "2025-04-12T00:44:12.689+0000"
        ]
       ],
       "datasetInfos": [],
       "dbfsResultPath": null,
       "isJsonSchema": true,
       "metadata": {},
       "overflow": false,
       "plotOptions": {
        "customPlotOptions": {},
        "displayType": "table",
        "pivotAggregation": null,
        "pivotColumns": null,
        "xColumns": null,
        "yColumns": null
       },
       "removedWidgets": [],
       "schema": [
        {
         "metadata": "{}",
         "name": "order_id",
         "type": "\"integer\""
        },
        {
         "metadata": "{}",
         "name": "product_id",
         "type": "\"integer\""
        },
        {
         "metadata": "{}",
         "name": "unit_price",
         "type": "\"double\""
        },
        {
         "metadata": "{}",
         "name": "quantity",
         "type": "\"integer\""
        },
        {
         "metadata": "{}",
         "name": "discount",
         "type": "\"double\""
        },
        {
         "metadata": "{}",
         "name": "data_ingestao",
         "type": "\"timestamp\""
        }
       ],
       "type": "table"
      }
     },
     "output_type": "display_data"
    }
   ],
   "source": [
    "from pyspark.sql.functions import col\n",
    "\n",
    "df_order_details_bronze = spark.read.format(\"delta\").load(f\"{caminho_bronze}order_details\")\n",
    "\n",
    "# Casts nas colunas originais antes de renomear\n",
    "df_cast = (\n",
    "    df_order_details_bronze\n",
    "    .withColumn(\"UnitPrice\", col(\"UnitPrice\").cast(\"double\"))\n",
    "    .withColumn(\"Quantity\", col(\"Quantity\").cast(\"int\"))\n",
    "    .withColumn(\"Discount\", col(\"Discount\").cast(\"double\"))\n",
    ")\n",
    "\n",
    "# Agora sim, renomeie para nomes padronizados\n",
    "df_order_details_prata = (\n",
    "    df_cast\n",
    "    .withColumnRenamed(\"OrderID\", \"order_id\")\n",
    "    .withColumnRenamed(\"ProductID\", \"product_id\")\n",
    "    .withColumnRenamed(\"UnitPrice\", \"unit_price\")\n",
    "    .withColumnRenamed(\"Quantity\", \"quantity\")\n",
    "    .withColumnRenamed(\"Discount\", \"discount\")\n",
    ")\n",
    "\n",
    "# Inspecionar resultado\n",
    "print(\"Schema final da tabela order_details:\")\n",
    "df_order_details_prata.printSchema()\n",
    "display(df_order_details_prata.limit(10))\n",
    "\n",
    "# Salvar na camada prata\n",
    "df_order_details_prata.write.format(\"delta\").mode(\"overwrite\").save(f\"{caminho_prata}order_details\")\n"
   ]
  },
  {
   "cell_type": "markdown",
   "metadata": {
    "application/vnd.databricks.v1+cell": {
     "cellMetadata": {
      "byteLimit": 2048000,
      "rowLimit": 10000
     },
     "inputWidgets": {},
     "nuid": "96ade31a-315b-4f2d-80a4-93d7398d93ee",
     "showTitle": false,
     "tableResultSettingsMap": {},
     "title": ""
    }
   },
   "source": [
    "### Tabela Orders\n",
    "Para esse caso, notamos que a coluna ship address não estava encapsulada por aspas duplas, quebrando o csv quando este era importado. Por isso foi necessário um tratamento no arquivo."
   ]
  },
  {
   "cell_type": "code",
   "execution_count": 0,
   "metadata": {
    "application/vnd.databricks.v1+cell": {
     "cellMetadata": {
      "byteLimit": 2048000,
      "rowLimit": 10000
     },
     "inputWidgets": {},
     "nuid": "1dcea72c-44ed-47d6-bd8a-fe78317a5fd5",
     "showTitle": false,
     "tableResultSettingsMap": {},
     "title": ""
    }
   },
   "outputs": [
    {
     "output_type": "stream",
     "name": "stdout",
     "output_type": "stream",
     "text": [
      "Schema do DataFrame reconstruído:\nroot\n |-- orderID: string (nullable = true)\n |-- customerID: string (nullable = true)\n |-- employeeID: string (nullable = true)\n |-- orderDate: string (nullable = true)\n |-- requiredDate: string (nullable = true)\n |-- shippedDate: string (nullable = true)\n |-- shipVia: string (nullable = true)\n |-- freight: string (nullable = true)\n |-- shipName: string (nullable = true)\n |-- shipAddress: string (nullable = true)\n |-- shipCity: string (nullable = true)\n |-- shipRegion: string (nullable = true)\n |-- shipPostalCode: string (nullable = true)\n |-- shipCountry: string (nullable = true)\n |-- data_ingestao: timestamp (nullable = true)\n\n"
     ]
    },
    {
     "output_type": "display_data",
     "data": {
      "text/html": [
       "<style scoped>\n",
       "  .table-result-container {\n",
       "    max-height: 300px;\n",
       "    overflow: auto;\n",
       "  }\n",
       "  table, th, td {\n",
       "    border: 1px solid black;\n",
       "    border-collapse: collapse;\n",
       "  }\n",
       "  th, td {\n",
       "    padding: 5px;\n",
       "  }\n",
       "  th {\n",
       "    text-align: left;\n",
       "  }\n",
       "</style><div class='table-result-container'><table class='table-result'><thead style='background-color: white'><tr><th>orderID</th><th>customerID</th><th>employeeID</th><th>orderDate</th><th>requiredDate</th><th>shippedDate</th><th>shipVia</th><th>freight</th><th>shipName</th><th>shipAddress</th><th>shipCity</th><th>shipRegion</th><th>shipPostalCode</th><th>shipCountry</th><th>data_ingestao</th></tr></thead><tbody><tr><td>10248</td><td>VINET</td><td>5</td><td>1996-07-04 00:00:00.000</td><td>1996-08-01 00:00:00.000</td><td>1996-07-16 00:00:00.000</td><td>3</td><td>32.38</td><td>Vins et alcools Chevalier</td><td>59 rue de l'Abbaye</td><td>Reims</td><td>NULL</td><td>51100</td><td>France</td><td>2025-04-12T00:46:09.719+0000</td></tr><tr><td>10249</td><td>TOMSP</td><td>6</td><td>1996-07-05 00:00:00.000</td><td>1996-08-16 00:00:00.000</td><td>1996-07-10 00:00:00.000</td><td>1</td><td>11.61</td><td>Toms Spezialitäten</td><td>Luisenstr. 48</td><td>Münster</td><td>NULL</td><td>44087</td><td>Germany</td><td>2025-04-12T00:46:09.719+0000</td></tr><tr><td>10250</td><td>HANAR</td><td>4</td><td>1996-07-08 00:00:00.000</td><td>1996-08-05 00:00:00.000</td><td>1996-07-12 00:00:00.000</td><td>2</td><td>65.83</td><td>Hanari Carnes</td><td>Rua do Paço, 67</td><td>Rio de Janeiro</td><td>RJ</td><td>05454-876</td><td>Brazil</td><td>2025-04-12T00:46:09.719+0000</td></tr><tr><td>10251</td><td>VICTE</td><td>3</td><td>1996-07-08 00:00:00.000</td><td>1996-08-05 00:00:00.000</td><td>1996-07-15 00:00:00.000</td><td>1</td><td>41.34</td><td>Victuailles en stock</td><td>2, rue du Commerce</td><td>Lyon</td><td>NULL</td><td>69004</td><td>France</td><td>2025-04-12T00:46:09.719+0000</td></tr><tr><td>10252</td><td>SUPRD</td><td>4</td><td>1996-07-09 00:00:00.000</td><td>1996-08-06 00:00:00.000</td><td>1996-07-11 00:00:00.000</td><td>2</td><td>51.30</td><td>Suprêmes délices</td><td>Boulevard Tirou, 255</td><td>Charleroi</td><td>NULL</td><td>B-6000</td><td>Belgium</td><td>2025-04-12T00:46:09.719+0000</td></tr><tr><td>10253</td><td>HANAR</td><td>3</td><td>1996-07-10 00:00:00.000</td><td>1996-07-24 00:00:00.000</td><td>1996-07-16 00:00:00.000</td><td>2</td><td>58.17</td><td>Hanari Carnes</td><td>Rua do Paço, 67</td><td>Rio de Janeiro</td><td>RJ</td><td>05454-876</td><td>Brazil</td><td>2025-04-12T00:46:09.719+0000</td></tr><tr><td>10254</td><td>CHOPS</td><td>5</td><td>1996-07-11 00:00:00.000</td><td>1996-08-08 00:00:00.000</td><td>1996-07-23 00:00:00.000</td><td>2</td><td>22.98</td><td>Chop-suey Chinese</td><td>Hauptstr. 31</td><td>Bern</td><td>NULL</td><td>3012</td><td>Switzerland</td><td>2025-04-12T00:46:09.719+0000</td></tr><tr><td>10255</td><td>RICSU</td><td>9</td><td>1996-07-12 00:00:00.000</td><td>1996-08-09 00:00:00.000</td><td>1996-07-15 00:00:00.000</td><td>3</td><td>148.33</td><td>Richter Supermarkt</td><td>Starenweg 5</td><td>Genève</td><td>NULL</td><td>1204</td><td>Switzerland</td><td>2025-04-12T00:46:09.719+0000</td></tr><tr><td>10256</td><td>WELLI</td><td>3</td><td>1996-07-15 00:00:00.000</td><td>1996-08-12 00:00:00.000</td><td>1996-07-17 00:00:00.000</td><td>2</td><td>13.97</td><td>Wellington Importadora</td><td>Rua do Mercado, 12</td><td>Resende</td><td>SP</td><td>08737-363</td><td>Brazil</td><td>2025-04-12T00:46:09.719+0000</td></tr><tr><td>10257</td><td>HILAA</td><td>4</td><td>1996-07-16 00:00:00.000</td><td>1996-08-13 00:00:00.000</td><td>1996-07-22 00:00:00.000</td><td>3</td><td>81.91</td><td>HILARION-Abastos</td><td>Carrera 22 con Ave. Carlos Soublette #8-35</td><td>San Cristóbal</td><td>Táchira</td><td>5022</td><td>Venezuela</td><td>2025-04-12T00:46:09.719+0000</td></tr></tbody></table></div>"
      ]
     },
     "metadata": {
      "application/vnd.databricks.v1+output": {
       "addedWidgets": {},
       "aggData": [],
       "aggError": "",
       "aggOverflow": false,
       "aggSchema": [],
       "aggSeriesLimitReached": false,
       "aggType": "",
       "arguments": {},
       "columnCustomDisplayInfos": {},
       "data": [
        [
         "10248",
         "VINET",
         "5",
         "1996-07-04 00:00:00.000",
         "1996-08-01 00:00:00.000",
         "1996-07-16 00:00:00.000",
         "3",
         "32.38",
         "Vins et alcools Chevalier",
         "59 rue de l'Abbaye",
         "Reims",
         "NULL",
         "51100",
         "France",
         "2025-04-12T00:46:09.719+0000"
        ],
        [
         "10249",
         "TOMSP",
         "6",
         "1996-07-05 00:00:00.000",
         "1996-08-16 00:00:00.000",
         "1996-07-10 00:00:00.000",
         "1",
         "11.61",
         "Toms Spezialitäten",
         "Luisenstr. 48",
         "Münster",
         "NULL",
         "44087",
         "Germany",
         "2025-04-12T00:46:09.719+0000"
        ],
        [
         "10250",
         "HANAR",
         "4",
         "1996-07-08 00:00:00.000",
         "1996-08-05 00:00:00.000",
         "1996-07-12 00:00:00.000",
         "2",
         "65.83",
         "Hanari Carnes",
         "Rua do Paço, 67",
         "Rio de Janeiro",
         "RJ",
         "05454-876",
         "Brazil",
         "2025-04-12T00:46:09.719+0000"
        ],
        [
         "10251",
         "VICTE",
         "3",
         "1996-07-08 00:00:00.000",
         "1996-08-05 00:00:00.000",
         "1996-07-15 00:00:00.000",
         "1",
         "41.34",
         "Victuailles en stock",
         "2, rue du Commerce",
         "Lyon",
         "NULL",
         "69004",
         "France",
         "2025-04-12T00:46:09.719+0000"
        ],
        [
         "10252",
         "SUPRD",
         "4",
         "1996-07-09 00:00:00.000",
         "1996-08-06 00:00:00.000",
         "1996-07-11 00:00:00.000",
         "2",
         "51.30",
         "Suprêmes délices",
         "Boulevard Tirou, 255",
         "Charleroi",
         "NULL",
         "B-6000",
         "Belgium",
         "2025-04-12T00:46:09.719+0000"
        ],
        [
         "10253",
         "HANAR",
         "3",
         "1996-07-10 00:00:00.000",
         "1996-07-24 00:00:00.000",
         "1996-07-16 00:00:00.000",
         "2",
         "58.17",
         "Hanari Carnes",
         "Rua do Paço, 67",
         "Rio de Janeiro",
         "RJ",
         "05454-876",
         "Brazil",
         "2025-04-12T00:46:09.719+0000"
        ],
        [
         "10254",
         "CHOPS",
         "5",
         "1996-07-11 00:00:00.000",
         "1996-08-08 00:00:00.000",
         "1996-07-23 00:00:00.000",
         "2",
         "22.98",
         "Chop-suey Chinese",
         "Hauptstr. 31",
         "Bern",
         "NULL",
         "3012",
         "Switzerland",
         "2025-04-12T00:46:09.719+0000"
        ],
        [
         "10255",
         "RICSU",
         "9",
         "1996-07-12 00:00:00.000",
         "1996-08-09 00:00:00.000",
         "1996-07-15 00:00:00.000",
         "3",
         "148.33",
         "Richter Supermarkt",
         "Starenweg 5",
         "Genève",
         "NULL",
         "1204",
         "Switzerland",
         "2025-04-12T00:46:09.719+0000"
        ],
        [
         "10256",
         "WELLI",
         "3",
         "1996-07-15 00:00:00.000",
         "1996-08-12 00:00:00.000",
         "1996-07-17 00:00:00.000",
         "2",
         "13.97",
         "Wellington Importadora",
         "Rua do Mercado, 12",
         "Resende",
         "SP",
         "08737-363",
         "Brazil",
         "2025-04-12T00:46:09.719+0000"
        ],
        [
         "10257",
         "HILAA",
         "4",
         "1996-07-16 00:00:00.000",
         "1996-08-13 00:00:00.000",
         "1996-07-22 00:00:00.000",
         "3",
         "81.91",
         "HILARION-Abastos",
         "Carrera 22 con Ave. Carlos Soublette #8-35",
         "San Cristóbal",
         "Táchira",
         "5022",
         "Venezuela",
         "2025-04-12T00:46:09.719+0000"
        ]
       ],
       "datasetInfos": [],
       "dbfsResultPath": null,
       "isJsonSchema": true,
       "metadata": {},
       "overflow": false,
       "plotOptions": {
        "customPlotOptions": {},
        "displayType": "table",
        "pivotAggregation": null,
        "pivotColumns": null,
        "xColumns": null,
        "yColumns": null
       },
       "removedWidgets": [],
       "schema": [
        {
         "metadata": "{}",
         "name": "orderID",
         "type": "\"string\""
        },
        {
         "metadata": "{}",
         "name": "customerID",
         "type": "\"string\""
        },
        {
         "metadata": "{}",
         "name": "employeeID",
         "type": "\"string\""
        },
        {
         "metadata": "{}",
         "name": "orderDate",
         "type": "\"string\""
        },
        {
         "metadata": "{}",
         "name": "requiredDate",
         "type": "\"string\""
        },
        {
         "metadata": "{}",
         "name": "shippedDate",
         "type": "\"string\""
        },
        {
         "metadata": "{}",
         "name": "shipVia",
         "type": "\"string\""
        },
        {
         "metadata": "{}",
         "name": "freight",
         "type": "\"string\""
        },
        {
         "metadata": "{}",
         "name": "shipName",
         "type": "\"string\""
        },
        {
         "metadata": "{}",
         "name": "shipAddress",
         "type": "\"string\""
        },
        {
         "metadata": "{}",
         "name": "shipCity",
         "type": "\"string\""
        },
        {
         "metadata": "{}",
         "name": "shipRegion",
         "type": "\"string\""
        },
        {
         "metadata": "{}",
         "name": "shipPostalCode",
         "type": "\"string\""
        },
        {
         "metadata": "{}",
         "name": "shipCountry",
         "type": "\"string\""
        },
        {
         "metadata": "{}",
         "name": "data_ingestao",
         "type": "\"timestamp\""
        }
       ],
       "type": "table"
      }
     },
     "output_type": "display_data"
    },
    {
     "output_type": "stream",
     "name": "stdout",
     "output_type": "stream",
     "text": [
      "Schema final da orders na camada Prata:\nroot\n |-- order_id: integer (nullable = true)\n |-- customer_id: string (nullable = true)\n |-- employee_id: integer (nullable = true)\n |-- order_date: date (nullable = true)\n |-- required_date: date (nullable = true)\n |-- shipped_date: date (nullable = true)\n |-- ship_via: integer (nullable = true)\n |-- freight: double (nullable = true)\n |-- ship_name: string (nullable = true)\n |-- ship_address: string (nullable = true)\n |-- ship_city: string (nullable = true)\n |-- ship_region: string (nullable = true)\n |-- ship_postal_code: string (nullable = true)\n |-- ship_country: string (nullable = true)\n |-- data_ingestao: timestamp (nullable = true)\n\n"
     ]
    },
    {
     "output_type": "display_data",
     "data": {
      "text/html": [
       "<style scoped>\n",
       "  .table-result-container {\n",
       "    max-height: 300px;\n",
       "    overflow: auto;\n",
       "  }\n",
       "  table, th, td {\n",
       "    border: 1px solid black;\n",
       "    border-collapse: collapse;\n",
       "  }\n",
       "  th, td {\n",
       "    padding: 5px;\n",
       "  }\n",
       "  th {\n",
       "    text-align: left;\n",
       "  }\n",
       "</style><div class='table-result-container'><table class='table-result'><thead style='background-color: white'><tr><th>order_id</th><th>customer_id</th><th>employee_id</th><th>order_date</th><th>required_date</th><th>shipped_date</th><th>ship_via</th><th>freight</th><th>ship_name</th><th>ship_address</th><th>ship_city</th><th>ship_region</th><th>ship_postal_code</th><th>ship_country</th><th>data_ingestao</th></tr></thead><tbody><tr><td>10248</td><td>VINET</td><td>5</td><td>1996-07-04</td><td>1996-08-01</td><td>1996-07-16</td><td>3</td><td>32.38</td><td>Vins et alcools Chevalier</td><td>59 rue de l'Abbaye</td><td>Reims</td><td>NULL</td><td>51100</td><td>France</td><td>2025-04-12T00:46:09.719+0000</td></tr><tr><td>10249</td><td>TOMSP</td><td>6</td><td>1996-07-05</td><td>1996-08-16</td><td>1996-07-10</td><td>1</td><td>11.61</td><td>Toms Spezialitäten</td><td>Luisenstr. 48</td><td>Münster</td><td>NULL</td><td>44087</td><td>Germany</td><td>2025-04-12T00:46:09.719+0000</td></tr><tr><td>10250</td><td>HANAR</td><td>4</td><td>1996-07-08</td><td>1996-08-05</td><td>1996-07-12</td><td>2</td><td>65.83</td><td>Hanari Carnes</td><td>Rua do Paço, 67</td><td>Rio de Janeiro</td><td>RJ</td><td>05454-876</td><td>Brazil</td><td>2025-04-12T00:46:09.719+0000</td></tr><tr><td>10251</td><td>VICTE</td><td>3</td><td>1996-07-08</td><td>1996-08-05</td><td>1996-07-15</td><td>1</td><td>41.34</td><td>Victuailles en stock</td><td>2, rue du Commerce</td><td>Lyon</td><td>NULL</td><td>69004</td><td>France</td><td>2025-04-12T00:46:09.719+0000</td></tr><tr><td>10252</td><td>SUPRD</td><td>4</td><td>1996-07-09</td><td>1996-08-06</td><td>1996-07-11</td><td>2</td><td>51.3</td><td>Suprêmes délices</td><td>Boulevard Tirou, 255</td><td>Charleroi</td><td>NULL</td><td>B-6000</td><td>Belgium</td><td>2025-04-12T00:46:09.719+0000</td></tr><tr><td>10253</td><td>HANAR</td><td>3</td><td>1996-07-10</td><td>1996-07-24</td><td>1996-07-16</td><td>2</td><td>58.17</td><td>Hanari Carnes</td><td>Rua do Paço, 67</td><td>Rio de Janeiro</td><td>RJ</td><td>05454-876</td><td>Brazil</td><td>2025-04-12T00:46:09.719+0000</td></tr><tr><td>10254</td><td>CHOPS</td><td>5</td><td>1996-07-11</td><td>1996-08-08</td><td>1996-07-23</td><td>2</td><td>22.98</td><td>Chop-suey Chinese</td><td>Hauptstr. 31</td><td>Bern</td><td>NULL</td><td>3012</td><td>Switzerland</td><td>2025-04-12T00:46:09.719+0000</td></tr><tr><td>10255</td><td>RICSU</td><td>9</td><td>1996-07-12</td><td>1996-08-09</td><td>1996-07-15</td><td>3</td><td>148.33</td><td>Richter Supermarkt</td><td>Starenweg 5</td><td>Genève</td><td>NULL</td><td>1204</td><td>Switzerland</td><td>2025-04-12T00:46:09.719+0000</td></tr><tr><td>10256</td><td>WELLI</td><td>3</td><td>1996-07-15</td><td>1996-08-12</td><td>1996-07-17</td><td>2</td><td>13.97</td><td>Wellington Importadora</td><td>Rua do Mercado, 12</td><td>Resende</td><td>SP</td><td>08737-363</td><td>Brazil</td><td>2025-04-12T00:46:09.719+0000</td></tr><tr><td>10257</td><td>HILAA</td><td>4</td><td>1996-07-16</td><td>1996-08-13</td><td>1996-07-22</td><td>3</td><td>81.91</td><td>HILARION-Abastos</td><td>Carrera 22 con Ave. Carlos Soublette #8-35</td><td>San Cristóbal</td><td>Táchira</td><td>5022</td><td>Venezuela</td><td>2025-04-12T00:46:09.719+0000</td></tr></tbody></table></div>"
      ]
     },
     "metadata": {
      "application/vnd.databricks.v1+output": {
       "addedWidgets": {},
       "aggData": [],
       "aggError": "",
       "aggOverflow": false,
       "aggSchema": [],
       "aggSeriesLimitReached": false,
       "aggType": "",
       "arguments": {},
       "columnCustomDisplayInfos": {},
       "data": [
        [
         10248,
         "VINET",
         5,
         "1996-07-04",
         "1996-08-01",
         "1996-07-16",
         3,
         32.38,
         "Vins et alcools Chevalier",
         "59 rue de l'Abbaye",
         "Reims",
         "NULL",
         "51100",
         "France",
         "2025-04-12T00:46:09.719+0000"
        ],
        [
         10249,
         "TOMSP",
         6,
         "1996-07-05",
         "1996-08-16",
         "1996-07-10",
         1,
         11.61,
         "Toms Spezialitäten",
         "Luisenstr. 48",
         "Münster",
         "NULL",
         "44087",
         "Germany",
         "2025-04-12T00:46:09.719+0000"
        ],
        [
         10250,
         "HANAR",
         4,
         "1996-07-08",
         "1996-08-05",
         "1996-07-12",
         2,
         65.83,
         "Hanari Carnes",
         "Rua do Paço, 67",
         "Rio de Janeiro",
         "RJ",
         "05454-876",
         "Brazil",
         "2025-04-12T00:46:09.719+0000"
        ],
        [
         10251,
         "VICTE",
         3,
         "1996-07-08",
         "1996-08-05",
         "1996-07-15",
         1,
         41.34,
         "Victuailles en stock",
         "2, rue du Commerce",
         "Lyon",
         "NULL",
         "69004",
         "France",
         "2025-04-12T00:46:09.719+0000"
        ],
        [
         10252,
         "SUPRD",
         4,
         "1996-07-09",
         "1996-08-06",
         "1996-07-11",
         2,
         51.3,
         "Suprêmes délices",
         "Boulevard Tirou, 255",
         "Charleroi",
         "NULL",
         "B-6000",
         "Belgium",
         "2025-04-12T00:46:09.719+0000"
        ],
        [
         10253,
         "HANAR",
         3,
         "1996-07-10",
         "1996-07-24",
         "1996-07-16",
         2,
         58.17,
         "Hanari Carnes",
         "Rua do Paço, 67",
         "Rio de Janeiro",
         "RJ",
         "05454-876",
         "Brazil",
         "2025-04-12T00:46:09.719+0000"
        ],
        [
         10254,
         "CHOPS",
         5,
         "1996-07-11",
         "1996-08-08",
         "1996-07-23",
         2,
         22.98,
         "Chop-suey Chinese",
         "Hauptstr. 31",
         "Bern",
         "NULL",
         "3012",
         "Switzerland",
         "2025-04-12T00:46:09.719+0000"
        ],
        [
         10255,
         "RICSU",
         9,
         "1996-07-12",
         "1996-08-09",
         "1996-07-15",
         3,
         148.33,
         "Richter Supermarkt",
         "Starenweg 5",
         "Genève",
         "NULL",
         "1204",
         "Switzerland",
         "2025-04-12T00:46:09.719+0000"
        ],
        [
         10256,
         "WELLI",
         3,
         "1996-07-15",
         "1996-08-12",
         "1996-07-17",
         2,
         13.97,
         "Wellington Importadora",
         "Rua do Mercado, 12",
         "Resende",
         "SP",
         "08737-363",
         "Brazil",
         "2025-04-12T00:46:09.719+0000"
        ],
        [
         10257,
         "HILAA",
         4,
         "1996-07-16",
         "1996-08-13",
         "1996-07-22",
         3,
         81.91,
         "HILARION-Abastos",
         "Carrera 22 con Ave. Carlos Soublette #8-35",
         "San Cristóbal",
         "Táchira",
         "5022",
         "Venezuela",
         "2025-04-12T00:46:09.719+0000"
        ]
       ],
       "datasetInfos": [],
       "dbfsResultPath": null,
       "isJsonSchema": true,
       "metadata": {},
       "overflow": false,
       "plotOptions": {
        "customPlotOptions": {},
        "displayType": "table",
        "pivotAggregation": null,
        "pivotColumns": null,
        "xColumns": null,
        "yColumns": null
       },
       "removedWidgets": [],
       "schema": [
        {
         "metadata": "{}",
         "name": "order_id",
         "type": "\"integer\""
        },
        {
         "metadata": "{}",
         "name": "customer_id",
         "type": "\"string\""
        },
        {
         "metadata": "{}",
         "name": "employee_id",
         "type": "\"integer\""
        },
        {
         "metadata": "{}",
         "name": "order_date",
         "type": "\"date\""
        },
        {
         "metadata": "{}",
         "name": "required_date",
         "type": "\"date\""
        },
        {
         "metadata": "{}",
         "name": "shipped_date",
         "type": "\"date\""
        },
        {
         "metadata": "{}",
         "name": "ship_via",
         "type": "\"integer\""
        },
        {
         "metadata": "{}",
         "name": "freight",
         "type": "\"double\""
        },
        {
         "metadata": "{}",
         "name": "ship_name",
         "type": "\"string\""
        },
        {
         "metadata": "{}",
         "name": "ship_address",
         "type": "\"string\""
        },
        {
         "metadata": "{}",
         "name": "ship_city",
         "type": "\"string\""
        },
        {
         "metadata": "{}",
         "name": "ship_region",
         "type": "\"string\""
        },
        {
         "metadata": "{}",
         "name": "ship_postal_code",
         "type": "\"string\""
        },
        {
         "metadata": "{}",
         "name": "ship_country",
         "type": "\"string\""
        },
        {
         "metadata": "{}",
         "name": "data_ingestao",
         "type": "\"timestamp\""
        }
       ],
       "type": "table"
      }
     },
     "output_type": "display_data"
    },
    {
     "output_type": "display_data",
     "data": {
      "text/plain": [
       "\u001B[0;31m---------------------------------------------------------------------------\u001B[0m\n",
       "\u001B[0;31mAnalysisException\u001B[0m                         Traceback (most recent call last)\n",
       "File \u001B[0;32m<command-4035143838159746>:123\u001B[0m\n",
       "\u001B[1;32m    118\u001B[0m display(df_orders_prata\u001B[38;5;241m.\u001B[39mlimit(\u001B[38;5;241m10\u001B[39m))\n",
       "\u001B[1;32m    120\u001B[0m \u001B[38;5;66;03m# -------------------------------------------------------------------\u001B[39;00m\n",
       "\u001B[1;32m    121\u001B[0m \u001B[38;5;66;03m# 5. Gravar o DataFrame na camada Prata usando formato Delta\u001B[39;00m\n",
       "\u001B[1;32m    122\u001B[0m \u001B[38;5;66;03m# -------------------------------------------------------------------\u001B[39;00m\n",
       "\u001B[0;32m--> 123\u001B[0m df_orders_prata\u001B[38;5;241m.\u001B[39mwrite\u001B[38;5;241m.\u001B[39mformat(\u001B[38;5;124m\"\u001B[39m\u001B[38;5;124mdelta\u001B[39m\u001B[38;5;124m\"\u001B[39m)\u001B[38;5;241m.\u001B[39mmode(\u001B[38;5;124m\"\u001B[39m\u001B[38;5;124moverwrite\u001B[39m\u001B[38;5;124m\"\u001B[39m)\u001B[38;5;241m.\u001B[39msave(silver_path)\n",
       "\u001B[1;32m    124\u001B[0m \u001B[38;5;28mprint\u001B[39m(\u001B[38;5;124m\"\u001B[39m\u001B[38;5;124mTabela orders salva na camada Prata em:\u001B[39m\u001B[38;5;124m\"\u001B[39m, silver_path)\n",
       "\n",
       "File \u001B[0;32m/databricks/spark/python/pyspark/instrumentation_utils.py:48\u001B[0m, in \u001B[0;36m_wrap_function.<locals>.wrapper\u001B[0;34m(*args, **kwargs)\u001B[0m\n",
       "\u001B[1;32m     46\u001B[0m start \u001B[38;5;241m=\u001B[39m time\u001B[38;5;241m.\u001B[39mperf_counter()\n",
       "\u001B[1;32m     47\u001B[0m \u001B[38;5;28;01mtry\u001B[39;00m:\n",
       "\u001B[0;32m---> 48\u001B[0m     res \u001B[38;5;241m=\u001B[39m \u001B[43mfunc\u001B[49m\u001B[43m(\u001B[49m\u001B[38;5;241;43m*\u001B[39;49m\u001B[43margs\u001B[49m\u001B[43m,\u001B[49m\u001B[43m \u001B[49m\u001B[38;5;241;43m*\u001B[39;49m\u001B[38;5;241;43m*\u001B[39;49m\u001B[43mkwargs\u001B[49m\u001B[43m)\u001B[49m\n",
       "\u001B[1;32m     49\u001B[0m     logger\u001B[38;5;241m.\u001B[39mlog_success(\n",
       "\u001B[1;32m     50\u001B[0m         module_name, class_name, function_name, time\u001B[38;5;241m.\u001B[39mperf_counter() \u001B[38;5;241m-\u001B[39m start, signature\n",
       "\u001B[1;32m     51\u001B[0m     )\n",
       "\u001B[1;32m     52\u001B[0m     \u001B[38;5;28;01mreturn\u001B[39;00m res\n",
       "\n",
       "File \u001B[0;32m/databricks/spark/python/pyspark/sql/readwriter.py:1397\u001B[0m, in \u001B[0;36mDataFrameWriter.save\u001B[0;34m(self, path, format, mode, partitionBy, **options)\u001B[0m\n",
       "\u001B[1;32m   1395\u001B[0m     \u001B[38;5;28mself\u001B[39m\u001B[38;5;241m.\u001B[39m_jwrite\u001B[38;5;241m.\u001B[39msave()\n",
       "\u001B[1;32m   1396\u001B[0m \u001B[38;5;28;01melse\u001B[39;00m:\n",
       "\u001B[0;32m-> 1397\u001B[0m     \u001B[38;5;28;43mself\u001B[39;49m\u001B[38;5;241;43m.\u001B[39;49m\u001B[43m_jwrite\u001B[49m\u001B[38;5;241;43m.\u001B[39;49m\u001B[43msave\u001B[49m\u001B[43m(\u001B[49m\u001B[43mpath\u001B[49m\u001B[43m)\u001B[49m\n",
       "\n",
       "File \u001B[0;32m/databricks/spark/python/lib/py4j-0.10.9.5-src.zip/py4j/java_gateway.py:1321\u001B[0m, in \u001B[0;36mJavaMember.__call__\u001B[0;34m(self, *args)\u001B[0m\n",
       "\u001B[1;32m   1315\u001B[0m command \u001B[38;5;241m=\u001B[39m proto\u001B[38;5;241m.\u001B[39mCALL_COMMAND_NAME \u001B[38;5;241m+\u001B[39m\\\n",
       "\u001B[1;32m   1316\u001B[0m     \u001B[38;5;28mself\u001B[39m\u001B[38;5;241m.\u001B[39mcommand_header \u001B[38;5;241m+\u001B[39m\\\n",
       "\u001B[1;32m   1317\u001B[0m     args_command \u001B[38;5;241m+\u001B[39m\\\n",
       "\u001B[1;32m   1318\u001B[0m     proto\u001B[38;5;241m.\u001B[39mEND_COMMAND_PART\n",
       "\u001B[1;32m   1320\u001B[0m answer \u001B[38;5;241m=\u001B[39m \u001B[38;5;28mself\u001B[39m\u001B[38;5;241m.\u001B[39mgateway_client\u001B[38;5;241m.\u001B[39msend_command(command)\n",
       "\u001B[0;32m-> 1321\u001B[0m return_value \u001B[38;5;241m=\u001B[39m \u001B[43mget_return_value\u001B[49m\u001B[43m(\u001B[49m\n",
       "\u001B[1;32m   1322\u001B[0m \u001B[43m    \u001B[49m\u001B[43manswer\u001B[49m\u001B[43m,\u001B[49m\u001B[43m \u001B[49m\u001B[38;5;28;43mself\u001B[39;49m\u001B[38;5;241;43m.\u001B[39;49m\u001B[43mgateway_client\u001B[49m\u001B[43m,\u001B[49m\u001B[43m \u001B[49m\u001B[38;5;28;43mself\u001B[39;49m\u001B[38;5;241;43m.\u001B[39;49m\u001B[43mtarget_id\u001B[49m\u001B[43m,\u001B[49m\u001B[43m \u001B[49m\u001B[38;5;28;43mself\u001B[39;49m\u001B[38;5;241;43m.\u001B[39;49m\u001B[43mname\u001B[49m\u001B[43m)\u001B[49m\n",
       "\u001B[1;32m   1324\u001B[0m \u001B[38;5;28;01mfor\u001B[39;00m temp_arg \u001B[38;5;129;01min\u001B[39;00m temp_args:\n",
       "\u001B[1;32m   1325\u001B[0m     temp_arg\u001B[38;5;241m.\u001B[39m_detach()\n",
       "\n",
       "File \u001B[0;32m/databricks/spark/python/pyspark/errors/exceptions.py:234\u001B[0m, in \u001B[0;36mcapture_sql_exception.<locals>.deco\u001B[0;34m(*a, **kw)\u001B[0m\n",
       "\u001B[1;32m    230\u001B[0m converted \u001B[38;5;241m=\u001B[39m convert_exception(e\u001B[38;5;241m.\u001B[39mjava_exception)\n",
       "\u001B[1;32m    231\u001B[0m \u001B[38;5;28;01mif\u001B[39;00m \u001B[38;5;129;01mnot\u001B[39;00m \u001B[38;5;28misinstance\u001B[39m(converted, UnknownException):\n",
       "\u001B[1;32m    232\u001B[0m     \u001B[38;5;66;03m# Hide where the exception came from that shows a non-Pythonic\u001B[39;00m\n",
       "\u001B[1;32m    233\u001B[0m     \u001B[38;5;66;03m# JVM exception message.\u001B[39;00m\n",
       "\u001B[0;32m--> 234\u001B[0m     \u001B[38;5;28;01mraise\u001B[39;00m converted \u001B[38;5;28;01mfrom\u001B[39;00m \u001B[38;5;28mNone\u001B[39m\n",
       "\u001B[1;32m    235\u001B[0m \u001B[38;5;28;01melse\u001B[39;00m:\n",
       "\u001B[1;32m    236\u001B[0m     \u001B[38;5;28;01mraise\u001B[39;00m\n",
       "\n",
       "\u001B[0;31mAnalysisException\u001B[0m: A schema mismatch detected when writing to the Delta table (Table ID: 17262f0d-d45f-4331-addd-f8e687b69b33).\n",
       "To enable schema migration using DataFrameWriter or DataStreamWriter, please set:\n",
       "'.option(\"mergeSchema\", \"true\")'.\n",
       "For other operations, set the session configuration\n",
       "spark.databricks.delta.schema.autoMerge.enabled to \"true\". See the documentation\n",
       "specific to the operation for details.\n",
       "\n",
       "Table schema:\n",
       "root\n",
       "-- order_id: integer (nullable = true)\n",
       "-- customer_id: string (nullable = true)\n",
       "-- employee_id: integer (nullable = true)\n",
       "-- order_date: date (nullable = true)\n",
       "-- required_date: date (nullable = true)\n",
       "-- shippedDate: string (nullable = true)\n",
       "-- shipVia: integer (nullable = true)\n",
       "-- freight: double (nullable = true)\n",
       "-- shipName: string (nullable = true)\n",
       "-- shipAddress: string (nullable = true)\n",
       "-- shipCity: string (nullable = true)\n",
       "-- shipRegion: string (nullable = true)\n",
       "-- shipPostalCode: string (nullable = true)\n",
       "-- shipCountry: string (nullable = true)\n",
       "-- data_ingestao: timestamp (nullable = true)\n",
       "\n",
       "\n",
       "Data schema:\n",
       "root\n",
       "-- order_id: integer (nullable = true)\n",
       "-- customer_id: string (nullable = true)\n",
       "-- employee_id: integer (nullable = true)\n",
       "-- order_date: date (nullable = true)\n",
       "-- required_date: date (nullable = true)\n",
       "-- shipped_date: date (nullable = true)\n",
       "-- ship_via: integer (nullable = true)\n",
       "-- freight: double (nullable = true)\n",
       "-- ship_name: string (nullable = true)\n",
       "-- ship_address: string (nullable = true)\n",
       "-- ship_city: string (nullable = true)\n",
       "-- ship_region: string (nullable = true)\n",
       "-- ship_postal_code: string (nullable = true)\n",
       "-- ship_country: string (nullable = true)\n",
       "-- data_ingestao: timestamp (nullable = true)\n",
       "\n",
       "         \n",
       "To overwrite your schema or change partitioning, please set:\n",
       "'.option(\"overwriteSchema\", \"true\")'.\n",
       "\n",
       "Note that the schema can't be overwritten when using\n",
       "'replaceWhere'.\n",
       "         "
      ]
     },
     "metadata": {
      "application/vnd.databricks.v1+output": {
       "arguments": {},
       "data": "\u001B[0;31m---------------------------------------------------------------------------\u001B[0m\n\u001B[0;31mAnalysisException\u001B[0m                         Traceback (most recent call last)\nFile \u001B[0;32m<command-4035143838159746>:123\u001B[0m\n\u001B[1;32m    118\u001B[0m display(df_orders_prata\u001B[38;5;241m.\u001B[39mlimit(\u001B[38;5;241m10\u001B[39m))\n\u001B[1;32m    120\u001B[0m \u001B[38;5;66;03m# -------------------------------------------------------------------\u001B[39;00m\n\u001B[1;32m    121\u001B[0m \u001B[38;5;66;03m# 5. Gravar o DataFrame na camada Prata usando formato Delta\u001B[39;00m\n\u001B[1;32m    122\u001B[0m \u001B[38;5;66;03m# -------------------------------------------------------------------\u001B[39;00m\n\u001B[0;32m--> 123\u001B[0m df_orders_prata\u001B[38;5;241m.\u001B[39mwrite\u001B[38;5;241m.\u001B[39mformat(\u001B[38;5;124m\"\u001B[39m\u001B[38;5;124mdelta\u001B[39m\u001B[38;5;124m\"\u001B[39m)\u001B[38;5;241m.\u001B[39mmode(\u001B[38;5;124m\"\u001B[39m\u001B[38;5;124moverwrite\u001B[39m\u001B[38;5;124m\"\u001B[39m)\u001B[38;5;241m.\u001B[39msave(silver_path)\n\u001B[1;32m    124\u001B[0m \u001B[38;5;28mprint\u001B[39m(\u001B[38;5;124m\"\u001B[39m\u001B[38;5;124mTabela orders salva na camada Prata em:\u001B[39m\u001B[38;5;124m\"\u001B[39m, silver_path)\n\nFile \u001B[0;32m/databricks/spark/python/pyspark/instrumentation_utils.py:48\u001B[0m, in \u001B[0;36m_wrap_function.<locals>.wrapper\u001B[0;34m(*args, **kwargs)\u001B[0m\n\u001B[1;32m     46\u001B[0m start \u001B[38;5;241m=\u001B[39m time\u001B[38;5;241m.\u001B[39mperf_counter()\n\u001B[1;32m     47\u001B[0m \u001B[38;5;28;01mtry\u001B[39;00m:\n\u001B[0;32m---> 48\u001B[0m     res \u001B[38;5;241m=\u001B[39m \u001B[43mfunc\u001B[49m\u001B[43m(\u001B[49m\u001B[38;5;241;43m*\u001B[39;49m\u001B[43margs\u001B[49m\u001B[43m,\u001B[49m\u001B[43m \u001B[49m\u001B[38;5;241;43m*\u001B[39;49m\u001B[38;5;241;43m*\u001B[39;49m\u001B[43mkwargs\u001B[49m\u001B[43m)\u001B[49m\n\u001B[1;32m     49\u001B[0m     logger\u001B[38;5;241m.\u001B[39mlog_success(\n\u001B[1;32m     50\u001B[0m         module_name, class_name, function_name, time\u001B[38;5;241m.\u001B[39mperf_counter() \u001B[38;5;241m-\u001B[39m start, signature\n\u001B[1;32m     51\u001B[0m     )\n\u001B[1;32m     52\u001B[0m     \u001B[38;5;28;01mreturn\u001B[39;00m res\n\nFile \u001B[0;32m/databricks/spark/python/pyspark/sql/readwriter.py:1397\u001B[0m, in \u001B[0;36mDataFrameWriter.save\u001B[0;34m(self, path, format, mode, partitionBy, **options)\u001B[0m\n\u001B[1;32m   1395\u001B[0m     \u001B[38;5;28mself\u001B[39m\u001B[38;5;241m.\u001B[39m_jwrite\u001B[38;5;241m.\u001B[39msave()\n\u001B[1;32m   1396\u001B[0m \u001B[38;5;28;01melse\u001B[39;00m:\n\u001B[0;32m-> 1397\u001B[0m     \u001B[38;5;28;43mself\u001B[39;49m\u001B[38;5;241;43m.\u001B[39;49m\u001B[43m_jwrite\u001B[49m\u001B[38;5;241;43m.\u001B[39;49m\u001B[43msave\u001B[49m\u001B[43m(\u001B[49m\u001B[43mpath\u001B[49m\u001B[43m)\u001B[49m\n\nFile \u001B[0;32m/databricks/spark/python/lib/py4j-0.10.9.5-src.zip/py4j/java_gateway.py:1321\u001B[0m, in \u001B[0;36mJavaMember.__call__\u001B[0;34m(self, *args)\u001B[0m\n\u001B[1;32m   1315\u001B[0m command \u001B[38;5;241m=\u001B[39m proto\u001B[38;5;241m.\u001B[39mCALL_COMMAND_NAME \u001B[38;5;241m+\u001B[39m\\\n\u001B[1;32m   1316\u001B[0m     \u001B[38;5;28mself\u001B[39m\u001B[38;5;241m.\u001B[39mcommand_header \u001B[38;5;241m+\u001B[39m\\\n\u001B[1;32m   1317\u001B[0m     args_command \u001B[38;5;241m+\u001B[39m\\\n\u001B[1;32m   1318\u001B[0m     proto\u001B[38;5;241m.\u001B[39mEND_COMMAND_PART\n\u001B[1;32m   1320\u001B[0m answer \u001B[38;5;241m=\u001B[39m \u001B[38;5;28mself\u001B[39m\u001B[38;5;241m.\u001B[39mgateway_client\u001B[38;5;241m.\u001B[39msend_command(command)\n\u001B[0;32m-> 1321\u001B[0m return_value \u001B[38;5;241m=\u001B[39m \u001B[43mget_return_value\u001B[49m\u001B[43m(\u001B[49m\n\u001B[1;32m   1322\u001B[0m \u001B[43m    \u001B[49m\u001B[43manswer\u001B[49m\u001B[43m,\u001B[49m\u001B[43m \u001B[49m\u001B[38;5;28;43mself\u001B[39;49m\u001B[38;5;241;43m.\u001B[39;49m\u001B[43mgateway_client\u001B[49m\u001B[43m,\u001B[49m\u001B[43m \u001B[49m\u001B[38;5;28;43mself\u001B[39;49m\u001B[38;5;241;43m.\u001B[39;49m\u001B[43mtarget_id\u001B[49m\u001B[43m,\u001B[49m\u001B[43m \u001B[49m\u001B[38;5;28;43mself\u001B[39;49m\u001B[38;5;241;43m.\u001B[39;49m\u001B[43mname\u001B[49m\u001B[43m)\u001B[49m\n\u001B[1;32m   1324\u001B[0m \u001B[38;5;28;01mfor\u001B[39;00m temp_arg \u001B[38;5;129;01min\u001B[39;00m temp_args:\n\u001B[1;32m   1325\u001B[0m     temp_arg\u001B[38;5;241m.\u001B[39m_detach()\n\nFile \u001B[0;32m/databricks/spark/python/pyspark/errors/exceptions.py:234\u001B[0m, in \u001B[0;36mcapture_sql_exception.<locals>.deco\u001B[0;34m(*a, **kw)\u001B[0m\n\u001B[1;32m    230\u001B[0m converted \u001B[38;5;241m=\u001B[39m convert_exception(e\u001B[38;5;241m.\u001B[39mjava_exception)\n\u001B[1;32m    231\u001B[0m \u001B[38;5;28;01mif\u001B[39;00m \u001B[38;5;129;01mnot\u001B[39;00m \u001B[38;5;28misinstance\u001B[39m(converted, UnknownException):\n\u001B[1;32m    232\u001B[0m     \u001B[38;5;66;03m# Hide where the exception came from that shows a non-Pythonic\u001B[39;00m\n\u001B[1;32m    233\u001B[0m     \u001B[38;5;66;03m# JVM exception message.\u001B[39;00m\n\u001B[0;32m--> 234\u001B[0m     \u001B[38;5;28;01mraise\u001B[39;00m converted \u001B[38;5;28;01mfrom\u001B[39;00m \u001B[38;5;28mNone\u001B[39m\n\u001B[1;32m    235\u001B[0m \u001B[38;5;28;01melse\u001B[39;00m:\n\u001B[1;32m    236\u001B[0m     \u001B[38;5;28;01mraise\u001B[39;00m\n\n\u001B[0;31mAnalysisException\u001B[0m: A schema mismatch detected when writing to the Delta table (Table ID: 17262f0d-d45f-4331-addd-f8e687b69b33).\nTo enable schema migration using DataFrameWriter or DataStreamWriter, please set:\n'.option(\"mergeSchema\", \"true\")'.\nFor other operations, set the session configuration\nspark.databricks.delta.schema.autoMerge.enabled to \"true\". See the documentation\nspecific to the operation for details.\n\nTable schema:\nroot\n-- order_id: integer (nullable = true)\n-- customer_id: string (nullable = true)\n-- employee_id: integer (nullable = true)\n-- order_date: date (nullable = true)\n-- required_date: date (nullable = true)\n-- shippedDate: string (nullable = true)\n-- shipVia: integer (nullable = true)\n-- freight: double (nullable = true)\n-- shipName: string (nullable = true)\n-- shipAddress: string (nullable = true)\n-- shipCity: string (nullable = true)\n-- shipRegion: string (nullable = true)\n-- shipPostalCode: string (nullable = true)\n-- shipCountry: string (nullable = true)\n-- data_ingestao: timestamp (nullable = true)\n\n\nData schema:\nroot\n-- order_id: integer (nullable = true)\n-- customer_id: string (nullable = true)\n-- employee_id: integer (nullable = true)\n-- order_date: date (nullable = true)\n-- required_date: date (nullable = true)\n-- shipped_date: date (nullable = true)\n-- ship_via: integer (nullable = true)\n-- freight: double (nullable = true)\n-- ship_name: string (nullable = true)\n-- ship_address: string (nullable = true)\n-- ship_city: string (nullable = true)\n-- ship_region: string (nullable = true)\n-- ship_postal_code: string (nullable = true)\n-- ship_country: string (nullable = true)\n-- data_ingestao: timestamp (nullable = true)\n\n         \nTo overwrite your schema or change partitioning, please set:\n'.option(\"overwriteSchema\", \"true\")'.\n\nNote that the schema can't be overwritten when using\n'replaceWhere'.\n         ",
       "errorSummary": "<span class='ansi-red-fg'>AnalysisException</span>: A schema mismatch detected when writing to the Delta table (Table ID: 17262f0d-d45f-4331-addd-f8e687b69b33).\nTo enable schema migration using DataFrameWriter or DataStreamWriter, please set:\n'.option(\"mergeSchema\", \"true\")'.\nFor other operations, set the session configuration\nspark.databricks.delta.schema.autoMerge.enabled to \"true\". See the documentation\nspecific to the operation for details.\n\nTable schema:\nroot\n-- order_id: integer (nullable = true)\n-- customer_id: string (nullable = true)\n-- employee_id: integer (nullable = true)\n-- order_date: date (nullable = true)\n-- required_date: date (nullable = true)\n-- shippedDate: string (nullable = true)\n-- shipVia: integer (nullable = true)\n-- freight: double (nullable = true)\n-- shipName: string (nullable = true)\n-- shipAddress: string (nullable = true)\n-- shipCity: string (nullable = true)\n-- shipRegion: string (nullable = true)\n-- shipPostalCode: string (nullable = true)\n-- shipCountry: string (nullable = true)\n-- data_ingestao: timestamp (nullable = true)\n\n\nData schema:\nroot\n-- order_id: integer (nullable = true)\n-- customer_id: string (nullable = true)\n-- employee_id: integer (nullable = true)\n-- order_date: date (nullable = true)\n-- required_date: date (nullable = true)\n-- shipped_date: date (nullable = true)\n-- ship_via: integer (nullable = true)\n-- freight: double (nullable = true)\n-- ship_name: string (nullable = true)\n-- ship_address: string (nullable = true)\n-- ship_city: string (nullable = true)\n-- ship_region: string (nullable = true)\n-- ship_postal_code: string (nullable = true)\n-- ship_country: string (nullable = true)\n-- data_ingestao: timestamp (nullable = true)\n\n         \nTo overwrite your schema or change partitioning, please set:\n'.option(\"overwriteSchema\", \"true\")'.\n\nNote that the schema can't be overwritten when using\n'replaceWhere'.\n         ",
       "errorTraceType": "ansi",
       "metadata": {},
       "type": "ipynbError"
      }
     },
     "output_type": "display_data"
    }
   ],
   "source": [
    "from pyspark.sql import Row\n",
    "from pyspark.sql.types import *\n",
    "from pyspark.sql.functions import current_timestamp, to_date, col\n",
    "\n",
    "# Caminho do arquivo raw (o mesmo CSV que apresenta problemas)\n",
    "raw_csv_path = \"/FileStore/tables/orders.csv\"\n",
    "# Caminho onde será salvo na camada prata (silver)\n",
    "silver_path = \"/FileStore/silver/orders\"\n",
    "\n",
    "# Ler o CSV como texto (cada linha ficará na coluna \"linha_original\")\n",
    "raw_df = spark.read.text(raw_csv_path).withColumnRenamed(\"value\", \"linha_original\")\n",
    "# Acrescentar a data de ingestão\n",
    "raw_df = raw_df.withColumn(\"data_ingestao\", current_timestamp())\n",
    "\n",
    "expected_columns = [\n",
    "    \"orderID\", \"customerID\", \"employeeID\", \"orderDate\", \"requiredDate\",\n",
    "    \"shippedDate\", \"shipVia\", \"freight\", \"shipName\", \"shipAddress\",\n",
    "    \"shipCity\", \"shipRegion\", \"shipPostalCode\", \"shipCountry\"\n",
    "]\n",
    "\n",
    "# Função que processa cada linha, ignorando o header e fazendo o merge do campo shipAddress\n",
    "def parse_line_with_ingestao(row):\n",
    "    data_ingestao = row[\"data_ingestao\"]\n",
    "    line = row[\"linha_original\"]\n",
    "    # Dividir a linha por vírgula simples\n",
    "    parts = line.strip().split(\",\")\n",
    "    # Ignorar header\n",
    "    if parts[0] == \"orderID\":\n",
    "        return None\n",
    "    # Se a linha tiver exatamente o número esperado de campos, retorna sem alteração\n",
    "    if len(parts) == len(expected_columns):\n",
    "        return Row(*parts, data_ingestao)\n",
    "    # Se houver campos a mais (por conta de vírgulas internas em shipAddress)\n",
    "    elif len(parts) > len(expected_columns):\n",
    "        fixed_prefix = parts[:9]\n",
    "        fixed_suffix = parts[-4:]\n",
    "        address_parts = parts[9:-4]\n",
    "        ship_address = \",\".join(address_parts).strip()\n",
    "        full_row = fixed_prefix + [ship_address] + fixed_suffix + [data_ingestao]\n",
    "        return Row(*full_row)\n",
    "    else:\n",
    "        return None\n",
    "\n",
    "parsed_rdd = raw_df.rdd.map(parse_line_with_ingestao).filter(lambda x: x is not None)\n",
    "\n",
    "schema = StructType([\n",
    "    StructField(\"orderID\", StringType(), True),\n",
    "    StructField(\"customerID\", StringType(), True),\n",
    "    StructField(\"employeeID\", StringType(), True),\n",
    "    StructField(\"orderDate\", StringType(), True),\n",
    "    StructField(\"requiredDate\", StringType(), True),\n",
    "    StructField(\"shippedDate\", StringType(), True),\n",
    "    StructField(\"shipVia\", StringType(), True),\n",
    "    StructField(\"freight\", StringType(), True),\n",
    "    StructField(\"shipName\", StringType(), True),\n",
    "    StructField(\"shipAddress\", StringType(), True),\n",
    "    StructField(\"shipCity\", StringType(), True),\n",
    "    StructField(\"shipRegion\", StringType(), True),\n",
    "    StructField(\"shipPostalCode\", StringType(), True),\n",
    "    StructField(\"shipCountry\", StringType(), True),\n",
    "    StructField(\"data_ingestao\", TimestampType(), True)\n",
    "])\n",
    "\n",
    "# Criar DataFrame com o schema definido\n",
    "df_orders = spark.createDataFrame(parsed_rdd, schema=schema)\n",
    "\n",
    "# Opcional: Exibir alguns registros para validação\n",
    "print(\"Schema do DataFrame reconstruído:\")\n",
    "df_orders.printSchema()\n",
    "display(df_orders.limit(10))\n",
    "\n",
    "\n",
    "df_orders_prata = (\n",
    "    df_orders\n",
    "    .withColumn(\"order_date\", to_date(col(\"orderDate\")))\n",
    "    .withColumn(\"required_date\", to_date(col(\"requiredDate\")))\n",
    "    .withColumn(\"shipped_date\", to_date(col(\"shippedDate\")))\n",
    "    .withColumn(\"freight\", col(\"freight\").cast(\"double\"))\n",
    "    .withColumn(\"employee_id\", col(\"employeeID\").cast(\"int\"))\n",
    "    .withColumn(\"ship_via\", col(\"shipVia\").cast(\"int\"))\n",
    "    .withColumn(\"order_id\", col(\"orderID\").cast(\"int\"))\n",
    "    .withColumn(\"customer_id\", col(\"customerID\"))\n",
    "    .withColumn(\"ship_name\", col(\"shipName\"))\n",
    "    .withColumn(\"ship_address\", col(\"shipAddress\"))\n",
    "    .withColumn(\"ship_city\", col(\"shipCity\"))\n",
    "    .withColumn(\"ship_region\", col(\"shipRegion\"))\n",
    "    .withColumn(\"ship_postal_code\", col(\"shipPostalCode\"))\n",
    "    .withColumn(\"ship_country\", col(\"shipCountry\"))\n",
    "    .select(\n",
    "        \"order_id\", \"customer_id\", \"employee_id\", \"order_date\", \"required_date\", \"shipped_date\",\n",
    "        \"ship_via\", \"freight\", \"ship_name\", \"ship_address\", \"ship_city\",\n",
    "        \"ship_region\", \"ship_postal_code\", \"ship_country\", \"data_ingestao\"\n",
    "    )\n",
    ")\n",
    "\n",
    "# Inspeção final: exibir schema e alguns registros\n",
    "print(\"Schema final da orders na camada Prata:\")\n",
    "df_orders_prata.printSchema()\n",
    "display(df_orders_prata.limit(10))\n",
    "\n",
    "df_orders_prata.write.format(\"delta\").mode(\"overwrite\").save(silver_path)\n",
    "print(\"Tabela orders salva na camada Prata em:\", silver_path)\n"
   ]
  },
  {
   "cell_type": "markdown",
   "metadata": {
    "application/vnd.databricks.v1+cell": {
     "cellMetadata": {
      "byteLimit": 2048000,
      "rowLimit": 10000
     },
     "inputWidgets": {},
     "nuid": "ca96b780-0027-490c-9d22-cb7b1b0bbc81",
     "showTitle": false,
     "tableResultSettingsMap": {},
     "title": ""
    }
   },
   "source": [
    "### Tabela Products"
   ]
  },
  {
   "cell_type": "code",
   "execution_count": 0,
   "metadata": {
    "application/vnd.databricks.v1+cell": {
     "cellMetadata": {
      "byteLimit": 2048000,
      "rowLimit": 10000
     },
     "inputWidgets": {},
     "nuid": "119b8147-717d-486e-a41f-220c3c23e350",
     "showTitle": false,
     "tableResultSettingsMap": {},
     "title": ""
    }
   },
   "outputs": [
    {
     "output_type": "stream",
     "name": "stdout",
     "output_type": "stream",
     "text": [
      "Schema de products na camada Prata:\nroot\n |-- product_id: integer (nullable = true)\n |-- product_name: string (nullable = true)\n |-- supplier_id: integer (nullable = true)\n |-- category_id: integer (nullable = true)\n |-- quantity_per_unit: string (nullable = true)\n |-- unit_price: double (nullable = true)\n |-- units_in_stock: integer (nullable = true)\n |-- units_on_order: integer (nullable = true)\n |-- reorder_level: integer (nullable = true)\n |-- discontinued: integer (nullable = true)\n |-- data_ingestao: timestamp (nullable = true)\n\n"
     ]
    },
    {
     "output_type": "display_data",
     "data": {
      "text/html": [
       "<style scoped>\n",
       "  .table-result-container {\n",
       "    max-height: 300px;\n",
       "    overflow: auto;\n",
       "  }\n",
       "  table, th, td {\n",
       "    border: 1px solid black;\n",
       "    border-collapse: collapse;\n",
       "  }\n",
       "  th, td {\n",
       "    padding: 5px;\n",
       "  }\n",
       "  th {\n",
       "    text-align: left;\n",
       "  }\n",
       "</style><div class='table-result-container'><table class='table-result'><thead style='background-color: white'><tr><th>product_id</th><th>product_name</th><th>supplier_id</th><th>category_id</th><th>quantity_per_unit</th><th>unit_price</th><th>units_in_stock</th><th>units_on_order</th><th>reorder_level</th><th>discontinued</th><th>data_ingestao</th></tr></thead><tbody><tr><td>1</td><td>Chai</td><td>1</td><td>1</td><td>10 boxes x 20 bags</td><td>18.0</td><td>39</td><td>0</td><td>10</td><td>0</td><td>2025-04-12T00:44:33.449+0000</td></tr><tr><td>2</td><td>Chang</td><td>1</td><td>1</td><td>24 - 12 oz bottles</td><td>19.0</td><td>17</td><td>40</td><td>25</td><td>0</td><td>2025-04-12T00:44:33.449+0000</td></tr><tr><td>3</td><td>Aniseed Syrup</td><td>1</td><td>2</td><td>12 - 550 ml bottles</td><td>10.0</td><td>13</td><td>70</td><td>25</td><td>0</td><td>2025-04-12T00:44:33.449+0000</td></tr><tr><td>4</td><td>Chef Anton's Cajun Seasoning</td><td>2</td><td>2</td><td>48 - 6 oz jars</td><td>22.0</td><td>53</td><td>0</td><td>0</td><td>0</td><td>2025-04-12T00:44:33.449+0000</td></tr><tr><td>5</td><td>Chef Anton's Gumbo Mix</td><td>2</td><td>2</td><td>36 boxes</td><td>21.35</td><td>0</td><td>0</td><td>0</td><td>1</td><td>2025-04-12T00:44:33.449+0000</td></tr><tr><td>6</td><td>Grandma's Boysenberry Spread</td><td>3</td><td>2</td><td>12 - 8 oz jars</td><td>25.0</td><td>120</td><td>0</td><td>25</td><td>0</td><td>2025-04-12T00:44:33.449+0000</td></tr><tr><td>7</td><td>Uncle Bob's Organic Dried Pears</td><td>3</td><td>7</td><td>12 - 1 lb pkgs.</td><td>30.0</td><td>15</td><td>0</td><td>10</td><td>0</td><td>2025-04-12T00:44:33.449+0000</td></tr><tr><td>8</td><td>Northwoods Cranberry Sauce</td><td>3</td><td>2</td><td>12 - 12 oz jars</td><td>40.0</td><td>6</td><td>0</td><td>0</td><td>0</td><td>2025-04-12T00:44:33.449+0000</td></tr><tr><td>9</td><td>Mishi Kobe Niku</td><td>4</td><td>6</td><td>18 - 500 g pkgs.</td><td>97.0</td><td>29</td><td>0</td><td>0</td><td>1</td><td>2025-04-12T00:44:33.449+0000</td></tr><tr><td>10</td><td>Ikura</td><td>4</td><td>8</td><td>12 - 200 ml jars</td><td>31.0</td><td>31</td><td>0</td><td>0</td><td>0</td><td>2025-04-12T00:44:33.449+0000</td></tr></tbody></table></div>"
      ]
     },
     "metadata": {
      "application/vnd.databricks.v1+output": {
       "addedWidgets": {},
       "aggData": [],
       "aggError": "",
       "aggOverflow": false,
       "aggSchema": [],
       "aggSeriesLimitReached": false,
       "aggType": "",
       "arguments": {},
       "columnCustomDisplayInfos": {},
       "data": [
        [
         1,
         "Chai",
         1,
         1,
         "10 boxes x 20 bags",
         18.0,
         39,
         0,
         10,
         0,
         "2025-04-12T00:44:33.449+0000"
        ],
        [
         2,
         "Chang",
         1,
         1,
         "24 - 12 oz bottles",
         19.0,
         17,
         40,
         25,
         0,
         "2025-04-12T00:44:33.449+0000"
        ],
        [
         3,
         "Aniseed Syrup",
         1,
         2,
         "12 - 550 ml bottles",
         10.0,
         13,
         70,
         25,
         0,
         "2025-04-12T00:44:33.449+0000"
        ],
        [
         4,
         "Chef Anton's Cajun Seasoning",
         2,
         2,
         "48 - 6 oz jars",
         22.0,
         53,
         0,
         0,
         0,
         "2025-04-12T00:44:33.449+0000"
        ],
        [
         5,
         "Chef Anton's Gumbo Mix",
         2,
         2,
         "36 boxes",
         21.35,
         0,
         0,
         0,
         1,
         "2025-04-12T00:44:33.449+0000"
        ],
        [
         6,
         "Grandma's Boysenberry Spread",
         3,
         2,
         "12 - 8 oz jars",
         25.0,
         120,
         0,
         25,
         0,
         "2025-04-12T00:44:33.449+0000"
        ],
        [
         7,
         "Uncle Bob's Organic Dried Pears",
         3,
         7,
         "12 - 1 lb pkgs.",
         30.0,
         15,
         0,
         10,
         0,
         "2025-04-12T00:44:33.449+0000"
        ],
        [
         8,
         "Northwoods Cranberry Sauce",
         3,
         2,
         "12 - 12 oz jars",
         40.0,
         6,
         0,
         0,
         0,
         "2025-04-12T00:44:33.449+0000"
        ],
        [
         9,
         "Mishi Kobe Niku",
         4,
         6,
         "18 - 500 g pkgs.",
         97.0,
         29,
         0,
         0,
         1,
         "2025-04-12T00:44:33.449+0000"
        ],
        [
         10,
         "Ikura",
         4,
         8,
         "12 - 200 ml jars",
         31.0,
         31,
         0,
         0,
         0,
         "2025-04-12T00:44:33.449+0000"
        ]
       ],
       "datasetInfos": [],
       "dbfsResultPath": null,
       "isJsonSchema": true,
       "metadata": {},
       "overflow": false,
       "plotOptions": {
        "customPlotOptions": {},
        "displayType": "table",
        "pivotAggregation": null,
        "pivotColumns": null,
        "xColumns": null,
        "yColumns": null
       },
       "removedWidgets": [],
       "schema": [
        {
         "metadata": "{}",
         "name": "product_id",
         "type": "\"integer\""
        },
        {
         "metadata": "{}",
         "name": "product_name",
         "type": "\"string\""
        },
        {
         "metadata": "{}",
         "name": "supplier_id",
         "type": "\"integer\""
        },
        {
         "metadata": "{}",
         "name": "category_id",
         "type": "\"integer\""
        },
        {
         "metadata": "{}",
         "name": "quantity_per_unit",
         "type": "\"string\""
        },
        {
         "metadata": "{}",
         "name": "unit_price",
         "type": "\"double\""
        },
        {
         "metadata": "{}",
         "name": "units_in_stock",
         "type": "\"integer\""
        },
        {
         "metadata": "{}",
         "name": "units_on_order",
         "type": "\"integer\""
        },
        {
         "metadata": "{}",
         "name": "reorder_level",
         "type": "\"integer\""
        },
        {
         "metadata": "{}",
         "name": "discontinued",
         "type": "\"integer\""
        },
        {
         "metadata": "{}",
         "name": "data_ingestao",
         "type": "\"timestamp\""
        }
       ],
       "type": "table"
      }
     },
     "output_type": "display_data"
    },
    {
     "output_type": "stream",
     "name": "stdout",
     "output_type": "stream",
     "text": [
      "Tabela products salva na camada Prata em: /FileStore/silver/products\n"
     ]
    }
   ],
   "source": [
    "from pyspark.sql.functions import col\n",
    "# Definir os caminhos das camadas\n",
    "caminho_bronze = \"/FileStore/bronze/\"\n",
    "caminho_prata  = \"/FileStore/silver/\"\n",
    "\n",
    "# Ler a tabela products da camada Bronze\n",
    "df_products_bronze = spark.read.format(\"delta\").load(f\"{caminho_bronze}products\")\n",
    "\n",
    "# Primeiro, realizar os casts nas colunas usando os nomes originais (do arquivo)\n",
    "df_temp = df_products_bronze \\\n",
    "    .withColumn(\"UnitPrice\", col(\"UnitPrice\").cast(\"double\")) \\\n",
    "    .withColumn(\"UnitsInStock\", col(\"UnitsInStock\").cast(\"int\")) \\\n",
    "    .withColumn(\"UnitsOnOrder\", col(\"UnitsOnOrder\").cast(\"int\")) \\\n",
    "    .withColumn(\"ReorderLevel\", col(\"ReorderLevel\").cast(\"int\"))\n",
    "\n",
    "# Em seguida, renomear as colunas conforme o padrão desejado\n",
    "df_products_prata = (\n",
    "    df_temp.withColumnRenamed(\"ProductID\", \"product_id\")\n",
    "           .withColumnRenamed(\"ProductName\", \"product_name\")\n",
    "           .withColumnRenamed(\"SupplierID\", \"supplier_id\")\n",
    "           .withColumnRenamed(\"CategoryID\", \"category_id\")\n",
    "           .withColumnRenamed(\"QuantityPerUnit\", \"quantity_per_unit\")\n",
    "           .withColumnRenamed(\"UnitPrice\", \"unit_price\")\n",
    "           .withColumnRenamed(\"UnitsInStock\", \"units_in_stock\")\n",
    "           .withColumnRenamed(\"UnitsOnOrder\", \"units_on_order\")\n",
    "           .withColumnRenamed(\"ReorderLevel\", \"reorder_level\")\n",
    "           .withColumnRenamed(\"Discontinued\", \"discontinued\")\n",
    ")\n",
    "\n",
    "# Opcional: visualizar o schema e amostra dos dados para verificação\n",
    "print(\"Schema de products na camada Prata:\")\n",
    "df_products_prata.printSchema()\n",
    "display(df_products_prata.limit(10))\n",
    "\n",
    "# Gravar o DataFrame processado na camada Prata\n",
    "df_products_prata.write.format(\"delta\").mode(\"overwrite\").save(f\"{caminho_prata}products\")\n",
    "print(\"Tabela products salva na camada Prata em:\", caminho_prata + \"products\")\n"
   ]
  },
  {
   "cell_type": "markdown",
   "metadata": {
    "application/vnd.databricks.v1+cell": {
     "cellMetadata": {
      "byteLimit": 2048000,
      "rowLimit": 10000
     },
     "inputWidgets": {},
     "nuid": "f582e712-6d33-4f47-af5a-7331f57eb95b",
     "showTitle": false,
     "tableResultSettingsMap": {},
     "title": ""
    }
   },
   "source": [
    "### Tabela Regions"
   ]
  },
  {
   "cell_type": "code",
   "execution_count": 0,
   "metadata": {
    "application/vnd.databricks.v1+cell": {
     "cellMetadata": {
      "byteLimit": 2048000,
      "rowLimit": 10000
     },
     "inputWidgets": {},
     "nuid": "ded4e367-6200-49b6-9507-247e2eea9403",
     "showTitle": false,
     "tableResultSettingsMap": {},
     "title": ""
    }
   },
   "outputs": [
    {
     "output_type": "stream",
     "name": "stdout",
     "output_type": "stream",
     "text": [
      "Schema de regions:\nroot\n |-- region_id: integer (nullable = true)\n |-- region_description: string (nullable = true)\n |-- data_ingestao: timestamp (nullable = true)\n\n"
     ]
    },
    {
     "output_type": "display_data",
     "data": {
      "text/html": [
       "<style scoped>\n",
       "  .table-result-container {\n",
       "    max-height: 300px;\n",
       "    overflow: auto;\n",
       "  }\n",
       "  table, th, td {\n",
       "    border: 1px solid black;\n",
       "    border-collapse: collapse;\n",
       "  }\n",
       "  th, td {\n",
       "    padding: 5px;\n",
       "  }\n",
       "  th {\n",
       "    text-align: left;\n",
       "  }\n",
       "</style><div class='table-result-container'><table class='table-result'><thead style='background-color: white'><tr><th>region_id</th><th>region_description</th><th>data_ingestao</th></tr></thead><tbody><tr><td>1</td><td>Eastern</td><td>2025-04-12T00:44:42.995+0000</td></tr><tr><td>2</td><td>Western</td><td>2025-04-12T00:44:42.995+0000</td></tr><tr><td>3</td><td>Northern</td><td>2025-04-12T00:44:42.995+0000</td></tr><tr><td>4</td><td>Southern</td><td>2025-04-12T00:44:42.995+0000</td></tr></tbody></table></div>"
      ]
     },
     "metadata": {
      "application/vnd.databricks.v1+output": {
       "addedWidgets": {},
       "aggData": [],
       "aggError": "",
       "aggOverflow": false,
       "aggSchema": [],
       "aggSeriesLimitReached": false,
       "aggType": "",
       "arguments": {},
       "columnCustomDisplayInfos": {},
       "data": [
        [
         1,
         "Eastern",
         "2025-04-12T00:44:42.995+0000"
        ],
        [
         2,
         "Western",
         "2025-04-12T00:44:42.995+0000"
        ],
        [
         3,
         "Northern",
         "2025-04-12T00:44:42.995+0000"
        ],
        [
         4,
         "Southern",
         "2025-04-12T00:44:42.995+0000"
        ]
       ],
       "datasetInfos": [],
       "dbfsResultPath": null,
       "isJsonSchema": true,
       "metadata": {},
       "overflow": false,
       "plotOptions": {
        "customPlotOptions": {},
        "displayType": "table",
        "pivotAggregation": null,
        "pivotColumns": null,
        "xColumns": null,
        "yColumns": null
       },
       "removedWidgets": [],
       "schema": [
        {
         "metadata": "{}",
         "name": "region_id",
         "type": "\"integer\""
        },
        {
         "metadata": "{}",
         "name": "region_description",
         "type": "\"string\""
        },
        {
         "metadata": "{}",
         "name": "data_ingestao",
         "type": "\"timestamp\""
        }
       ],
       "type": "table"
      }
     },
     "output_type": "display_data"
    }
   ],
   "source": [
    "# Tabela: regions\n",
    "df_regions_bronze = spark.read.format(\"delta\").load(f\"{caminho_bronze}regions\")\n",
    "\n",
    "df_regions_prata = (\n",
    "    df_regions_bronze\n",
    "    .withColumnRenamed(\"RegionID\", \"region_id\")\n",
    "    .withColumnRenamed(\"RegionDescription\", \"region_description\")\n",
    ")\n",
    "\n",
    "print(\"Schema de regions:\")\n",
    "df_regions_prata.printSchema()\n",
    "display(df_regions_prata.limit(10))\n",
    "\n",
    "df_regions_prata.write.format(\"delta\").mode(\"overwrite\").save(f\"{caminho_prata}regions\")\n"
   ]
  },
  {
   "cell_type": "markdown",
   "metadata": {
    "application/vnd.databricks.v1+cell": {
     "cellMetadata": {
      "byteLimit": 2048000,
      "rowLimit": 10000
     },
     "inputWidgets": {},
     "nuid": "651167eb-d5ae-4be7-9a4d-2b660762f89d",
     "showTitle": false,
     "tableResultSettingsMap": {},
     "title": ""
    }
   },
   "source": [
    "### Tabela Shippers"
   ]
  },
  {
   "cell_type": "code",
   "execution_count": 0,
   "metadata": {
    "application/vnd.databricks.v1+cell": {
     "cellMetadata": {
      "byteLimit": 2048000,
      "rowLimit": 10000
     },
     "inputWidgets": {},
     "nuid": "364deae2-a72d-4790-bf33-dd32b92869e9",
     "showTitle": false,
     "tableResultSettingsMap": {},
     "title": ""
    }
   },
   "outputs": [
    {
     "output_type": "stream",
     "name": "stdout",
     "output_type": "stream",
     "text": [
      "Schema de shippers:\nroot\n |-- shipper_id: integer (nullable = true)\n |-- shipper_name: string (nullable = true)\n |-- phone: string (nullable = true)\n |-- data_ingestao: timestamp (nullable = true)\n\n"
     ]
    },
    {
     "output_type": "display_data",
     "data": {
      "text/html": [
       "<style scoped>\n",
       "  .table-result-container {\n",
       "    max-height: 300px;\n",
       "    overflow: auto;\n",
       "  }\n",
       "  table, th, td {\n",
       "    border: 1px solid black;\n",
       "    border-collapse: collapse;\n",
       "  }\n",
       "  th, td {\n",
       "    padding: 5px;\n",
       "  }\n",
       "  th {\n",
       "    text-align: left;\n",
       "  }\n",
       "</style><div class='table-result-container'><table class='table-result'><thead style='background-color: white'><tr><th>shipper_id</th><th>shipper_name</th><th>phone</th><th>data_ingestao</th></tr></thead><tbody><tr><td>1</td><td>Speedy Express</td><td>(503) 555-9831</td><td>2025-04-12T00:44:52.854+0000</td></tr><tr><td>2</td><td>United Package</td><td>(503) 555-3199</td><td>2025-04-12T00:44:52.854+0000</td></tr><tr><td>3</td><td>Federal Shipping</td><td>(503) 555-9931</td><td>2025-04-12T00:44:52.854+0000</td></tr></tbody></table></div>"
      ]
     },
     "metadata": {
      "application/vnd.databricks.v1+output": {
       "addedWidgets": {},
       "aggData": [],
       "aggError": "",
       "aggOverflow": false,
       "aggSchema": [],
       "aggSeriesLimitReached": false,
       "aggType": "",
       "arguments": {},
       "columnCustomDisplayInfos": {},
       "data": [
        [
         1,
         "Speedy Express",
         "(503) 555-9831",
         "2025-04-12T00:44:52.854+0000"
        ],
        [
         2,
         "United Package",
         "(503) 555-3199",
         "2025-04-12T00:44:52.854+0000"
        ],
        [
         3,
         "Federal Shipping",
         "(503) 555-9931",
         "2025-04-12T00:44:52.854+0000"
        ]
       ],
       "datasetInfos": [],
       "dbfsResultPath": null,
       "isJsonSchema": true,
       "metadata": {},
       "overflow": false,
       "plotOptions": {
        "customPlotOptions": {},
        "displayType": "table",
        "pivotAggregation": null,
        "pivotColumns": null,
        "xColumns": null,
        "yColumns": null
       },
       "removedWidgets": [],
       "schema": [
        {
         "metadata": "{}",
         "name": "shipper_id",
         "type": "\"integer\""
        },
        {
         "metadata": "{}",
         "name": "shipper_name",
         "type": "\"string\""
        },
        {
         "metadata": "{}",
         "name": "phone",
         "type": "\"string\""
        },
        {
         "metadata": "{}",
         "name": "data_ingestao",
         "type": "\"timestamp\""
        }
       ],
       "type": "table"
      }
     },
     "output_type": "display_data"
    }
   ],
   "source": [
    "# Tabela: shippers\n",
    "df_shippers_bronze = spark.read.format(\"delta\").load(f\"{caminho_bronze}shippers\")\n",
    "\n",
    "df_shippers_prata = (\n",
    "    df_shippers_bronze\n",
    "    .withColumnRenamed(\"ShipperID\", \"shipper_id\")\n",
    "    .withColumnRenamed(\"CompanyName\", \"shipper_name\")\n",
    "    .withColumnRenamed(\"Phone\", \"phone\")\n",
    ")\n",
    "\n",
    "print(\"Schema de shippers:\")\n",
    "df_shippers_prata.printSchema()\n",
    "display(df_shippers_prata.limit(10))\n",
    "\n",
    "df_shippers_prata.write.format(\"delta\").mode(\"overwrite\").save(f\"{caminho_prata}shippers\")\n"
   ]
  },
  {
   "cell_type": "markdown",
   "metadata": {
    "application/vnd.databricks.v1+cell": {
     "cellMetadata": {
      "byteLimit": 2048000,
      "rowLimit": 10000
     },
     "inputWidgets": {},
     "nuid": "eb91a55a-c750-4c6e-8a4d-f3ab987afa77",
     "showTitle": false,
     "tableResultSettingsMap": {},
     "title": ""
    }
   },
   "source": [
    "### Tabela Suppliers"
   ]
  },
  {
   "cell_type": "code",
   "execution_count": 0,
   "metadata": {
    "application/vnd.databricks.v1+cell": {
     "cellMetadata": {
      "byteLimit": 2048000,
      "rowLimit": 10000
     },
     "inputWidgets": {},
     "nuid": "6b2cefe3-8e6a-43b6-aead-90c82e446715",
     "showTitle": false,
     "tableResultSettingsMap": {},
     "title": ""
    }
   },
   "outputs": [
    {
     "output_type": "stream",
     "name": "stdout",
     "output_type": "stream",
     "text": [
      "Schema de suppliers:\nroot\n |-- supplier_id: integer (nullable = true)\n |-- supplier_name: string (nullable = true)\n |-- contact_name: string (nullable = true)\n |-- contact_title: string (nullable = true)\n |-- address: string (nullable = true)\n |-- city: string (nullable = true)\n |-- region: string (nullable = true)\n |-- postal_code: string (nullable = true)\n |-- country: string (nullable = true)\n |-- phone: string (nullable = true)\n |-- fax: string (nullable = true)\n |-- homepage: string (nullable = true)\n |-- data_ingestao: timestamp (nullable = true)\n\n"
     ]
    },
    {
     "output_type": "display_data",
     "data": {
      "text/html": [
       "<style scoped>\n",
       "  .table-result-container {\n",
       "    max-height: 300px;\n",
       "    overflow: auto;\n",
       "  }\n",
       "  table, th, td {\n",
       "    border: 1px solid black;\n",
       "    border-collapse: collapse;\n",
       "  }\n",
       "  th, td {\n",
       "    padding: 5px;\n",
       "  }\n",
       "  th {\n",
       "    text-align: left;\n",
       "  }\n",
       "</style><div class='table-result-container'><table class='table-result'><thead style='background-color: white'><tr><th>supplier_id</th><th>supplier_name</th><th>contact_name</th><th>contact_title</th><th>address</th><th>city</th><th>region</th><th>postal_code</th><th>country</th><th>phone</th><th>fax</th><th>homepage</th><th>data_ingestao</th></tr></thead><tbody><tr><td>1</td><td>Exotic Liquids</td><td>Charlotte Cooper</td><td>Purchasing Manager</td><td>49 Gilbert St.</td><td>London</td><td>NULL</td><td>EC1 4SD</td><td>UK</td><td>(171) 555-2222</td><td>NULL</td><td>NULL</td><td>2025-04-12T00:46:42.028+0000</td></tr><tr><td>2</td><td>New Orleans Cajun Delights</td><td>Shelley Burke</td><td>Order Administrator</td><td>P.O. Box 78934</td><td>New Orleans</td><td>LA</td><td>70117</td><td>USA</td><td>(100) 555-4822</td><td>NULL</td><td>#CAJUN.HTM#</td><td>2025-04-12T00:46:42.028+0000</td></tr><tr><td>3</td><td>Grandma Kelly's Homestead</td><td>Regina Murphy</td><td>Sales Representative</td><td>707 Oxford Rd.</td><td>Ann Arbor</td><td>MI</td><td>48104</td><td>USA</td><td>(313) 555-5735</td><td>(313) 555-3349</td><td>NULL</td><td>2025-04-12T00:46:42.028+0000</td></tr><tr><td>4</td><td>Tokyo Traders</td><td>Yoshi Nagase</td><td>Marketing Manager</td><td>9-8 Sekimai Musashino-shi</td><td>Tokyo</td><td>NULL</td><td>100</td><td>Japan</td><td>(03) 3555-5011</td><td>NULL</td><td>NULL</td><td>2025-04-12T00:46:42.028+0000</td></tr><tr><td>5</td><td>Cooperativa de Quesos 'Las Cabras'</td><td>Antonio del Valle Saavedra</td><td>Export Administrator</td><td>Calle del Rosal 4</td><td>Oviedo</td><td>Asturias</td><td>33007</td><td>Spain</td><td>(98) 598 76 54</td><td>NULL</td><td>NULL</td><td>2025-04-12T00:46:42.028+0000</td></tr><tr><td>6</td><td>Mayumi's</td><td>Mayumi Ohno</td><td>Marketing Representative</td><td>92 Setsuko Chuo-ku</td><td>Osaka</td><td>NULL</td><td>545</td><td>Japan</td><td>(06) 431-7877</td><td>NULL</td><td>Mayumi's (on the World Wide Web)#http://www.microsoft.com/accessdev/sampleapps/mayumi.htm#</td><td>2025-04-12T00:46:42.028+0000</td></tr><tr><td>7</td><td>Pavlova, Ltd.</td><td>Ian Devling</td><td>Marketing Manager</td><td>74 Rose St. Moonie Ponds</td><td>Melbourne</td><td>Victoria</td><td>3058</td><td>Australia</td><td>(03) 444-2343</td><td>(03) 444-6588</td><td>NULL</td><td>2025-04-12T00:46:42.028+0000</td></tr><tr><td>8</td><td>Specialty Biscuits, Ltd.</td><td>Peter Wilson</td><td>Sales Representative</td><td>29 King's Way</td><td>Manchester</td><td>NULL</td><td>M14 GSD</td><td>UK</td><td>(161) 555-4448</td><td>NULL</td><td>NULL</td><td>2025-04-12T00:46:42.028+0000</td></tr><tr><td>9</td><td>PB Knäckebröd AB</td><td>Lars Peterson</td><td>Sales Agent</td><td>Kaloadagatan 13</td><td>Göteborg</td><td>NULL</td><td>S-345 67</td><td>Sweden</td><td>031-987 65 43</td><td>031-987 65 91</td><td>NULL</td><td>2025-04-12T00:46:42.028+0000</td></tr><tr><td>10</td><td>Refrescos Americanas LTDA</td><td>Carlos Diaz</td><td>Marketing Manager</td><td>Av. das Americanas 12.890</td><td>Sao Paulo</td><td>NULL</td><td>5442</td><td>Brazil</td><td>(11) 555 4640</td><td>NULL</td><td>NULL</td><td>2025-04-12T00:46:42.028+0000</td></tr></tbody></table></div>"
      ]
     },
     "metadata": {
      "application/vnd.databricks.v1+output": {
       "addedWidgets": {},
       "aggData": [],
       "aggError": "",
       "aggOverflow": false,
       "aggSchema": [],
       "aggSeriesLimitReached": false,
       "aggType": "",
       "arguments": {},
       "columnCustomDisplayInfos": {},
       "data": [
        [
         1,
         "Exotic Liquids",
         "Charlotte Cooper",
         "Purchasing Manager",
         "49 Gilbert St.",
         "London",
         "NULL",
         "EC1 4SD",
         "UK",
         "(171) 555-2222",
         "NULL",
         "NULL",
         "2025-04-12T00:46:42.028+0000"
        ],
        [
         2,
         "New Orleans Cajun Delights",
         "Shelley Burke",
         "Order Administrator",
         "P.O. Box 78934",
         "New Orleans",
         "LA",
         "70117",
         "USA",
         "(100) 555-4822",
         "NULL",
         "#CAJUN.HTM#",
         "2025-04-12T00:46:42.028+0000"
        ],
        [
         3,
         "Grandma Kelly's Homestead",
         "Regina Murphy",
         "Sales Representative",
         "707 Oxford Rd.",
         "Ann Arbor",
         "MI",
         "48104",
         "USA",
         "(313) 555-5735",
         "(313) 555-3349",
         "NULL",
         "2025-04-12T00:46:42.028+0000"
        ],
        [
         4,
         "Tokyo Traders",
         "Yoshi Nagase",
         "Marketing Manager",
         "9-8 Sekimai Musashino-shi",
         "Tokyo",
         "NULL",
         "100",
         "Japan",
         "(03) 3555-5011",
         "NULL",
         "NULL",
         "2025-04-12T00:46:42.028+0000"
        ],
        [
         5,
         "Cooperativa de Quesos 'Las Cabras'",
         "Antonio del Valle Saavedra",
         "Export Administrator",
         "Calle del Rosal 4",
         "Oviedo",
         "Asturias",
         "33007",
         "Spain",
         "(98) 598 76 54",
         "NULL",
         "NULL",
         "2025-04-12T00:46:42.028+0000"
        ],
        [
         6,
         "Mayumi's",
         "Mayumi Ohno",
         "Marketing Representative",
         "92 Setsuko Chuo-ku",
         "Osaka",
         "NULL",
         "545",
         "Japan",
         "(06) 431-7877",
         "NULL",
         "Mayumi's (on the World Wide Web)#http://www.microsoft.com/accessdev/sampleapps/mayumi.htm#",
         "2025-04-12T00:46:42.028+0000"
        ],
        [
         7,
         "Pavlova, Ltd.",
         "Ian Devling",
         "Marketing Manager",
         "74 Rose St. Moonie Ponds",
         "Melbourne",
         "Victoria",
         "3058",
         "Australia",
         "(03) 444-2343",
         "(03) 444-6588",
         "NULL",
         "2025-04-12T00:46:42.028+0000"
        ],
        [
         8,
         "Specialty Biscuits, Ltd.",
         "Peter Wilson",
         "Sales Representative",
         "29 King's Way",
         "Manchester",
         "NULL",
         "M14 GSD",
         "UK",
         "(161) 555-4448",
         "NULL",
         "NULL",
         "2025-04-12T00:46:42.028+0000"
        ],
        [
         9,
         "PB Knäckebröd AB",
         "Lars Peterson",
         "Sales Agent",
         "Kaloadagatan 13",
         "Göteborg",
         "NULL",
         "S-345 67",
         "Sweden",
         "031-987 65 43",
         "031-987 65 91",
         "NULL",
         "2025-04-12T00:46:42.028+0000"
        ],
        [
         10,
         "Refrescos Americanas LTDA",
         "Carlos Diaz",
         "Marketing Manager",
         "Av. das Americanas 12.890",
         "Sao Paulo",
         "NULL",
         "5442",
         "Brazil",
         "(11) 555 4640",
         "NULL",
         "NULL",
         "2025-04-12T00:46:42.028+0000"
        ]
       ],
       "datasetInfos": [],
       "dbfsResultPath": null,
       "isJsonSchema": true,
       "metadata": {},
       "overflow": false,
       "plotOptions": {
        "customPlotOptions": {},
        "displayType": "table",
        "pivotAggregation": null,
        "pivotColumns": null,
        "xColumns": null,
        "yColumns": null
       },
       "removedWidgets": [],
       "schema": [
        {
         "metadata": "{}",
         "name": "supplier_id",
         "type": "\"integer\""
        },
        {
         "metadata": "{}",
         "name": "supplier_name",
         "type": "\"string\""
        },
        {
         "metadata": "{}",
         "name": "contact_name",
         "type": "\"string\""
        },
        {
         "metadata": "{}",
         "name": "contact_title",
         "type": "\"string\""
        },
        {
         "metadata": "{}",
         "name": "address",
         "type": "\"string\""
        },
        {
         "metadata": "{}",
         "name": "city",
         "type": "\"string\""
        },
        {
         "metadata": "{}",
         "name": "region",
         "type": "\"string\""
        },
        {
         "metadata": "{}",
         "name": "postal_code",
         "type": "\"string\""
        },
        {
         "metadata": "{}",
         "name": "country",
         "type": "\"string\""
        },
        {
         "metadata": "{}",
         "name": "phone",
         "type": "\"string\""
        },
        {
         "metadata": "{}",
         "name": "fax",
         "type": "\"string\""
        },
        {
         "metadata": "{}",
         "name": "homepage",
         "type": "\"string\""
        },
        {
         "metadata": "{}",
         "name": "data_ingestao",
         "type": "\"timestamp\""
        }
       ],
       "type": "table"
      }
     },
     "output_type": "display_data"
    },
    {
     "output_type": "stream",
     "name": "stdout",
     "output_type": "stream",
     "text": [
      "Tabela suppliers salva na camada Prata em: /FileStore/silver/suppliers\n"
     ]
    }
   ],
   "source": [
    "from pyspark.sql import Row\n",
    "from pyspark.sql.types import *\n",
    "from pyspark.sql.functions import current_timestamp, col\n",
    "\n",
    "input_suppliers = \"/FileStore/tables/suppliers.csv\"  # Caminho do CSV original\n",
    "raw_suppliers_df = spark.read.text(input_suppliers).withColumnRenamed(\"value\", \"linha_original\")\n",
    "# Acrescentar a coluna data_ingestao (timestamp atual)\n",
    "raw_suppliers_df = raw_suppliers_df.withColumn(\"data_ingestao\", current_timestamp())\n",
    "\n",
    "def parse_line_suppliers(row):\n",
    "    data_ingestao = row[\"data_ingestao\"]\n",
    "    line = row[\"linha_original\"]\n",
    "    parts = line.strip().split(\",\")\n",
    "    # Descarte o header\n",
    "    if parts[0] == \"supplierID\":\n",
    "        return None\n",
    "    # Caso o número de campos seja exatamente o esperado (12), retorna a linha sem alteração\n",
    "    if len(parts) == 12:\n",
    "        return Row(*parts, data_ingestao)\n",
    "    elif len(parts) == 13:\n",
    "\n",
    "        if parts[2].startswith(\" \"):\n",
    "            # Mescla companyName (campos 1 e 2)\n",
    "            new_companyName = parts[1].strip() + \", \" + parts[2].strip()\n",
    "            # Monta a nova linha: [supplierID, new_companyName] + restantes a partir do índice 3\n",
    "            new_parts = [parts[0], new_companyName] + parts[3:]\n",
    "            return Row(*new_parts, data_ingestao)\n",
    "        else:\n",
    "            # Mescla o endereço: assume que os campos 4 e 5 devem ser unidos\n",
    "            new_address = parts[4].strip() + \", \" + parts[5].strip()\n",
    "            # Monta nova linha: [campos 0 a 3] + [new_address] + os campos restantes a partir do índice 6\n",
    "            new_parts = parts[:4] + [new_address] + parts[6:]\n",
    "            return Row(*new_parts, data_ingestao)\n",
    "    else:\n",
    "        # Se o número de campos não for nem 12 nem 13, descarta a linha (ou implementa outra lógica)\n",
    "        return None\n",
    "\n",
    "parsed_suppliers_rdd = raw_suppliers_df.rdd.map(parse_line_suppliers).filter(lambda x: x is not None)\n",
    "\n",
    "# Definir o schema esperado (todos os campos como String, exceto data_ingestao)\n",
    "schema_suppliers = StructType([\n",
    "    StructField(\"supplierID\", StringType(), True),\n",
    "    StructField(\"companyName\", StringType(), True),\n",
    "    StructField(\"contactName\", StringType(), True),\n",
    "    StructField(\"contactTitle\", StringType(), True),\n",
    "    StructField(\"address\", StringType(), True),\n",
    "    StructField(\"city\", StringType(), True),\n",
    "    StructField(\"region\", StringType(), True),\n",
    "    StructField(\"postalCode\", StringType(), True),\n",
    "    StructField(\"country\", StringType(), True),\n",
    "    StructField(\"phone\", StringType(), True),\n",
    "    StructField(\"fax\", StringType(), True),\n",
    "    StructField(\"homePage\", StringType(), True),\n",
    "    StructField(\"data_ingestao\", TimestampType(), True)\n",
    "])\n",
    "\n",
    "df_suppliers = spark.createDataFrame(parsed_suppliers_rdd, schema=schema_suppliers)\n",
    "\n",
    "\n",
    "df_suppliers_prata = (\n",
    "    df_suppliers.withColumn(\"supplier_id\", col(\"supplierID\").cast(\"int\"))\n",
    "                .withColumn(\"supplier_name\", col(\"companyName\"))\n",
    "                .withColumn(\"contact_name\", col(\"contactName\"))\n",
    "                .withColumn(\"contact_title\", col(\"contactTitle\"))\n",
    "                .withColumn(\"address\", col(\"address\"))\n",
    "                .withColumn(\"city\", col(\"city\"))\n",
    "                .withColumn(\"region\", col(\"region\"))\n",
    "                .withColumn(\"postal_code\", col(\"postalCode\"))\n",
    "                .withColumn(\"country\", col(\"country\"))\n",
    "                .withColumn(\"phone\", col(\"phone\"))\n",
    "                .withColumn(\"fax\", col(\"fax\"))\n",
    "                .withColumn(\"homepage\", col(\"homePage\"))\n",
    "                .select(\n",
    "                    \"supplier_id\", \"supplier_name\", \"contact_name\", \"contact_title\",\n",
    "                    \"address\", \"city\", \"region\", \"postal_code\", \"country\", \"phone\",\n",
    "                    \"fax\", \"homepage\", \"data_ingestao\"\n",
    "                )\n",
    ")\n",
    "\n",
    "\n",
    "df_suppliers_prata.write.format(\"delta\") \\\n",
    "    .option(\"overwriteSchema\", \"true\") \\\n",
    "    .mode(\"overwrite\") \\\n",
    "    .save(\"/FileStore/silver/suppliers\")\n",
    "\n",
    "print(\"Schema de suppliers:\")\n",
    "df_suppliers_prata.printSchema()\n",
    "display(df_suppliers_prata.limit(10))\n",
    "\n",
    "print(\"Tabela suppliers salva na camada Prata em: /FileStore/silver/suppliers\")\n"
   ]
  },
  {
   "cell_type": "markdown",
   "metadata": {
    "application/vnd.databricks.v1+cell": {
     "cellMetadata": {
      "byteLimit": 2048000,
      "rowLimit": 10000
     },
     "inputWidgets": {},
     "nuid": "9db9091d-5e3a-4e83-8a97-4047f1e16040",
     "showTitle": false,
     "tableResultSettingsMap": {},
     "title": ""
    }
   },
   "source": [
    "### Tabela Territories"
   ]
  },
  {
   "cell_type": "code",
   "execution_count": 0,
   "metadata": {
    "application/vnd.databricks.v1+cell": {
     "cellMetadata": {
      "byteLimit": 2048000,
      "rowLimit": 10000
     },
     "inputWidgets": {},
     "nuid": "a869ebaf-b90b-4729-84ff-4c5debc2f618",
     "showTitle": false,
     "tableResultSettingsMap": {},
     "title": ""
    }
   },
   "outputs": [
    {
     "output_type": "stream",
     "name": "stdout",
     "output_type": "stream",
     "text": [
      "Schema de territories:\nroot\n |-- territory_id: integer (nullable = true)\n |-- territory_description: string (nullable = true)\n |-- region_id: integer (nullable = true)\n |-- data_ingestao: timestamp (nullable = true)\n\n"
     ]
    },
    {
     "output_type": "display_data",
     "data": {
      "text/html": [
       "<style scoped>\n",
       "  .table-result-container {\n",
       "    max-height: 300px;\n",
       "    overflow: auto;\n",
       "  }\n",
       "  table, th, td {\n",
       "    border: 1px solid black;\n",
       "    border-collapse: collapse;\n",
       "  }\n",
       "  th, td {\n",
       "    padding: 5px;\n",
       "  }\n",
       "  th {\n",
       "    text-align: left;\n",
       "  }\n",
       "</style><div class='table-result-container'><table class='table-result'><thead style='background-color: white'><tr><th>territory_id</th><th>territory_description</th><th>region_id</th><th>data_ingestao</th></tr></thead><tbody><tr><td>1581</td><td>Westboro</td><td>1</td><td>2025-04-12T00:45:10.769+0000</td></tr><tr><td>1730</td><td>Bedford</td><td>1</td><td>2025-04-12T00:45:10.769+0000</td></tr><tr><td>1833</td><td>Georgetow</td><td>1</td><td>2025-04-12T00:45:10.769+0000</td></tr><tr><td>2116</td><td>Boston</td><td>1</td><td>2025-04-12T00:45:10.769+0000</td></tr><tr><td>2139</td><td>Cambridge</td><td>1</td><td>2025-04-12T00:45:10.769+0000</td></tr><tr><td>2184</td><td>Braintree</td><td>1</td><td>2025-04-12T00:45:10.769+0000</td></tr><tr><td>2903</td><td>Providence</td><td>1</td><td>2025-04-12T00:45:10.769+0000</td></tr><tr><td>3049</td><td>Hollis</td><td>3</td><td>2025-04-12T00:45:10.769+0000</td></tr><tr><td>3801</td><td>Portsmouth</td><td>3</td><td>2025-04-12T00:45:10.769+0000</td></tr><tr><td>6897</td><td>Wilton</td><td>1</td><td>2025-04-12T00:45:10.769+0000</td></tr></tbody></table></div>"
      ]
     },
     "metadata": {
      "application/vnd.databricks.v1+output": {
       "addedWidgets": {},
       "aggData": [],
       "aggError": "",
       "aggOverflow": false,
       "aggSchema": [],
       "aggSeriesLimitReached": false,
       "aggType": "",
       "arguments": {},
       "columnCustomDisplayInfos": {},
       "data": [
        [
         1581,
         "Westboro",
         1,
         "2025-04-12T00:45:10.769+0000"
        ],
        [
         1730,
         "Bedford",
         1,
         "2025-04-12T00:45:10.769+0000"
        ],
        [
         1833,
         "Georgetow",
         1,
         "2025-04-12T00:45:10.769+0000"
        ],
        [
         2116,
         "Boston",
         1,
         "2025-04-12T00:45:10.769+0000"
        ],
        [
         2139,
         "Cambridge",
         1,
         "2025-04-12T00:45:10.769+0000"
        ],
        [
         2184,
         "Braintree",
         1,
         "2025-04-12T00:45:10.769+0000"
        ],
        [
         2903,
         "Providence",
         1,
         "2025-04-12T00:45:10.769+0000"
        ],
        [
         3049,
         "Hollis",
         3,
         "2025-04-12T00:45:10.769+0000"
        ],
        [
         3801,
         "Portsmouth",
         3,
         "2025-04-12T00:45:10.769+0000"
        ],
        [
         6897,
         "Wilton",
         1,
         "2025-04-12T00:45:10.769+0000"
        ]
       ],
       "datasetInfos": [],
       "dbfsResultPath": null,
       "isJsonSchema": true,
       "metadata": {},
       "overflow": false,
       "plotOptions": {
        "customPlotOptions": {},
        "displayType": "table",
        "pivotAggregation": null,
        "pivotColumns": null,
        "xColumns": null,
        "yColumns": null
       },
       "removedWidgets": [],
       "schema": [
        {
         "metadata": "{}",
         "name": "territory_id",
         "type": "\"integer\""
        },
        {
         "metadata": "{}",
         "name": "territory_description",
         "type": "\"string\""
        },
        {
         "metadata": "{}",
         "name": "region_id",
         "type": "\"integer\""
        },
        {
         "metadata": "{}",
         "name": "data_ingestao",
         "type": "\"timestamp\""
        }
       ],
       "type": "table"
      }
     },
     "output_type": "display_data"
    }
   ],
   "source": [
    "# Tabela: territories\n",
    "df_territories_bronze = spark.read.format(\"delta\").load(f\"{caminho_bronze}territories\")\n",
    "\n",
    "df_territories_prata = (\n",
    "    df_territories_bronze\n",
    "    .withColumnRenamed(\"TerritoryID\", \"territory_id\")\n",
    "    .withColumnRenamed(\"TerritoryDescription\", \"territory_description\")\n",
    "    .withColumnRenamed(\"RegionID\", \"region_id\")\n",
    ")\n",
    "\n",
    "print(\"Schema de territories:\")\n",
    "df_territories_prata.printSchema()\n",
    "display(df_territories_prata.limit(10))\n",
    "\n",
    "df_territories_prata.write.format(\"delta\").mode(\"overwrite\").save(f\"{caminho_prata}territories\")\n"
   ]
  },
  {
   "cell_type": "markdown",
   "metadata": {
    "application/vnd.databricks.v1+cell": {
     "cellMetadata": {
      "byteLimit": 2048000,
      "rowLimit": 10000
     },
     "inputWidgets": {},
     "nuid": "67e46505-84e7-42ed-9879-b9cfd257b575",
     "showTitle": false,
     "tableResultSettingsMap": {},
     "title": ""
    }
   },
   "source": [
    "### Conversão de data_ingestao\n",
    "Como a coluna foi criada como timestamp, vamos converter para apenas data"
   ]
  },
  {
   "cell_type": "code",
   "execution_count": 0,
   "metadata": {
    "application/vnd.databricks.v1+cell": {
     "cellMetadata": {
      "byteLimit": 2048000,
      "rowLimit": 10000
     },
     "inputWidgets": {},
     "nuid": "8c5f1569-e211-4019-8e5f-b77b70fa1429",
     "showTitle": false,
     "tableResultSettingsMap": {},
     "title": ""
    }
   },
   "outputs": [
    {
     "output_type": "stream",
     "name": "stdout",
     "output_type": "stream",
     "text": [
      "✅ Tabela 'categories' atualizada com 'data_ingestao' como DATE.\n✅ Tabela 'customers' atualizada com 'data_ingestao' como DATE.\n✅ Tabela 'employees' atualizada com 'data_ingestao' como DATE.\n✅ Tabela 'employee_territories' atualizada com 'data_ingestao' como DATE.\n✅ Tabela 'order_details' atualizada com 'data_ingestao' como DATE.\n✅ Tabela 'orders' atualizada com 'data_ingestao' como DATE.\n✅ Tabela 'products' atualizada com 'data_ingestao' como DATE.\n✅ Tabela 'regions' atualizada com 'data_ingestao' como DATE.\n✅ Tabela 'shippers' atualizada com 'data_ingestao' como DATE.\n✅ Tabela 'suppliers' atualizada com 'data_ingestao' como DATE.\n✅ Tabela 'territories' atualizada com 'data_ingestao' como DATE.\n"
     ]
    }
   ],
   "source": [
    "from pyspark.sql.functions import to_date\n",
    "\n",
    "# Lista das tabelas\n",
    "tabelas = [\n",
    "    \"categories\",\n",
    "    \"customers\",\n",
    "    \"employees\",\n",
    "    \"employee_territories\",\n",
    "    \"order_details\",\n",
    "    \"orders\",\n",
    "    \"products\",\n",
    "    \"regions\",\n",
    "    \"shippers\",\n",
    "    \"suppliers\",\n",
    "    \"territories\"\n",
    "]\n",
    "\n",
    "# Caminho base da camada prata\n",
    "caminho_prata = \"/FileStore/silver/\"\n",
    "\n",
    "for tabela in tabelas:\n",
    "    caminho = f\"{caminho_prata}{tabela}\"\n",
    "    \n",
    "    # Leitura\n",
    "    df = spark.read.format(\"delta\").load(caminho)\n",
    "\n",
    "    # Conversão do tipo de data_ingestao\n",
    "    df = df.withColumn(\"data_ingestao\", to_date(\"data_ingestao\"))\n",
    "\n",
    "    # Escrita com sobrescrita de esquema\n",
    "    df.write.format(\"delta\") \\\n",
    "        .mode(\"overwrite\") \\\n",
    "        .option(\"overwriteSchema\", \"true\") \\\n",
    "        .save(caminho)\n",
    "\n",
    "    print(f\"✅ Tabela '{tabela}' atualizada com 'data_ingestao' como DATE.\")\n"
   ]
  },
  {
   "cell_type": "code",
   "execution_count": 0,
   "metadata": {
    "application/vnd.databricks.v1+cell": {
     "cellMetadata": {
      "byteLimit": 2048000,
      "rowLimit": 10000
     },
     "inputWidgets": {},
     "nuid": "f8d10003-1b2a-482c-954c-08dee9a9e335",
     "showTitle": false,
     "tableResultSettingsMap": {},
     "title": ""
    }
   },
   "outputs": [
    {
     "output_type": "stream",
     "name": "stdout",
     "output_type": "stream",
     "text": [
      "✅ Arquivo gerado com sucesso!\nAcesse o link para download:\n➡️ https://community.cloud.databricks.com/files/dictionary/dicionario_dados_northwind.csv\n"
     ]
    }
   ],
   "source": [
    "from pyspark.sql.functions import col, min, max\n",
    "import pandas as pd\n",
    "import os\n",
    "\n",
    "# Lista de tabelas da camada Silver\n",
    "tabelas = [\n",
    "    \"categories\",\n",
    "    \"customers\",\n",
    "    \"employees\",\n",
    "    \"employee_territories\",\n",
    "    \"order_details\",\n",
    "    \"orders\",\n",
    "    \"products\",\n",
    "    \"regions\",\n",
    "    \"shippers\",\n",
    "    \"suppliers\",\n",
    "    \"territories\"\n",
    "]\n",
    "\n",
    "# Caminho base da camada Silver\n",
    "caminho_prata = \"/FileStore/silver/\"\n",
    "\n",
    "# Lista para armazenar os metadados\n",
    "catalogo_dados = []\n",
    "\n",
    "# Geração do catálogo\n",
    "for tabela in tabelas:\n",
    "    df = spark.read.format(\"delta\").load(f\"{caminho_prata}{tabela}\")\n",
    "    for nome_coluna, tipo in df.dtypes:\n",
    "        info = {\"tabela\": tabela, \"coluna\": nome_coluna, \"tipo\": tipo}\n",
    "        if tipo in ['int', 'double', 'float', 'bigint']:\n",
    "            stats = df.select(min(col(nome_coluna)).alias('min'), max(col(nome_coluna)).alias('max')).collect()[0]\n",
    "            info[\"dominio\"] = f\"Mín: {stats['min']}, Máx: {stats['max']}\"\n",
    "        elif tipo.startswith(\"date\") or tipo == \"timestamp\":\n",
    "            stats = df.select(min(col(nome_coluna)).alias('min'), max(col(nome_coluna)).alias('max')).collect()[0]\n",
    "            info[\"dominio\"] = f\"Data Mín: {stats['min']}, Data Máx: {stats['max']}\"\n",
    "        else:\n",
    "            valores = df.select(nome_coluna).distinct().limit(10).rdd.flatMap(lambda x: x).collect()\n",
    "            info[\"dominio\"] = f\"Exemplos: {valores}\"\n",
    "        catalogo_dados.append(info)\n",
    "\n",
    "# Converte para DataFrame do Pandas\n",
    "catalogo_df = pd.DataFrame(catalogo_dados)[[\"tabela\", \"coluna\", \"tipo\", \"dominio\"]]\n",
    "\n",
    "# Caminho para salvar no Databricks Community\n",
    "caminho_saida = \"/dbfs/FileStore/dictionary/dicionario_dados_northwind.csv\"\n",
    "\n",
    "# Cria diretório se não existir\n",
    "os.makedirs(os.path.dirname(caminho_saida), exist_ok=True)\n",
    "\n",
    "# Salva como CSV com acentuação correta\n",
    "catalogo_df.to_csv(caminho_saida, index=False, encoding=\"utf-8-sig\")\n",
    "\n",
    "print(\"✅ Arquivo gerado com sucesso!\")\n",
    "print(\"Acesse o link para download:\")\n",
    "print(\"➡️ https://community.cloud.databricks.com/files/dictionary/dicionario_dados_northwind.csv\")\n"
   ]
  },
  {
   "cell_type": "markdown",
   "metadata": {
    "application/vnd.databricks.v1+cell": {
     "cellMetadata": {},
     "inputWidgets": {},
     "nuid": "b4b54b50-61d9-46b4-a3cc-03d086b89908",
     "showTitle": false,
     "tableResultSettingsMap": {},
     "title": ""
    }
   },
   "source": [
    "### Momento de realizar o Load e criação do DW"
   ]
  },
  {
   "cell_type": "code",
   "execution_count": 0,
   "metadata": {
    "application/vnd.databricks.v1+cell": {
     "cellMetadata": {
      "byteLimit": 2048000,
      "rowLimit": 10000
     },
     "inputWidgets": {},
     "nuid": "5ea89f78-2e3a-4b59-b472-aa27e2f6d1bc",
     "showTitle": false,
     "tableResultSettingsMap": {},
     "title": ""
    }
   },
   "outputs": [
    {
     "output_type": "stream",
     "name": "stdout",
     "output_type": "stream",
     "text": [
      "Tabela categories registrada no banco northwind_dw.\nTabela customers registrada no banco northwind_dw.\nTabela employees registrada no banco northwind_dw.\nTabela employee_territories registrada no banco northwind_dw.\nTabela order_details registrada no banco northwind_dw.\nTabela orders registrada no banco northwind_dw.\nTabela products registrada no banco northwind_dw.\nTabela regions registrada no banco northwind_dw.\nTabela shippers registrada no banco northwind_dw.\nTabela suppliers registrada no banco northwind_dw.\nTabela territories registrada no banco northwind_dw.\n"
     ]
    }
   ],
   "source": [
    "spark.sql(\"CREATE DATABASE IF NOT EXISTS northwind_dw\")\n",
    "\n",
    "# Lista das tabelas\n",
    "tabelas = [\n",
    "    \"categories\",\n",
    "    \"customers\",\n",
    "    \"employees\",\n",
    "    \"employee_territories\",\n",
    "    \"order_details\",\n",
    "    \"orders\",\n",
    "    \"products\",\n",
    "    \"regions\",\n",
    "    \"shippers\",\n",
    "    \"suppliers\",\n",
    "    \"territories\"\n",
    "]\n",
    "\n",
    "# Caminho base da camada Silver\n",
    "caminho_prata = \"/FileStore/silver/\"\n",
    "\n",
    "# Loop para registrar cada tabela no catálogo do Databricks\n",
    "for tabela in tabelas:\n",
    "    df = spark.read.format(\"delta\").load(f\"{caminho_prata}{tabela}\")\n",
    "    # Registra como tabela permanente no Data Warehouse (northwind_dw)\n",
    "    df.write.format(\"delta\") \\\n",
    "      .mode(\"overwrite\") \\\n",
    "      .saveAsTable(f\"northwind_dw.{tabela}\")\n",
    "    print(f\"Tabela {tabela} registrada no banco northwind_dw.\")\n"
   ]
  },
  {
   "cell_type": "markdown",
   "metadata": {
    "application/vnd.databricks.v1+cell": {
     "cellMetadata": {},
     "inputWidgets": {},
     "nuid": "c7afd68c-0c10-4ec7-80d5-eeebfd3d80ea",
     "showTitle": false,
     "tableResultSettingsMap": {},
     "title": ""
    }
   },
   "source": [
    "## Análise e resposta das perguntas:\n",
    "### Tendência de Vendas ao Longo do Tempo\n",
    "Foi possível notar uma leve sazonalidade negativa nos meses de meio de ano. Enquanto que o mês de abril de 1998 foi o de melhor desempenho, esse desempenho foi acompanhado pelos seus meses precursores desde o mês de Outubro de 1997.\n",
    "Também ficou claro que o desempenho da empresa vem crescendo no longo prazo, uma vez que o ano de 1996 é o ano que está com piores desempenhos, enquanto que o ano de 1998 é o com melhor desempenho."
   ]
  },
  {
   "cell_type": "code",
   "execution_count": 0,
   "metadata": {
    "application/vnd.databricks.v1+cell": {
     "cellMetadata": {
      "byteLimit": 2048000,
      "implicitDf": true,
      "rowLimit": 10000
     },
     "inputWidgets": {},
     "nuid": "0561c652-f9f9-4859-868c-13707c650ede",
     "showTitle": false,
     "tableResultSettingsMap": {},
     "title": ""
    }
   },
   "outputs": [
    {
     "output_type": "display_data",
     "data": {
      "text/html": [
       "<style scoped>\n",
       "  .table-result-container {\n",
       "    max-height: 300px;\n",
       "    overflow: auto;\n",
       "  }\n",
       "  table, th, td {\n",
       "    border: 1px solid black;\n",
       "    border-collapse: collapse;\n",
       "  }\n",
       "  th, td {\n",
       "    padding: 5px;\n",
       "  }\n",
       "  th {\n",
       "    text-align: left;\n",
       "  }\n",
       "</style><div class='table-result-container'><table class='table-result'><thead style='background-color: white'><tr><th>mes</th><th>total_vendas</th></tr></thead><tbody><tr><td>1998-04-01T00:00:00.000+0000</td><td>134630.56</td></tr><tr><td>1998-03-01T00:00:00.000+0000</td><td>109825.44999999998</td></tr><tr><td>1998-02-01T00:00:00.000+0000</td><td>104561.94999999997</td></tr><tr><td>1998-01-01T00:00:00.000+0000</td><td>100854.72</td></tr><tr><td>1997-12-01T00:00:00.000+0000</td><td>77476.26</td></tr><tr><td>1997-10-01T00:00:00.000+0000</td><td>70328.50000000001</td></tr><tr><td>1997-01-01T00:00:00.000+0000</td><td>66692.8</td></tr><tr><td>1997-09-01T00:00:00.000+0000</td><td>59733.02</td></tr><tr><td>1997-05-01T00:00:00.000+0000</td><td>56823.700000000004</td></tr><tr><td>1997-04-01T00:00:00.000+0000</td><td>55699.39000000001</td></tr><tr><td>1997-07-01T00:00:00.000+0000</td><td>55464.93</td></tr><tr><td>1996-12-01T00:00:00.000+0000</td><td>50953.399999999994</td></tr><tr><td>1997-08-01T00:00:00.000+0000</td><td>49981.69</td></tr><tr><td>1996-11-01T00:00:00.000+0000</td><td>49703.99999999999</td></tr><tr><td>1997-11-01T00:00:00.000+0000</td><td>45913.35999999999</td></tr><tr><td>1997-02-01T00:00:00.000+0000</td><td>41207.200000000004</td></tr><tr><td>1996-10-01T00:00:00.000+0000</td><td>41203.6</td></tr><tr><td>1997-03-01T00:00:00.000+0000</td><td>39979.9</td></tr><tr><td>1997-06-01T00:00:00.000+0000</td><td>39088.0</td></tr><tr><td>1996-07-01T00:00:00.000+0000</td><td>30192.1</td></tr><tr><td>1996-09-01T00:00:00.000+0000</td><td>27636.0</td></tr><tr><td>1996-08-01T00:00:00.000+0000</td><td>26609.400000000005</td></tr><tr><td>1998-05-01T00:00:00.000+0000</td><td>19898.660000000003</td></tr></tbody></table></div>"
      ]
     },
     "metadata": {
      "application/vnd.databricks.v1+output": {
       "addedWidgets": {},
       "aggData": [],
       "aggError": "",
       "aggOverflow": false,
       "aggSchema": [],
       "aggSeriesLimitReached": false,
       "aggType": "",
       "arguments": {},
       "columnCustomDisplayInfos": {},
       "data": [
        [
         "1998-04-01T00:00:00.000+0000",
         134630.56
        ],
        [
         "1998-03-01T00:00:00.000+0000",
         109825.44999999998
        ],
        [
         "1998-02-01T00:00:00.000+0000",
         104561.94999999997
        ],
        [
         "1998-01-01T00:00:00.000+0000",
         100854.72
        ],
        [
         "1997-12-01T00:00:00.000+0000",
         77476.26
        ],
        [
         "1997-10-01T00:00:00.000+0000",
         70328.50000000001
        ],
        [
         "1997-01-01T00:00:00.000+0000",
         66692.8
        ],
        [
         "1997-09-01T00:00:00.000+0000",
         59733.02
        ],
        [
         "1997-05-01T00:00:00.000+0000",
         56823.700000000004
        ],
        [
         "1997-04-01T00:00:00.000+0000",
         55699.39000000001
        ],
        [
         "1997-07-01T00:00:00.000+0000",
         55464.93
        ],
        [
         "1996-12-01T00:00:00.000+0000",
         50953.399999999994
        ],
        [
         "1997-08-01T00:00:00.000+0000",
         49981.69
        ],
        [
         "1996-11-01T00:00:00.000+0000",
         49703.99999999999
        ],
        [
         "1997-11-01T00:00:00.000+0000",
         45913.35999999999
        ],
        [
         "1997-02-01T00:00:00.000+0000",
         41207.200000000004
        ],
        [
         "1996-10-01T00:00:00.000+0000",
         41203.6
        ],
        [
         "1997-03-01T00:00:00.000+0000",
         39979.9
        ],
        [
         "1997-06-01T00:00:00.000+0000",
         39088.0
        ],
        [
         "1996-07-01T00:00:00.000+0000",
         30192.1
        ],
        [
         "1996-09-01T00:00:00.000+0000",
         27636.0
        ],
        [
         "1996-08-01T00:00:00.000+0000",
         26609.400000000005
        ],
        [
         "1998-05-01T00:00:00.000+0000",
         19898.660000000003
        ]
       ],
       "datasetInfos": [],
       "dbfsResultPath": null,
       "isJsonSchema": true,
       "metadata": {},
       "overflow": false,
       "plotOptions": {
        "customPlotOptions": {},
        "displayType": "table",
        "pivotAggregation": null,
        "pivotColumns": null,
        "xColumns": null,
        "yColumns": null
       },
       "removedWidgets": [],
       "schema": [
        {
         "metadata": "{}",
         "name": "mes",
         "type": "\"timestamp\""
        },
        {
         "metadata": "{}",
         "name": "total_vendas",
         "type": "\"double\""
        }
       ],
       "type": "table"
      }
     },
     "output_type": "display_data"
    }
   ],
   "source": [
    "%sql\n",
    "SELECT \n",
    "    date_trunc('month', order_date) AS mes,\n",
    "    SUM(od.quantity * od.unit_price) AS total_vendas\n",
    "FROM northwind_dw.orders o\n",
    "JOIN northwind_dw.order_details od \n",
    "  ON o.order_id = od.order_id\n",
    "GROUP BY date_trunc('month', order_date)\n",
    "ORDER BY total_vendas DESC;"
   ]
  },
  {
   "cell_type": "markdown",
   "metadata": {
    "application/vnd.databricks.v1+cell": {
     "cellMetadata": {},
     "inputWidgets": {},
     "nuid": "5da82348-03e5-4d2a-a996-d1db115aa4d6",
     "showTitle": false,
     "tableResultSettingsMap": {},
     "title": ""
    }
   },
   "source": [
    "## Análise e resposta das perguntas:\n",
    "### Vendas por Região\n",
    "Essa foi uma das análises que foi prejudicada pela má ingestão de dados, provavelmente proveniente de um campo livre no sistema interno da empresa. Isso por que a coluna de região tem diversas informações nulas e/ou pouco padrozinadas. Enquanto Rio de Janeiro e Québec são regiões, temos estados com siglas como WA e OR. Dessa forma pouco pode ser presumido com relação a qual região que gera mais lucros. \n",
    "O fato é que podemos apenas afirmar que a região que tem a melhor padronização versus vendas parece ser a do Rio de Janeiro. No entanto o analista de dados deve refletir se Rio de Janeiro e São Paulo não deveriam ser tratados como uma região única chamada Brazil, ou até mesmo América do Sul ou Latina. Isso por que a empresa não é Brasileira e isso pode refletir melhor a sua posição global."
   ]
  },
  {
   "cell_type": "code",
   "execution_count": 0,
   "metadata": {
    "application/vnd.databricks.v1+cell": {
     "cellMetadata": {
      "byteLimit": 2048000,
      "implicitDf": true,
      "rowLimit": 10000
     },
     "inputWidgets": {},
     "nuid": "7ff689d2-fe7d-4b21-8352-2f847084ebe6",
     "showTitle": false,
     "tableResultSettingsMap": {},
     "title": ""
    }
   },
   "outputs": [
    {
     "output_type": "display_data",
     "data": {
      "text/html": [
       "<style scoped>\n",
       "  .table-result-container {\n",
       "    max-height: 300px;\n",
       "    overflow: auto;\n",
       "  }\n",
       "  table, th, td {\n",
       "    border: 1px solid black;\n",
       "    border-collapse: collapse;\n",
       "  }\n",
       "  th, td {\n",
       "    padding: 5px;\n",
       "  }\n",
       "  th {\n",
       "    text-align: left;\n",
       "  }\n",
       "</style><div class='table-result-container'><table class='table-result'><thead style='background-color: white'><tr><th>regiao</th><th>total_vendas</th></tr></thead><tbody><tr><td>NULL</td><td>678427.7500000001</td></tr><tr><td>ID</td><td>115673.39</td></tr><tr><td>Co. Cork</td><td>57317.39</td></tr><tr><td>Rio de Janeiro</td><td>53999.18</td></tr><tr><td>NM</td><td>52245.9</td></tr><tr><td>Sao Paulo</td><td>45786.37</td></tr><tr><td>Québec</td><td>32203.9</td></tr><tr><td>WA</td><td>31001.65</td></tr><tr><td>OR</td><td>30393.93</td></tr><tr><td>Charleroi</td><td>24704.399999999998</td></tr><tr><td>Marseille</td><td>23850.95</td></tr><tr><td>Táchira</td><td>23611.579999999998</td></tr><tr><td>BC</td><td>23130.2</td></tr><tr><td>Strasbourg</td><td>19088.0</td></tr><tr><td>Nueva Esparta</td><td>17889.550000000003</td></tr><tr><td>Lara</td><td>17825.06</td></tr><tr><td>AK</td><td>16325.15</td></tr><tr><td>WY</td><td>12489.7</td></tr><tr><td>Sevilla</td><td>11830.1</td></tr><tr><td>Lille</td><td>11666.9</td></tr><tr><td>Lyon</td><td>9937.1</td></tr><tr><td>Campinas</td><td>8702.23</td></tr><tr><td>Madrid</td><td>6765.09</td></tr><tr><td>Resende</td><td>6480.7</td></tr><tr><td>Isle of Wight</td><td>6146.3</td></tr><tr><td>Nantes</td><td>4788.06</td></tr><tr><td>CA</td><td>3490.02</td></tr><tr><td>Paris</td><td>2423.35</td></tr><tr><td>Versailles</td><td>1992.0500000000002</td></tr><tr><td>MT</td><td>1947.24</td></tr><tr><td>DF</td><td>1488.7</td></tr><tr><td>Barcelona</td><td>836.7</td></tr></tbody></table></div>"
      ]
     },
     "metadata": {
      "application/vnd.databricks.v1+output": {
       "addedWidgets": {},
       "aggData": [],
       "aggError": "",
       "aggOverflow": false,
       "aggSchema": [],
       "aggSeriesLimitReached": false,
       "aggType": "",
       "arguments": {},
       "columnCustomDisplayInfos": {},
       "data": [
        [
         "NULL",
         678427.7500000001
        ],
        [
         "ID",
         115673.39
        ],
        [
         "Co. Cork",
         57317.39
        ],
        [
         "Rio de Janeiro",
         53999.18
        ],
        [
         "NM",
         52245.9
        ],
        [
         "Sao Paulo",
         45786.37
        ],
        [
         "Québec",
         32203.9
        ],
        [
         "WA",
         31001.65
        ],
        [
         "OR",
         30393.93
        ],
        [
         "Charleroi",
         24704.399999999998
        ],
        [
         "Marseille",
         23850.95
        ],
        [
         "Táchira",
         23611.579999999998
        ],
        [
         "BC",
         23130.2
        ],
        [
         "Strasbourg",
         19088.0
        ],
        [
         "Nueva Esparta",
         17889.550000000003
        ],
        [
         "Lara",
         17825.06
        ],
        [
         "AK",
         16325.15
        ],
        [
         "WY",
         12489.7
        ],
        [
         "Sevilla",
         11830.1
        ],
        [
         "Lille",
         11666.9
        ],
        [
         "Lyon",
         9937.1
        ],
        [
         "Campinas",
         8702.23
        ],
        [
         "Madrid",
         6765.09
        ],
        [
         "Resende",
         6480.7
        ],
        [
         "Isle of Wight",
         6146.3
        ],
        [
         "Nantes",
         4788.06
        ],
        [
         "CA",
         3490.02
        ],
        [
         "Paris",
         2423.35
        ],
        [
         "Versailles",
         1992.0500000000002
        ],
        [
         "MT",
         1947.24
        ],
        [
         "DF",
         1488.7
        ],
        [
         "Barcelona",
         836.7
        ]
       ],
       "datasetInfos": [],
       "dbfsResultPath": null,
       "isJsonSchema": true,
       "metadata": {},
       "overflow": false,
       "plotOptions": {
        "customPlotOptions": {},
        "displayType": "table",
        "pivotAggregation": null,
        "pivotColumns": null,
        "xColumns": null,
        "yColumns": null
       },
       "removedWidgets": [],
       "schema": [
        {
         "metadata": "{}",
         "name": "regiao",
         "type": "\"string\""
        },
        {
         "metadata": "{}",
         "name": "total_vendas",
         "type": "\"double\""
        }
       ],
       "type": "table"
      }
     },
     "output_type": "display_data"
    }
   ],
   "source": [
    "%sql\n",
    "SELECT \n",
    "    c.region AS regiao,\n",
    "    SUM(od.quantity * od.unit_price) AS total_vendas\n",
    "FROM northwind_dw.orders o\n",
    "JOIN northwind_dw.order_details od \n",
    "  ON o.order_id = od.order_id\n",
    "JOIN northwind_dw.customers c \n",
    "  ON o.customer_id = c.customer_id\n",
    "GROUP BY c.region\n",
    "ORDER BY total_vendas DESC;\n"
   ]
  },
  {
   "cell_type": "markdown",
   "metadata": {
    "application/vnd.databricks.v1+cell": {
     "cellMetadata": {},
     "inputWidgets": {},
     "nuid": "412fac86-b1b8-4c77-99a0-8cf73c1b180c",
     "showTitle": false,
     "tableResultSettingsMap": {},
     "title": ""
    }
   },
   "source": [
    "## Análise e resposta das perguntas:\n",
    "### Contribuição de Cada Categoria nas Vendas\n",
    "Por fim, essa é uma análise que foi possível ser feita de modo completo uma vez que a tabela de categorias é uma das tabelas mais consistentes da base de dados da Northwind. \n",
    "É possível organizar o altíssimo desempenho de bebidas e produtos do dia a dia frente aos outros produtos da empresa. Uma vez que a categoria Bebidas demonstrou um ganho de cerca de 60% frente as carnes que são o 3º produto mais vendido pela empresa. Enquanto os dois produtos menos vendidos combinados não consegue nem chegar ao nível do segundo produto mais vendido, Dairy Products (produtos do dia a dia)"
   ]
  },
  {
   "cell_type": "code",
   "execution_count": 0,
   "metadata": {
    "application/vnd.databricks.v1+cell": {
     "cellMetadata": {
      "byteLimit": 2048000,
      "implicitDf": true,
      "rowLimit": 10000
     },
     "inputWidgets": {},
     "nuid": "db31441f-8d64-4fb3-b422-27793fb40452",
     "showTitle": false,
     "tableResultSettingsMap": {},
     "title": ""
    }
   },
   "outputs": [
    {
     "output_type": "display_data",
     "data": {
      "text/html": [
       "<style scoped>\n",
       "  .table-result-container {\n",
       "    max-height: 300px;\n",
       "    overflow: auto;\n",
       "  }\n",
       "  table, th, td {\n",
       "    border: 1px solid black;\n",
       "    border-collapse: collapse;\n",
       "  }\n",
       "  th, td {\n",
       "    padding: 5px;\n",
       "  }\n",
       "  th {\n",
       "    text-align: left;\n",
       "  }\n",
       "</style><div class='table-result-container'><table class='table-result'><thead style='background-color: white'><tr><th>category_name</th><th>total_vendas_categoria</th></tr></thead><tbody><tr><td>Beverages</td><td>286526.94999999995</td></tr><tr><td>Dairy Products</td><td>251330.5</td></tr><tr><td>Meat/Poultry</td><td>178188.80000000002</td></tr><tr><td>Confections</td><td>177099.09999999995</td></tr><tr><td>Seafood</td><td>141623.09000000003</td></tr><tr><td>Condiments</td><td>113694.75000000001</td></tr><tr><td>Produce</td><td>105268.6</td></tr><tr><td>Grains/Cereals</td><td>100726.8</td></tr></tbody></table></div>"
      ]
     },
     "metadata": {
      "application/vnd.databricks.v1+output": {
       "addedWidgets": {},
       "aggData": [],
       "aggError": "",
       "aggOverflow": false,
       "aggSchema": [],
       "aggSeriesLimitReached": false,
       "aggType": "",
       "arguments": {},
       "columnCustomDisplayInfos": {},
       "data": [
        [
         "Beverages",
         286526.94999999995
        ],
        [
         "Dairy Products",
         251330.5
        ],
        [
         "Meat/Poultry",
         178188.80000000002
        ],
        [
         "Confections",
         177099.09999999995
        ],
        [
         "Seafood",
         141623.09000000003
        ],
        [
         "Condiments",
         113694.75000000001
        ],
        [
         "Produce",
         105268.6
        ],
        [
         "Grains/Cereals",
         100726.8
        ]
       ],
       "datasetInfos": [],
       "dbfsResultPath": null,
       "isJsonSchema": true,
       "metadata": {},
       "overflow": false,
       "plotOptions": {
        "customPlotOptions": {},
        "displayType": "table",
        "pivotAggregation": null,
        "pivotColumns": null,
        "xColumns": null,
        "yColumns": null
       },
       "removedWidgets": [],
       "schema": [
        {
         "metadata": "{}",
         "name": "category_name",
         "type": "\"string\""
        },
        {
         "metadata": "{}",
         "name": "total_vendas_categoria",
         "type": "\"double\""
        }
       ],
       "type": "table"
      }
     },
     "output_type": "display_data"
    }
   ],
   "source": [
    "%sql\n",
    "SELECT \n",
    "    cat.category_name,\n",
    "    SUM(od.quantity * od.unit_price) AS total_vendas_categoria\n",
    "FROM northwind_dw.order_details od\n",
    "JOIN northwind_dw.products p \n",
    "  ON od.product_id = p.product_id\n",
    "JOIN northwind_dw.categories cat \n",
    "  ON p.category_id = cat.category_id\n",
    "GROUP BY cat.category_name\n",
    "ORDER BY total_vendas_categoria DESC;\n"
   ]
  }
 ],
 "metadata": {
  "application/vnd.databricks.v1+notebook": {
   "computePreferences": null,
   "dashboards": [],
   "environmentMetadata": null,
   "inputWidgetPreferences": null,
   "language": "python",
   "notebookMetadata": {
    "mostRecentlyExecutedCommandWithImplicitDF": {
     "commandId": 1388893571717010,
     "dataframes": [
      "_sqldf"
     ]
    },
    "pythonIndentUnit": 4
   },
   "notebookName": "MVP",
   "widgets": {}
  }
 },
 "nbformat": 4,
 "nbformat_minor": 0
}